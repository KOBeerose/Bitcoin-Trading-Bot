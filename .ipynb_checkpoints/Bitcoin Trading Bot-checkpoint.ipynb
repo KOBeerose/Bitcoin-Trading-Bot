{
 "cells": [
  {
   "cell_type": "markdown",
   "id": "da045ba9",
   "metadata": {},
   "source": [
    "<center><h1 style=\"color:#1a1a1a;\n",
    "                    font-size:3em\">\n",
    "        Python pour 📊 Data Science\n",
    "        </h1> \n",
    "        <h2 style=\"color:#1a1a1a;\n",
    "                    font-size:2em\">\n",
    "        Mini-Projet: Bitcoin Trading 🤖 Bot.\n",
    "       </h2>\n",
    "</center>"
   ]
  },
  {
   "cell_type": "markdown",
   "id": "1d7e074d",
   "metadata": {},
   "source": [
    "<div style=\"font-size:1.3em\">\n",
    "    <span>\n",
    "    Réalisé par :¶\n",
    "    </span>\n",
    "      <ul>\n",
    "         <li>ELGHABI Taha</li>\n",
    "         <li>ELBATOURI Badr-eddine</li>\n",
    "      </ul>\n",
    "    <span>\n",
    "    Encadré par :¶\n",
    "    </span>\n",
    "      <ul>\n",
    "         <li>Pr. H.Laanaya</li>\n",
    "      </ul>\n",
    "</div>"
   ]
  },
  {
   "cell_type": "markdown",
   "id": "ffa11e25",
   "metadata": {},
   "source": [
    "<div style=\"font-size:1.5em\">\n",
    "    <p>📜 Table des matières:</p>\n",
    "    <ul>\n",
    "       <li>\n",
    "          <a href=\"#Intro-section\">Introduction 📖</a>\n",
    "          <ul>\n",
    "              <br>\n",
    "             <li><a href=\"#overview\">Aperçu</a></li>\n",
    "             <li><a href=\"#dataset\">Jeu de données</a></li>\n",
    "              <br>\n",
    "          </ul>\n",
    "       </li>\n",
    "       <li>\n",
    "          <a href=\"#Intro-section\"> 📖</a>\n",
    "          <ul>\n",
    "              <br>\n",
    "             <li><a href=\"#overview\">Aperçu</a></li>\n",
    "             <li><a href=\"#dataset\">Jeu de données</a></li>\n",
    "              <br>\n",
    "          </ul>\n",
    "       </li>\n",
    "       <li>\n",
    "          <a href=\"#Analysis-section\">Analyses et Transformations 🔎</a>\n",
    "          <ul>\n",
    "              <br>\n",
    "             <li><a href=\"#eda\">Exploration de données</a></li>\n",
    "             <li><a href=\"#trans\">Transformation de données</a></li>\n",
    "             <li><a href=\"#vis\">Visualisation de données</a></li>\n",
    "              <br>\n",
    "          </ul>\n",
    "       </li>\n",
    "       <li>\n",
    "          <a href=\"#ml-basic\">Approache avec les modèles de base du Machine Learning 🛠️</a>\n",
    "          <ul>\n",
    "              <br>\n",
    "             <li><a href=\"#pre-processing\">Pré-traitement</a></li>\n",
    "             <li><a href=\"#model-building\">Construction des modèles</a></li>\n",
    "             <li><a href=\"#model-eval\">Evaluation des modèles</a></li>\n",
    "              <br>\n",
    "          </ul>\n",
    "       </li>\n",
    "       <li>\n",
    "          <a href=\"#ts\">Approache avec les séries chronologiques 📈</a>\n",
    "          <ul>\n",
    "              <br>\n",
    "             <li><a href=\"#ml-basic\">Modèles de base du ML </a></li>\n",
    "             <li><a href=\"#ANN\">Réseaux de neurones artificiels (ANN)</a></li>\n",
    "             <li><a href=\"#word-embd\">Word Embedding</a></li>\n",
    "             <li><a href=\"#cnn\">Réseau de Neurones convolutifs (CNN) avec Embedding</a></li>\n",
    "              <br>\n",
    "          </ul>\n",
    "       </li>\n",
    "       <li><a href=\"#demo\">Une démo live 🧮</a></li><br>\n",
    "       <li><a href=\"#Conclusion\">Conclusion 📌</a></li>\n",
    "    </ul>\n",
    "</div>"
   ]
  },
  {
   "cell_type": "markdown",
   "id": "d811d2f6",
   "metadata": {
    "papermill": {
     "duration": 0.117683,
     "end_time": "2022-01-24T22:25:51.210562",
     "exception": false,
     "start_time": "2022-01-24T22:25:51.092879",
     "status": "completed"
    },
    "tags": []
   },
   "source": [
    "<center id=\"Intro-section\">\n",
    "        <h2 style=\"color:#1a1a1a;\n",
    "                    font-size:2em\">\n",
    "        Introduction 📖\n",
    "        </h2>\n",
    "</center>"
   ]
  },
  {
   "cell_type": "markdown",
   "id": "b4ce0eb7",
   "metadata": {
    "papermill": {
     "duration": 0.115857,
     "end_time": "2022-01-24T22:25:51.441546",
     "exception": false,
     "start_time": "2022-01-24T22:25:51.325689",
     "status": "completed"
    },
    "tags": []
   },
   "source": [
    "<div id=\"overview\">\n",
    "        <h3 style=\"color:#1a1a1a;\n",
    "                    font-size:2em\">\n",
    "         ⮞  Aperçu\n",
    "        </h3>\n",
    "</div>"
   ]
  },
  {
   "cell_type": "markdown",
   "id": "f87493cb",
   "metadata": {
    "papermill": {
     "duration": 0.115342,
     "end_time": "2022-01-24T22:25:51.672889",
     "exception": false,
     "start_time": "2022-01-24T22:25:51.557547",
     "status": "completed"
    },
    "tags": []
   },
   "source": [
    "<span style=\"color:grey; font-size:1.2em\">Dans le cadre de notre etude Ce projet qui vise a Utilisation des <b>réseaux multi-couches</b> pour l’analyse des <b>sentiments</b> des phrases issues d’une base d’exemples qui contient des phrases étiquetées avec un sentiment positif ou négatif.\n",
    "</span>"
   ]
  },
  {
   "cell_type": "markdown",
   "id": "94a27d0d",
   "metadata": {
    "papermill": {
     "duration": 0.115593,
     "end_time": "2022-01-24T22:25:51.903673",
     "exception": false,
     "start_time": "2022-01-24T22:25:51.788080",
     "status": "completed"
    },
    "tags": []
   },
   "source": [
    "<div id=\"dataset\">\n",
    "        <h3 style=\"color:#1a1a1a;\n",
    "                    font-size:2em\">\n",
    "         ⮞  Jeu de données\n",
    "        </h3>\n",
    "</div>"
   ]
  },
  {
   "cell_type": "markdown",
   "id": "13104547",
   "metadata": {
    "papermill": {
     "duration": 0.11635,
     "end_time": "2022-01-24T22:25:52.135284",
     "exception": false,
     "start_time": "2022-01-24T22:25:52.018934",
     "status": "completed"
    },
    "tags": []
   },
   "source": [
    "\n",
    "<span style=\"color:grey; font-size:1.2em\">La série qu'on va traiter est <b> la température moyenne de Delhi</b>. Notre jeu de données contient des données de météo de<b> 2013 à 2017 échantillonnées</b>  chaque mois ainsi que des caractéristiques météorologiques supplémentaires telles que la pression, l'humidité, etc.</span>Commentaires client\n"
   ]
  },
  {
   "cell_type": "markdown",
   "id": "3d65fbf5",
   "metadata": {
    "execution": {
     "iopub.execute_input": "2022-01-24T17:58:30.813618Z",
     "iopub.status.busy": "2022-01-24T17:58:30.812022Z",
     "iopub.status.idle": "2022-01-24T17:58:30.824348Z"
    },
    "papermill": {
     "duration": 0.116276,
     "end_time": "2022-01-24T22:25:52.365622",
     "exception": false,
     "start_time": "2022-01-24T22:25:52.249346",
     "status": "completed"
    },
    "tags": []
   },
   "source": [
    "<center id=\"Analysis-section\">\n",
    "        <h2 style=\"color:#1a1a1a;\n",
    "                    font-size:2em\">\n",
    "        Analyses et Transformations 🔎\n",
    "        </h2>\n",
    "</center>"
   ]
  },
  {
   "cell_type": "markdown",
   "id": "19488b1a",
   "metadata": {
    "execution": {
     "iopub.execute_input": "2022-01-24T18:29:39.022907Z",
     "iopub.status.busy": "2022-01-24T18:29:39.021213Z",
     "iopub.status.idle": "2022-01-24T18:29:39.034502Z"
    },
    "papermill": {
     "duration": 0.114006,
     "end_time": "2022-01-24T22:25:52.593667",
     "exception": false,
     "start_time": "2022-01-24T22:25:52.479661",
     "status": "completed"
    },
    "tags": []
   },
   "source": [
    "<div id=\"eda\">\n",
    "        <h3 style=\"color:#1a1a1a;\n",
    "                    font-size:2em\">\n",
    "         ⮞  Exploration de données\n",
    "        </h3>\n",
    "</div>"
   ]
  },
  {
   "cell_type": "markdown",
   "id": "eb97cbe9",
   "metadata": {
    "execution": {
     "iopub.execute_input": "2022-01-24T18:49:49.523647Z",
     "iopub.status.busy": "2022-01-24T18:49:49.518861Z",
     "iopub.status.idle": "2022-01-24T18:49:49.594606Z"
    },
    "papermill": {
     "duration": 0.117693,
     "end_time": "2022-01-24T22:25:52.825553",
     "exception": false,
     "start_time": "2022-01-24T22:25:52.707860",
     "status": "completed"
    },
    "tags": []
   },
   "source": [
    "<h4 style=\"color:grey\"> Importation de bibliothèques </h4>"
   ]
  },
  {
   "cell_type": "code",
   "execution_count": 71,
   "id": "6876158a",
   "metadata": {
    "_execution_state": "idle",
    "_uuid": "051d70d956493feee0c6d64651c6a088724dca2a",
    "execution": {
     "iopub.execute_input": "2022-01-24T22:25:53.700769Z",
     "iopub.status.busy": "2022-01-24T22:25:53.698076Z",
     "iopub.status.idle": "2022-01-24T22:25:54.624800Z",
     "shell.execute_reply": "2022-01-24T22:25:54.623797Z"
    },
    "papermill": {
     "duration": 1.04718,
     "end_time": "2022-01-24T22:25:54.624910",
     "exception": false,
     "start_time": "2022-01-24T22:25:53.577730",
     "status": "completed"
    },
    "scrolled": true,
    "tags": []
   },
   "outputs": [],
   "source": [
    "# importer les bibliothèques nécessaires\n",
    "import pandas as pd\n",
    "import numpy as np\n",
    "\n",
    "import matplotlib.pyplot as plt\n"
   ]
  },
  {
   "cell_type": "code",
   "execution_count": 2,
   "id": "daa9c434",
   "metadata": {},
   "outputs": [],
   "source": [
    "#  ignorer les avertissements\n",
    "import warnings\n",
    "\n",
    "warnings.filterwarnings(\"ignore\")"
   ]
  },
  {
   "cell_type": "markdown",
   "id": "12695d7f",
   "metadata": {
    "papermill": {
     "duration": 0.117787,
     "end_time": "2022-01-24T22:25:54.862444",
     "exception": false,
     "start_time": "2022-01-24T22:25:54.744657",
     "status": "completed"
    },
    "tags": []
   },
   "source": [
    "<span style=\"color:grey; font-size:1.2em\">Important nos jeu de données sous les fichier <b>amazon_cells_labelled.txt</b> content les , <b>imdb_labelled.txt</b> et <b>yelp_labelled.txt</b> content  <b>csv</b>.</span>"
   ]
  },
  {
   "cell_type": "code",
   "execution_count": 3,
   "id": "44f420f5",
   "metadata": {
    "execution": {
     "iopub.execute_input": "2022-01-24T22:25:55.100382Z",
     "iopub.status.busy": "2022-01-24T22:25:55.098458Z",
     "iopub.status.idle": "2022-01-24T22:25:55.134914Z",
     "shell.execute_reply": "2022-01-24T22:25:55.133327Z"
    },
    "papermill": {
     "duration": 0.1566,
     "end_time": "2022-01-24T22:25:55.135072",
     "exception": false,
     "start_time": "2022-01-24T22:25:54.978472",
     "status": "completed"
    },
    "tags": []
   },
   "outputs": [],
   "source": [
    "# Dataset d'amazon\n",
    "BTC_Data = pd.read_csv(\"Data/BTC-USD.csv\")"
   ]
  },
  {
   "cell_type": "markdown",
   "id": "f59a8d55",
   "metadata": {
    "papermill": {
     "duration": 0.121498,
     "end_time": "2022-01-24T22:25:55.387049",
     "exception": false,
     "start_time": "2022-01-24T22:25:55.265551",
     "status": "completed"
    },
    "tags": []
   },
   "source": [
    "<h4 style=\"color:grey\"> Explorant notre jeu de données </h4>"
   ]
  },
  {
   "cell_type": "code",
   "execution_count": 4,
   "id": "5217df97",
   "metadata": {
    "execution": {
     "iopub.execute_input": "2022-01-24T22:25:55.638744Z",
     "iopub.status.busy": "2022-01-24T22:25:55.636403Z",
     "iopub.status.idle": "2022-01-24T22:25:55.674496Z",
     "shell.execute_reply": "2022-01-24T22:25:55.672428Z"
    },
    "papermill": {
     "duration": 0.163141,
     "end_time": "2022-01-24T22:25:55.674611",
     "exception": false,
     "start_time": "2022-01-24T22:25:55.511470",
     "status": "completed"
    },
    "scrolled": false,
    "tags": []
   },
   "outputs": [
    {
     "data": {
      "text/html": [
       "<div>\n",
       "<style scoped>\n",
       "    .dataframe tbody tr th:only-of-type {\n",
       "        vertical-align: middle;\n",
       "    }\n",
       "\n",
       "    .dataframe tbody tr th {\n",
       "        vertical-align: top;\n",
       "    }\n",
       "\n",
       "    .dataframe thead th {\n",
       "        text-align: right;\n",
       "    }\n",
       "</style>\n",
       "<table border=\"1\" class=\"dataframe\">\n",
       "  <thead>\n",
       "    <tr style=\"text-align: right;\">\n",
       "      <th></th>\n",
       "      <th>Date</th>\n",
       "      <th>Open</th>\n",
       "      <th>High</th>\n",
       "      <th>Low</th>\n",
       "      <th>Close</th>\n",
       "      <th>Adj Close</th>\n",
       "      <th>Volume</th>\n",
       "    </tr>\n",
       "  </thead>\n",
       "  <tbody>\n",
       "    <tr>\n",
       "      <th>0</th>\n",
       "      <td>2015-01-01</td>\n",
       "      <td>320.434998</td>\n",
       "      <td>320.434998</td>\n",
       "      <td>314.002991</td>\n",
       "      <td>314.248993</td>\n",
       "      <td>314.248993</td>\n",
       "      <td>8036550</td>\n",
       "    </tr>\n",
       "    <tr>\n",
       "      <th>1</th>\n",
       "      <td>2015-01-02</td>\n",
       "      <td>314.079010</td>\n",
       "      <td>315.838989</td>\n",
       "      <td>313.565002</td>\n",
       "      <td>315.032013</td>\n",
       "      <td>315.032013</td>\n",
       "      <td>7860650</td>\n",
       "    </tr>\n",
       "    <tr>\n",
       "      <th>2</th>\n",
       "      <td>2015-01-03</td>\n",
       "      <td>314.846008</td>\n",
       "      <td>315.149994</td>\n",
       "      <td>281.082001</td>\n",
       "      <td>281.082001</td>\n",
       "      <td>281.082001</td>\n",
       "      <td>33054400</td>\n",
       "    </tr>\n",
       "    <tr>\n",
       "      <th>3</th>\n",
       "      <td>2015-01-04</td>\n",
       "      <td>281.145996</td>\n",
       "      <td>287.230011</td>\n",
       "      <td>257.612000</td>\n",
       "      <td>264.195007</td>\n",
       "      <td>264.195007</td>\n",
       "      <td>55629100</td>\n",
       "    </tr>\n",
       "    <tr>\n",
       "      <th>4</th>\n",
       "      <td>2015-01-05</td>\n",
       "      <td>265.084015</td>\n",
       "      <td>278.341003</td>\n",
       "      <td>265.084015</td>\n",
       "      <td>274.473999</td>\n",
       "      <td>274.473999</td>\n",
       "      <td>43962800</td>\n",
       "    </tr>\n",
       "  </tbody>\n",
       "</table>\n",
       "</div>"
      ],
      "text/plain": [
       "         Date        Open        High         Low       Close   Adj Close  \\\n",
       "0  2015-01-01  320.434998  320.434998  314.002991  314.248993  314.248993   \n",
       "1  2015-01-02  314.079010  315.838989  313.565002  315.032013  315.032013   \n",
       "2  2015-01-03  314.846008  315.149994  281.082001  281.082001  281.082001   \n",
       "3  2015-01-04  281.145996  287.230011  257.612000  264.195007  264.195007   \n",
       "4  2015-01-05  265.084015  278.341003  265.084015  274.473999  274.473999   \n",
       "\n",
       "     Volume  \n",
       "0   8036550  \n",
       "1   7860650  \n",
       "2  33054400  \n",
       "3  55629100  \n",
       "4  43962800  "
      ]
     },
     "execution_count": 4,
     "metadata": {},
     "output_type": "execute_result"
    }
   ],
   "source": [
    "BTC_Data.head()"
   ]
  },
  {
   "cell_type": "code",
   "execution_count": 5,
   "id": "1b571ae7",
   "metadata": {},
   "outputs": [
    {
     "data": {
      "text/html": [
       "<div>\n",
       "<style scoped>\n",
       "    .dataframe tbody tr th:only-of-type {\n",
       "        vertical-align: middle;\n",
       "    }\n",
       "\n",
       "    .dataframe tbody tr th {\n",
       "        vertical-align: top;\n",
       "    }\n",
       "\n",
       "    .dataframe thead th {\n",
       "        text-align: right;\n",
       "    }\n",
       "</style>\n",
       "<table border=\"1\" class=\"dataframe\">\n",
       "  <thead>\n",
       "    <tr style=\"text-align: right;\">\n",
       "      <th></th>\n",
       "      <th>Date</th>\n",
       "      <th>Open</th>\n",
       "      <th>High</th>\n",
       "      <th>Low</th>\n",
       "      <th>Close</th>\n",
       "      <th>Adj Close</th>\n",
       "      <th>Volume</th>\n",
       "    </tr>\n",
       "  </thead>\n",
       "  <tbody>\n",
       "    <tr>\n",
       "      <th>2582</th>\n",
       "      <td>2022-01-26</td>\n",
       "      <td>36950.515625</td>\n",
       "      <td>38825.410156</td>\n",
       "      <td>36374.906250</td>\n",
       "      <td>36852.121094</td>\n",
       "      <td>36852.121094</td>\n",
       "      <td>31324598034</td>\n",
       "    </tr>\n",
       "    <tr>\n",
       "      <th>2583</th>\n",
       "      <td>2022-01-27</td>\n",
       "      <td>36841.878906</td>\n",
       "      <td>37148.324219</td>\n",
       "      <td>35629.281250</td>\n",
       "      <td>37138.234375</td>\n",
       "      <td>37138.234375</td>\n",
       "      <td>25041426629</td>\n",
       "    </tr>\n",
       "    <tr>\n",
       "      <th>2584</th>\n",
       "      <td>2022-01-28</td>\n",
       "      <td>37128.445313</td>\n",
       "      <td>37952.878906</td>\n",
       "      <td>36211.109375</td>\n",
       "      <td>37784.332031</td>\n",
       "      <td>37784.332031</td>\n",
       "      <td>22238830523</td>\n",
       "    </tr>\n",
       "    <tr>\n",
       "      <th>2585</th>\n",
       "      <td>2022-01-29</td>\n",
       "      <td>37780.714844</td>\n",
       "      <td>38576.261719</td>\n",
       "      <td>37406.472656</td>\n",
       "      <td>38138.179688</td>\n",
       "      <td>38138.179688</td>\n",
       "      <td>17194183075</td>\n",
       "    </tr>\n",
       "    <tr>\n",
       "      <th>2586</th>\n",
       "      <td>2022-01-30</td>\n",
       "      <td>38141.054688</td>\n",
       "      <td>38257.039063</td>\n",
       "      <td>37445.589844</td>\n",
       "      <td>37658.375000</td>\n",
       "      <td>37658.375000</td>\n",
       "      <td>15078688768</td>\n",
       "    </tr>\n",
       "  </tbody>\n",
       "</table>\n",
       "</div>"
      ],
      "text/plain": [
       "            Date          Open          High           Low         Close  \\\n",
       "2582  2022-01-26  36950.515625  38825.410156  36374.906250  36852.121094   \n",
       "2583  2022-01-27  36841.878906  37148.324219  35629.281250  37138.234375   \n",
       "2584  2022-01-28  37128.445313  37952.878906  36211.109375  37784.332031   \n",
       "2585  2022-01-29  37780.714844  38576.261719  37406.472656  38138.179688   \n",
       "2586  2022-01-30  38141.054688  38257.039063  37445.589844  37658.375000   \n",
       "\n",
       "         Adj Close       Volume  \n",
       "2582  36852.121094  31324598034  \n",
       "2583  37138.234375  25041426629  \n",
       "2584  37784.332031  22238830523  \n",
       "2585  38138.179688  17194183075  \n",
       "2586  37658.375000  15078688768  "
      ]
     },
     "execution_count": 5,
     "metadata": {},
     "output_type": "execute_result"
    }
   ],
   "source": [
    "BTC_Data.tail()"
   ]
  },
  {
   "cell_type": "markdown",
   "id": "e5752fea",
   "metadata": {},
   "source": [
    "<span style=\"color:grey; font-size:1.2em\">Un aperçu des données en utilisant les fonctions <b>info()</b> et <b>describe()</b> du pandas pour examiner les données. </span>"
   ]
  },
  {
   "cell_type": "code",
   "execution_count": 6,
   "id": "eec7721a",
   "metadata": {},
   "outputs": [
    {
     "name": "stdout",
     "output_type": "stream",
     "text": [
      "<class 'pandas.core.frame.DataFrame'>\n",
      "RangeIndex: 2587 entries, 0 to 2586\n",
      "Data columns (total 7 columns):\n",
      " #   Column     Non-Null Count  Dtype  \n",
      "---  ------     --------------  -----  \n",
      " 0   Date       2587 non-null   object \n",
      " 1   Open       2587 non-null   float64\n",
      " 2   High       2587 non-null   float64\n",
      " 3   Low        2587 non-null   float64\n",
      " 4   Close      2587 non-null   float64\n",
      " 5   Adj Close  2587 non-null   float64\n",
      " 6   Volume     2587 non-null   int64  \n",
      "dtypes: float64(5), int64(1), object(1)\n",
      "memory usage: 141.6+ KB\n"
     ]
    }
   ],
   "source": [
    "# Types de données\n",
    "BTC_Data.info()"
   ]
  },
  {
   "cell_type": "code",
   "execution_count": 7,
   "id": "615cd9b6",
   "metadata": {},
   "outputs": [
    {
     "data": {
      "text/html": [
       "<div>\n",
       "<style scoped>\n",
       "    .dataframe tbody tr th:only-of-type {\n",
       "        vertical-align: middle;\n",
       "    }\n",
       "\n",
       "    .dataframe tbody tr th {\n",
       "        vertical-align: top;\n",
       "    }\n",
       "\n",
       "    .dataframe thead th {\n",
       "        text-align: right;\n",
       "    }\n",
       "</style>\n",
       "<table border=\"1\" class=\"dataframe\">\n",
       "  <thead>\n",
       "    <tr style=\"text-align: right;\">\n",
       "      <th></th>\n",
       "      <th>Open</th>\n",
       "      <th>High</th>\n",
       "      <th>Low</th>\n",
       "      <th>Close</th>\n",
       "      <th>Adj Close</th>\n",
       "      <th>Volume</th>\n",
       "    </tr>\n",
       "  </thead>\n",
       "  <tbody>\n",
       "    <tr>\n",
       "      <th>count</th>\n",
       "      <td>2587.000000</td>\n",
       "      <td>2587.000000</td>\n",
       "      <td>2587.000000</td>\n",
       "      <td>2587.000000</td>\n",
       "      <td>2587.000000</td>\n",
       "      <td>2.587000e+03</td>\n",
       "    </tr>\n",
       "    <tr>\n",
       "      <th>mean</th>\n",
       "      <td>11526.557998</td>\n",
       "      <td>11837.441885</td>\n",
       "      <td>11181.636432</td>\n",
       "      <td>11539.137727</td>\n",
       "      <td>11539.137727</td>\n",
       "      <td>1.524369e+10</td>\n",
       "    </tr>\n",
       "    <tr>\n",
       "      <th>std</th>\n",
       "      <td>16125.451732</td>\n",
       "      <td>16560.213737</td>\n",
       "      <td>15620.581779</td>\n",
       "      <td>16127.693179</td>\n",
       "      <td>16127.693179</td>\n",
       "      <td>2.025705e+10</td>\n",
       "    </tr>\n",
       "    <tr>\n",
       "      <th>min</th>\n",
       "      <td>176.897003</td>\n",
       "      <td>211.731003</td>\n",
       "      <td>171.509995</td>\n",
       "      <td>178.102997</td>\n",
       "      <td>178.102997</td>\n",
       "      <td>7.860650e+06</td>\n",
       "    </tr>\n",
       "    <tr>\n",
       "      <th>25%</th>\n",
       "      <td>668.401001</td>\n",
       "      <td>682.131500</td>\n",
       "      <td>659.186981</td>\n",
       "      <td>671.705506</td>\n",
       "      <td>671.705506</td>\n",
       "      <td>9.976850e+07</td>\n",
       "    </tr>\n",
       "    <tr>\n",
       "      <th>50%</th>\n",
       "      <td>6472.359863</td>\n",
       "      <td>6571.459961</td>\n",
       "      <td>6371.339844</td>\n",
       "      <td>6476.290039</td>\n",
       "      <td>6476.290039</td>\n",
       "      <td>5.482196e+09</td>\n",
       "    </tr>\n",
       "    <tr>\n",
       "      <th>75%</th>\n",
       "      <td>10588.433594</td>\n",
       "      <td>10853.628907</td>\n",
       "      <td>10291.997071</td>\n",
       "      <td>10596.799317</td>\n",
       "      <td>10596.799317</td>\n",
       "      <td>2.553415e+10</td>\n",
       "    </tr>\n",
       "    <tr>\n",
       "      <th>max</th>\n",
       "      <td>67549.734375</td>\n",
       "      <td>68789.625000</td>\n",
       "      <td>66382.062500</td>\n",
       "      <td>67566.828125</td>\n",
       "      <td>67566.828125</td>\n",
       "      <td>3.509679e+11</td>\n",
       "    </tr>\n",
       "  </tbody>\n",
       "</table>\n",
       "</div>"
      ],
      "text/plain": [
       "               Open          High           Low         Close     Adj Close  \\\n",
       "count   2587.000000   2587.000000   2587.000000   2587.000000   2587.000000   \n",
       "mean   11526.557998  11837.441885  11181.636432  11539.137727  11539.137727   \n",
       "std    16125.451732  16560.213737  15620.581779  16127.693179  16127.693179   \n",
       "min      176.897003    211.731003    171.509995    178.102997    178.102997   \n",
       "25%      668.401001    682.131500    659.186981    671.705506    671.705506   \n",
       "50%     6472.359863   6571.459961   6371.339844   6476.290039   6476.290039   \n",
       "75%    10588.433594  10853.628907  10291.997071  10596.799317  10596.799317   \n",
       "max    67549.734375  68789.625000  66382.062500  67566.828125  67566.828125   \n",
       "\n",
       "             Volume  \n",
       "count  2.587000e+03  \n",
       "mean   1.524369e+10  \n",
       "std    2.025705e+10  \n",
       "min    7.860650e+06  \n",
       "25%    9.976850e+07  \n",
       "50%    5.482196e+09  \n",
       "75%    2.553415e+10  \n",
       "max    3.509679e+11  "
      ]
     },
     "execution_count": 7,
     "metadata": {},
     "output_type": "execute_result"
    }
   ],
   "source": [
    "# description des données numériques\n",
    "BTC_Data.describe()"
   ]
  },
  {
   "cell_type": "code",
   "execution_count": 8,
   "id": "833fd76e",
   "metadata": {},
   "outputs": [
    {
     "name": "stdout",
     "output_type": "stream",
     "text": [
      "Le nombre de cellule vides dans notre dataset est :\n",
      "Date         0\n",
      "Open         0\n",
      "High         0\n",
      "Low          0\n",
      "Close        0\n",
      "Adj Close    0\n",
      "Volume       0\n",
      "dtype: int64\n"
     ]
    }
   ],
   "source": [
    "# Cellules vides\n",
    "print(f\"Le nombre de cellule vides dans notre dataset est :\\n{BTC_Data.isna().sum()}\")"
   ]
  },
  {
   "cell_type": "markdown",
   "id": "998013f4",
   "metadata": {},
   "source": [
    "<span style=\"color:grey; font-size:1.2em\">Les données n'ont pas de <b>valeurs manquantes</b>, nous n'effectuerons donc pas un <b>nettoyage des données.</b> </span>"
   ]
  },
  {
   "cell_type": "markdown",
   "id": "999dc9eb",
   "metadata": {},
   "source": [
    "<div id=\"trans\">\n",
    "        <h3 style=\"color:#1a1a1a;\n",
    "                    font-size:2em\">\n",
    "         ⮞  Transformation de données\n",
    "        </h3>\n",
    "</div>"
   ]
  },
  {
   "cell_type": "markdown",
   "id": "d8a2ef42",
   "metadata": {},
   "source": [
    "\n",
    "<span style=\"color:grey; font-size:1.2em\">Nous définissons la colonne <b>Date</b> comme index de notre Dataframe.</span>  "
   ]
  },
  {
   "cell_type": "code",
   "execution_count": 9,
   "id": "f1766094",
   "metadata": {},
   "outputs": [],
   "source": [
    "BTC_Data = BTC_Data.set_index('Date', drop=True)"
   ]
  },
  {
   "cell_type": "markdown",
   "id": "f226a036",
   "metadata": {},
   "source": [
    "<span style=\"color:grey; font-size:1.2em\">Nous ne conservons que les données après le <b>01/01/2020</b> comme demandé.</span>  \n"
   ]
  },
  {
   "cell_type": "code",
   "execution_count": 10,
   "id": "d0703070",
   "metadata": {},
   "outputs": [],
   "source": [
    "BTC_Data = BTC_Data[BTC_Data.index>='2020-01-01']"
   ]
  },
  {
   "cell_type": "markdown",
   "id": "aa934de4",
   "metadata": {},
   "source": [
    "<span style=\"color:grey; font-size:1.2em\">Explorant donc le nouveau Dataframe.</span>  \n"
   ]
  },
  {
   "cell_type": "code",
   "execution_count": 11,
   "id": "9924caa4",
   "metadata": {
    "scrolled": true
   },
   "outputs": [
    {
     "data": {
      "text/html": [
       "<div>\n",
       "<style scoped>\n",
       "    .dataframe tbody tr th:only-of-type {\n",
       "        vertical-align: middle;\n",
       "    }\n",
       "\n",
       "    .dataframe tbody tr th {\n",
       "        vertical-align: top;\n",
       "    }\n",
       "\n",
       "    .dataframe thead th {\n",
       "        text-align: right;\n",
       "    }\n",
       "</style>\n",
       "<table border=\"1\" class=\"dataframe\">\n",
       "  <thead>\n",
       "    <tr style=\"text-align: right;\">\n",
       "      <th></th>\n",
       "      <th>Open</th>\n",
       "      <th>High</th>\n",
       "      <th>Low</th>\n",
       "      <th>Close</th>\n",
       "      <th>Adj Close</th>\n",
       "      <th>Volume</th>\n",
       "    </tr>\n",
       "    <tr>\n",
       "      <th>Date</th>\n",
       "      <th></th>\n",
       "      <th></th>\n",
       "      <th></th>\n",
       "      <th></th>\n",
       "      <th></th>\n",
       "      <th></th>\n",
       "    </tr>\n",
       "  </thead>\n",
       "  <tbody>\n",
       "    <tr>\n",
       "      <th>2020-01-01</th>\n",
       "      <td>7194.892090</td>\n",
       "      <td>7254.330566</td>\n",
       "      <td>7174.944336</td>\n",
       "      <td>7200.174316</td>\n",
       "      <td>7200.174316</td>\n",
       "      <td>18565664997</td>\n",
       "    </tr>\n",
       "    <tr>\n",
       "      <th>2020-01-02</th>\n",
       "      <td>7202.551270</td>\n",
       "      <td>7212.155273</td>\n",
       "      <td>6935.270020</td>\n",
       "      <td>6985.470215</td>\n",
       "      <td>6985.470215</td>\n",
       "      <td>20802083465</td>\n",
       "    </tr>\n",
       "    <tr>\n",
       "      <th>2020-01-03</th>\n",
       "      <td>6984.428711</td>\n",
       "      <td>7413.715332</td>\n",
       "      <td>6914.996094</td>\n",
       "      <td>7344.884277</td>\n",
       "      <td>7344.884277</td>\n",
       "      <td>28111481032</td>\n",
       "    </tr>\n",
       "    <tr>\n",
       "      <th>2020-01-04</th>\n",
       "      <td>7345.375488</td>\n",
       "      <td>7427.385742</td>\n",
       "      <td>7309.514160</td>\n",
       "      <td>7410.656738</td>\n",
       "      <td>7410.656738</td>\n",
       "      <td>18444271275</td>\n",
       "    </tr>\n",
       "    <tr>\n",
       "      <th>2020-01-05</th>\n",
       "      <td>7410.451660</td>\n",
       "      <td>7544.497070</td>\n",
       "      <td>7400.535645</td>\n",
       "      <td>7411.317383</td>\n",
       "      <td>7411.317383</td>\n",
       "      <td>19725074095</td>\n",
       "    </tr>\n",
       "  </tbody>\n",
       "</table>\n",
       "</div>"
      ],
      "text/plain": [
       "                   Open         High          Low        Close    Adj Close  \\\n",
       "Date                                                                          \n",
       "2020-01-01  7194.892090  7254.330566  7174.944336  7200.174316  7200.174316   \n",
       "2020-01-02  7202.551270  7212.155273  6935.270020  6985.470215  6985.470215   \n",
       "2020-01-03  6984.428711  7413.715332  6914.996094  7344.884277  7344.884277   \n",
       "2020-01-04  7345.375488  7427.385742  7309.514160  7410.656738  7410.656738   \n",
       "2020-01-05  7410.451660  7544.497070  7400.535645  7411.317383  7411.317383   \n",
       "\n",
       "                 Volume  \n",
       "Date                     \n",
       "2020-01-01  18565664997  \n",
       "2020-01-02  20802083465  \n",
       "2020-01-03  28111481032  \n",
       "2020-01-04  18444271275  \n",
       "2020-01-05  19725074095  "
      ]
     },
     "execution_count": 11,
     "metadata": {},
     "output_type": "execute_result"
    }
   ],
   "source": [
    "BTC_Data.head()"
   ]
  },
  {
   "cell_type": "code",
   "execution_count": 12,
   "id": "b52035e6",
   "metadata": {
    "scrolled": true
   },
   "outputs": [
    {
     "name": "stdout",
     "output_type": "stream",
     "text": [
      "<class 'pandas.core.frame.DataFrame'>\n",
      "Index: 761 entries, 2020-01-01 to 2022-01-30\n",
      "Data columns (total 6 columns):\n",
      " #   Column     Non-Null Count  Dtype  \n",
      "---  ------     --------------  -----  \n",
      " 0   Open       761 non-null    float64\n",
      " 1   High       761 non-null    float64\n",
      " 2   Low        761 non-null    float64\n",
      " 3   Close      761 non-null    float64\n",
      " 4   Adj Close  761 non-null    float64\n",
      " 5   Volume     761 non-null    int64  \n",
      "dtypes: float64(5), int64(1)\n",
      "memory usage: 41.6+ KB\n"
     ]
    }
   ],
   "source": [
    "BTC_Data.info()"
   ]
  },
  {
   "cell_type": "code",
   "execution_count": 13,
   "id": "2d55270e",
   "metadata": {
    "scrolled": false
   },
   "outputs": [
    {
     "data": {
      "text/html": [
       "<div>\n",
       "<style scoped>\n",
       "    .dataframe tbody tr th:only-of-type {\n",
       "        vertical-align: middle;\n",
       "    }\n",
       "\n",
       "    .dataframe tbody tr th {\n",
       "        vertical-align: top;\n",
       "    }\n",
       "\n",
       "    .dataframe thead th {\n",
       "        text-align: right;\n",
       "    }\n",
       "</style>\n",
       "<table border=\"1\" class=\"dataframe\">\n",
       "  <thead>\n",
       "    <tr style=\"text-align: right;\">\n",
       "      <th></th>\n",
       "      <th>Open</th>\n",
       "      <th>High</th>\n",
       "      <th>Low</th>\n",
       "      <th>Close</th>\n",
       "      <th>Adj Close</th>\n",
       "      <th>Volume</th>\n",
       "    </tr>\n",
       "  </thead>\n",
       "  <tbody>\n",
       "    <tr>\n",
       "      <th>count</th>\n",
       "      <td>761.000000</td>\n",
       "      <td>761.000000</td>\n",
       "      <td>761.000000</td>\n",
       "      <td>761.000000</td>\n",
       "      <td>761.000000</td>\n",
       "      <td>7.610000e+02</td>\n",
       "    </tr>\n",
       "    <tr>\n",
       "      <th>mean</th>\n",
       "      <td>29688.614278</td>\n",
       "      <td>30486.994229</td>\n",
       "      <td>28796.105450</td>\n",
       "      <td>29722.574654</td>\n",
       "      <td>29722.574654</td>\n",
       "      <td>3.968731e+10</td>\n",
       "    </tr>\n",
       "    <tr>\n",
       "      <th>std</th>\n",
       "      <td>19460.961155</td>\n",
       "      <td>19976.294647</td>\n",
       "      <td>18839.573029</td>\n",
       "      <td>19439.046678</td>\n",
       "      <td>19439.046678</td>\n",
       "      <td>2.042345e+10</td>\n",
       "    </tr>\n",
       "    <tr>\n",
       "      <th>min</th>\n",
       "      <td>5002.578125</td>\n",
       "      <td>5331.833984</td>\n",
       "      <td>4106.980957</td>\n",
       "      <td>4970.788086</td>\n",
       "      <td>4970.788086</td>\n",
       "      <td>1.225260e+10</td>\n",
       "    </tr>\n",
       "    <tr>\n",
       "      <th>25%</th>\n",
       "      <td>9793.070313</td>\n",
       "      <td>9938.297852</td>\n",
       "      <td>9632.382813</td>\n",
       "      <td>9795.943359</td>\n",
       "      <td>9795.943359</td>\n",
       "      <td>2.705580e+10</td>\n",
       "    </tr>\n",
       "    <tr>\n",
       "      <th>50%</th>\n",
       "      <td>32129.408203</td>\n",
       "      <td>33159.640625</td>\n",
       "      <td>30681.496094</td>\n",
       "      <td>32127.267578</td>\n",
       "      <td>32127.267578</td>\n",
       "      <td>3.583803e+10</td>\n",
       "    </tr>\n",
       "    <tr>\n",
       "      <th>75%</th>\n",
       "      <td>47491.203125</td>\n",
       "      <td>48745.734375</td>\n",
       "      <td>46424.496094</td>\n",
       "      <td>47345.218750</td>\n",
       "      <td>47345.218750</td>\n",
       "      <td>4.693700e+10</td>\n",
       "    </tr>\n",
       "    <tr>\n",
       "      <th>max</th>\n",
       "      <td>67549.734375</td>\n",
       "      <td>68789.625000</td>\n",
       "      <td>66382.062500</td>\n",
       "      <td>67566.828125</td>\n",
       "      <td>67566.828125</td>\n",
       "      <td>3.509679e+11</td>\n",
       "    </tr>\n",
       "  </tbody>\n",
       "</table>\n",
       "</div>"
      ],
      "text/plain": [
       "               Open          High           Low         Close     Adj Close  \\\n",
       "count    761.000000    761.000000    761.000000    761.000000    761.000000   \n",
       "mean   29688.614278  30486.994229  28796.105450  29722.574654  29722.574654   \n",
       "std    19460.961155  19976.294647  18839.573029  19439.046678  19439.046678   \n",
       "min     5002.578125   5331.833984   4106.980957   4970.788086   4970.788086   \n",
       "25%     9793.070313   9938.297852   9632.382813   9795.943359   9795.943359   \n",
       "50%    32129.408203  33159.640625  30681.496094  32127.267578  32127.267578   \n",
       "75%    47491.203125  48745.734375  46424.496094  47345.218750  47345.218750   \n",
       "max    67549.734375  68789.625000  66382.062500  67566.828125  67566.828125   \n",
       "\n",
       "             Volume  \n",
       "count  7.610000e+02  \n",
       "mean   3.968731e+10  \n",
       "std    2.042345e+10  \n",
       "min    1.225260e+10  \n",
       "25%    2.705580e+10  \n",
       "50%    3.583803e+10  \n",
       "75%    4.693700e+10  \n",
       "max    3.509679e+11  "
      ]
     },
     "execution_count": 13,
     "metadata": {},
     "output_type": "execute_result"
    }
   ],
   "source": [
    "BTC_Data.describe()"
   ]
  },
  {
   "cell_type": "markdown",
   "id": "0e5960c4",
   "metadata": {},
   "source": [
    "<div id=\"vis\">\n",
    "        <h3 style=\"color:#1a1a1a;\n",
    "                    font-size:2em\">\n",
    "         ⮞  Visualisation de données\n",
    "        </h3>\n",
    "</div>"
   ]
  },
  {
   "cell_type": "code",
   "execution_count": 77,
   "id": "e34e2db1",
   "metadata": {},
   "outputs": [],
   "source": [
    "import seaborn as sb\n",
    "import plotly.express as px\n",
    "import plotly.graph_objects as go"
   ]
  },
  {
   "cell_type": "markdown",
   "id": "d44c3635",
   "metadata": {},
   "source": [
    "<span style=\"color:grey; font-size:1.2em\">Traçons <b>le prix</b> du Bitcoin</span>  \n"
   ]
  },
  {
   "cell_type": "code",
   "execution_count": 14,
   "id": "3cb36121",
   "metadata": {},
   "outputs": [
    {
     "data": {
      "image/png": "[encoded data removed]",
      "text/plain": [
       "<Figure size 432x288 with 1 Axes>"
      ]
     },
     "metadata": {
      "needs_background": "light"
     },
     "output_type": "display_data"
    }
   ],
   "source": [
    "# visualiser la valeur \"Close\"\n",
    "plt.plot(BTC_Data.index,BTC_Data['Close'])\n",
    "\n",
    "plt.show()"
   ]
  },
  {
   "cell_type": "markdown",
   "id": "de96ccc0",
   "metadata": {},
   "source": [
    "<span style=\"color:grey; font-size:1.2em\">Traçons le <b>\"Adj Close\"</b> du Bitcoin</span>  \n"
   ]
  },
  {
   "cell_type": "code",
   "execution_count": 15,
   "id": "611b886a",
   "metadata": {},
   "outputs": [
    {
     "data": {
      "image/png": "[encoded data removed]",
      "text/plain": [
       "<Figure size 432x288 with 1 Axes>"
      ]
     },
     "metadata": {
      "needs_background": "light"
     },
     "output_type": "display_data"
    }
   ],
   "source": [
    "#Plotting the market capitalisation\n",
    "\n",
    "plt.plot(BTC_Data['Adj Close'])\n",
    "plt.show()"
   ]
  },
  {
   "cell_type": "code",
   "execution_count": 72,
   "id": "41e24c50",
   "metadata": {},
   "outputs": [
    {
     "data": {
      "image/png": "[encoded data removed]",
      "text/plain": [
       "<Figure size 432x288 with 2 Axes>"
      ]
     },
     "metadata": {
      "needs_background": "light"
     },
     "output_type": "display_data"
    }
   ],
   "source": [
    "#Plotting the correlation matrix to select the appropriate columns\n",
    "mat = BTC_Data.corr()\n",
    "sb.heatmap(mat,annot=True)\n",
    "plt.show()"
   ]
  },
  {
   "cell_type": "markdown",
   "id": "e7fe8273",
   "metadata": {},
   "source": [
    "<h4 style=\"color:grey\"> CANDELSTICK CHARTS</h4>"
   ]
  },
  {
   "cell_type": "code",
   "execution_count": 61,
   "id": "03a2c100",
   "metadata": {},
   "outputs": [],
   "source": [
    "def candelstick_chart(data,title):\n",
    "    candlestick = go.Figure(data = [go.Candlestick(x =data.index, \n",
    "                                               open = data[('Open')], \n",
    "                                               high = data[('High')], \n",
    "                                               low = data[('Low')], \n",
    "                                               close = data[('Close')],\n",
    "                                               #increasing_line_color= 'cyan', \n",
    "                                               #decreasing_line_color= 'gray'\n",
    "                                                )])\n",
    "    candlestick.update_xaxes(title_text = 'Time',\n",
    "                             rangeslider_visible = True)\n",
    "\n",
    "    candlestick.update_layout(\n",
    "    title = {\n",
    "        'text': '{:} Candelstick Chart'.format(title),\n",
    "        'y':0.90,\n",
    "        'x':0.5,\n",
    "        'xanchor': 'center',\n",
    "        'yanchor': 'top'} , \n",
    "    template=\"plotly_white\")\n",
    "\n",
    "    candlestick.update_yaxes(title_text = 'Prix en USD', ticksuffix = '$')\n",
    "    return candlestick"
   ]
  },
  {
   "cell_type": "code",
   "execution_count": 62,
   "id": "44b117e2",
   "metadata": {},
   "outputs": [
    {
     "data": {
      "application/vnd.plotly.v1+json": {
       "config": {
        "plotlyServerURL": "https://plot.ly"
       },
       "data": [
        {
         "close": [
          63226.402344,
          62970.046875,
          61452.230469,
          61125.675781,
          61527.480469,
          63326.988281,
          67566.828125,
          66971.828125,
          64995.230469,
          64949.960938,
          64155.941406,
          64469.527344,
          65466.839844,
          63557.871094,
          60161.246094,
          60368.011719,
          56942.136719,
          58119.578125,
          59697.195313,
          58730.476563,
          56289.289063,
          57569.074219,
          56280.425781,
          57274.679688,
          53569.765625,
          54815.078125,
          57248.457031,
          57806.566406,
          57005.425781,
          57229.828125,
          56477.816406,
          53598.246094,
          49200.703125,
          49368.847656,
          50582.625,
          50700.085938,
          50504.796875,
          47672.121094,
          47243.304688,
          49362.507813,
          50098.335938,
          46737.480469,
          46612.632813,
          48896.722656,
          47665.425781,
          46202.144531,
          46848.777344,
          46707.015625,
          46880.277344,
          48936.613281,
          48628.511719,
          50784.539063,
          50822.195313,
          50429.859375,
          50809.515625,
          50640.417969,
          47588.855469,
          46444.710938,
          47178.125,
          46306.445313,
          47686.8125,
          47345.21875,
          46458.117188,
          45897.574219,
          43569.003906,
          43160.929688,
          41557.902344,
          41733.941406,
          41911.601563,
          41821.261719,
          42735.855469,
          43949.101563,
          42591.570313,
          43099.699219,
          43177.398438,
          43113.878906,
          42250.550781,
          42375.632813,
          41744.328125,
          40680.417969,
          36457.316406,
          35030.25,
          36276.804688,
          36654.328125,
          36954.003906,
          36852.121094,
          37138.234375,
          37784.332031,
          38138.179688,
          37658.375
         ],
         "high": [
          64242.792969,
          63516.9375,
          63123.289063,
          62541.46875,
          61590.683594,
          63326.988281,
          67673.742188,
          68530.335938,
          68789.625,
          65579.015625,
          65460.816406,
          64915.675781,
          65495.179688,
          66281.570313,
          63721.195313,
          60823.609375,
          60948.5,
          58351.113281,
          59859.878906,
          60004.425781,
          59266.359375,
          57875.515625,
          57803.066406,
          59367.96875,
          59183.480469,
          55329.257813,
          57393.84375,
          58872.878906,
          59113.402344,
          59041.683594,
          57349.234375,
          57482.167969,
          53904.679688,
          49768.148438,
          50929.519531,
          51934.78125,
          51171.375,
          50797.164063,
          50015.253906,
          49458.210938,
          50724.867188,
          50205,
          48431.398438,
          49473.957031,
          49425.574219,
          48004.894531,
          47313.828125,
          48089.664063,
          47401.71875,
          49300.917969,
          49544.796875,
          51332.339844,
          51814.027344,
          51176.597656,
          51196.378906,
          51956.328125,
          50679.859375,
          48119.742188,
          47879.964844,
          48472.527344,
          47827.3125,
          47881.40625,
          47510.726563,
          47406.546875,
          46929.046875,
          43748.71875,
          43153.570313,
          42228.941406,
          42663.949219,
          42199.484375,
          43001.15625,
          44135.367188,
          44278.421875,
          43346.6875,
          43724.671875,
          43436.808594,
          43179.390625,
          42534.402344,
          42478.304688,
          43413.023438,
          41060.527344,
          36688.8125,
          36433.3125,
          37247.519531,
          37444.570313,
          38825.410156,
          37148.324219,
          37952.878906,
          38576.261719,
          38257.039063
         ],
         "low": [
          60673.054688,
          61184.238281,
          60799.664063,
          60844.609375,
          60163.78125,
          61432.488281,
          63344.066406,
          66382.0625,
          63208.113281,
          64180.488281,
          62333.914063,
          63303.734375,
          63647.808594,
          63548.144531,
          59016.335938,
          58515.410156,
          56550.792969,
          55705.179688,
          57469.726563,
          58618.929688,
          55679.839844,
          55632.761719,
          55964.222656,
          57146.683594,
          53569.765625,
          53668.355469,
          53576.734375,
          56792.527344,
          56057.28125,
          56553.082031,
          55895.132813,
          52496.585938,
          42874.617188,
          47857.496094,
          47281.035156,
          50175.808594,
          48765.988281,
          47358.351563,
          47023.699219,
          46942.347656,
          48725.851563,
          45894.847656,
          46424.496094,
          46671.964844,
          47529.878906,
          45618.214844,
          45598.441406,
          46502.953125,
          45579.808594,
          46698.773438,
          48450.941406,
          48065.835938,
          50514.496094,
          50236.707031,
          49623.105469,
          50499.46875,
          47414.210938,
          46201.496094,
          46060.3125,
          45819.953125,
          46288.484375,
          46856.9375,
          45835.964844,
          45752.464844,
          42798.222656,
          42645.539063,
          41077.445313,
          40672.277344,
          41338.160156,
          39796.570313,
          41407.753906,
          42528.988281,
          42447.042969,
          41982.617188,
          42669.035156,
          42691.023438,
          41680.320313,
          41392.214844,
          41242.914063,
          40672.824219,
          35791.425781,
          34349.25,
          34784.96875,
          33184.058594,
          35779.429688,
          36374.90625,
          35629.28125,
          36211.109375,
          37406.472656,
          37445.589844
         ],
         "open": [
          60963.253906,
          63254.335938,
          62941.804688,
          61460.078125,
          61068.875,
          61554.921875,
          63344.066406,
          67549.734375,
          66953.335938,
          64978.890625,
          64863.980469,
          64158.121094,
          64455.371094,
          65521.289063,
          63721.195313,
          60139.621094,
          60360.136719,
          56896.128906,
          58115.082031,
          59730.507813,
          58706.847656,
          56304.554688,
          57565.851563,
          57165.417969,
          58960.285156,
          53736.429688,
          54813.023438,
          57291.90625,
          57830.113281,
          56907.964844,
          57217.371094,
          56509.164063,
          53727.878906,
          49201.519531,
          49413.480469,
          50581.828125,
          50667.648438,
          50450.082031,
          47642.144531,
          47264.632813,
          49354.855469,
          50114.742188,
          46709.824219,
          48379.753906,
          48900.464844,
          47653.730469,
          46219.253906,
          46853.867188,
          46707.0625,
          46886.078125,
          48937.097656,
          48626.34375,
          50806.050781,
          50854.917969,
          50428.691406,
          50802.609375,
          50679.859375,
          47623.871094,
          46490.605469,
          47169.371094,
          46311.746094,
          47680.925781,
          47343.542969,
          46458.851563,
          45899.359375,
          43565.511719,
          43153.570313,
          41561.464844,
          41734.726563,
          41910.230469,
          41819.507813,
          42742.179688,
          43946.742188,
          42598.871094,
          43101.898438,
          43172.039063,
          43118.121094,
          42250.074219,
          42374.039063,
          41744.027344,
          40699.605469,
          36471.589844,
          35047.359375,
          36275.734375,
          36654.804688,
          36950.515625,
          36841.878906,
          37128.445313,
          37780.714844,
          38141.054688
         ],
         "type": "candlestick",
         "x": [
          "2021-11-02",
          "2021-11-03",
          "2021-11-04",
          "2021-11-05",
          "2021-11-06",
          "2021-11-07",
          "2021-11-08",
          "2021-11-09",
          "2021-11-10",
          "2021-11-11",
          "2021-11-12",
          "2021-11-13",
          "2021-11-14",
          "2021-11-15",
          "2021-11-16",
          "2021-11-17",
          "2021-11-18",
          "2021-11-19",
          "2021-11-20",
          "2021-11-21",
          "2021-11-22",
          "2021-11-23",
          "2021-11-24",
          "2021-11-25",
          "2021-11-26",
          "2021-11-27",
          "2021-11-28",
          "2021-11-29",
          "2021-11-30",
          "2021-12-01",
          "2021-12-02",
          "2021-12-03",
          "2021-12-04",
          "2021-12-05",
          "2021-12-06",
          "2021-12-07",
          "2021-12-08",
          "2021-12-09",
          "2021-12-10",
          "2021-12-11",
          "2021-12-12",
          "2021-12-13",
          "2021-12-14",
          "2021-12-15",
          "2021-12-16",
          "2021-12-17",
          "2021-12-18",
          "2021-12-19",
          "2021-12-20",
          "2021-12-21",
          "2021-12-22",
          "2021-12-23",
          "2021-12-24",
          "2021-12-25",
          "2021-12-26",
          "2021-12-27",
          "2021-12-28",
          "2021-12-29",
          "2021-12-30",
          "2021-12-31",
          "2022-01-01",
          "2022-01-02",
          "2022-01-03",
          "2022-01-04",
          "2022-01-05",
          "2022-01-06",
          "2022-01-07",
          "2022-01-08",
          "2022-01-09",
          "2022-01-10",
          "2022-01-11",
          "2022-01-12",
          "2022-01-13",
          "2022-01-14",
          "2022-01-15",
          "2022-01-16",
          "2022-01-17",
          "2022-01-18",
          "2022-01-19",
          "2022-01-20",
          "2022-01-21",
          "2022-01-22",
          "2022-01-23",
          "2022-01-24",
          "2022-01-25",
          "2022-01-26",
          "2022-01-27",
          "2022-01-28",
          "2022-01-29",
          "2022-01-30"
         ]
        }
       ],
       "layout": {
        "template": {
         "data": {
          "bar": [
           {
            "error_x": {
             "color": "#2a3f5f"
            },
            "error_y": {
             "color": "#2a3f5f"
            },
            "marker": {
             "line": {
              "color": "white",
              "width": 0.5
             },
             "pattern": {
              "fillmode": "overlay",
              "size": 10,
              "solidity": 0.2
             }
            },
            "type": "bar"
           }
          ],
          "barpolar": [
           {
            "marker": {
             "line": {
              "color": "white",
              "width": 0.5
             },
             "pattern": {
              "fillmode": "overlay",
              "size": 10,
              "solidity": 0.2
             }
            },
            "type": "barpolar"
           }
          ],
          "carpet": [
           {
            "aaxis": {
             "endlinecolor": "#2a3f5f",
             "gridcolor": "#C8D4E3",
             "linecolor": "#C8D4E3",
             "minorgridcolor": "#C8D4E3",
             "startlinecolor": "#2a3f5f"
            },
            "baxis": {
             "endlinecolor": "#2a3f5f",
             "gridcolor": "#C8D4E3",
             "linecolor": "#C8D4E3",
             "minorgridcolor": "#C8D4E3",
             "startlinecolor": "#2a3f5f"
            },
            "type": "carpet"
           }
          ],
          "choropleth": [
           {
            "colorbar": {
             "outlinewidth": 0,
             "ticks": ""
            },
            "type": "choropleth"
           }
          ],
          "contour": [
           {
            "colorbar": {
             "outlinewidth": 0,
             "ticks": ""
            },
            "colorscale": [
             [
              0,
              "#0d0887"
             ],
             [
              0.1111111111111111,
              "#46039f"
             ],
             [
              0.2222222222222222,
              "#7201a8"
             ],
             [
              0.3333333333333333,
              "#9c179e"
             ],
             [
              0.4444444444444444,
              "#bd3786"
             ],
             [
              0.5555555555555556,
              "#d8576b"
             ],
             [
              0.6666666666666666,
              "#ed7953"
             ],
             [
              0.7777777777777778,
              "#fb9f3a"
             ],
             [
              0.8888888888888888,
              "#fdca26"
             ],
             [
              1,
              "#f0f921"
             ]
            ],
            "type": "contour"
           }
          ],
          "contourcarpet": [
           {
            "colorbar": {
             "outlinewidth": 0,
             "ticks": ""
            },
            "type": "contourcarpet"
           }
          ],
          "heatmap": [
           {
            "colorbar": {
             "outlinewidth": 0,
             "ticks": ""
            },
            "colorscale": [
             [
              0,
              "#0d0887"
             ],
             [
              0.1111111111111111,
              "#46039f"
             ],
             [
              0.2222222222222222,
              "#7201a8"
             ],
             [
              0.3333333333333333,
              "#9c179e"
             ],
             [
              0.4444444444444444,
              "#bd3786"
             ],
             [
              0.5555555555555556,
              "#d8576b"
             ],
             [
              0.6666666666666666,
              "#ed7953"
             ],
             [
              0.7777777777777778,
              "#fb9f3a"
             ],
             [
              0.8888888888888888,
              "#fdca26"
             ],
             [
              1,
              "#f0f921"
             ]
            ],
            "type": "heatmap"
           }
          ],
          "heatmapgl": [
           {
            "colorbar": {
             "outlinewidth": 0,
             "ticks": ""
            },
            "colorscale": [
             [
              0,
              "#0d0887"
             ],
             [
              0.1111111111111111,
              "#46039f"
             ],
             [
              0.2222222222222222,
              "#7201a8"
             ],
             [
              0.3333333333333333,
              "#9c179e"
             ],
             [
              0.4444444444444444,
              "#bd3786"
             ],
             [
              0.5555555555555556,
              "#d8576b"
             ],
             [
              0.6666666666666666,
              "#ed7953"
             ],
             [
              0.7777777777777778,
              "#fb9f3a"
             ],
             [
              0.8888888888888888,
              "#fdca26"
             ],
             [
              1,
              "#f0f921"
             ]
            ],
            "type": "heatmapgl"
           }
          ],
          "histogram": [
           {
            "marker": {
             "pattern": {
              "fillmode": "overlay",
              "size": 10,
              "solidity": 0.2
             }
            },
            "type": "histogram"
           }
          ],
          "histogram2d": [
           {
            "colorbar": {
             "outlinewidth": 0,
             "ticks": ""
            },
            "colorscale": [
             [
              0,
              "#0d0887"
             ],
             [
              0.1111111111111111,
              "#46039f"
             ],
             [
              0.2222222222222222,
              "#7201a8"
             ],
             [
              0.3333333333333333,
              "#9c179e"
             ],
             [
              0.4444444444444444,
              "#bd3786"
             ],
             [
              0.5555555555555556,
              "#d8576b"
             ],
             [
              0.6666666666666666,
              "#ed7953"
             ],
             [
              0.7777777777777778,
              "#fb9f3a"
             ],
             [
              0.8888888888888888,
              "#fdca26"
             ],
             [
              1,
              "#f0f921"
             ]
            ],
            "type": "histogram2d"
           }
          ],
          "histogram2dcontour": [
           {
            "colorbar": {
             "outlinewidth": 0,
             "ticks": ""
            },
            "colorscale": [
             [
              0,
              "#0d0887"
             ],
             [
              0.1111111111111111,
              "#46039f"
             ],
             [
              0.2222222222222222,
              "#7201a8"
             ],
             [
              0.3333333333333333,
              "#9c179e"
             ],
             [
              0.4444444444444444,
              "#bd3786"
             ],
             [
              0.5555555555555556,
              "#d8576b"
             ],
             [
              0.6666666666666666,
              "#ed7953"
             ],
             [
              0.7777777777777778,
              "#fb9f3a"
             ],
             [
              0.8888888888888888,
              "#fdca26"
             ],
             [
              1,
              "#f0f921"
             ]
            ],
            "type": "histogram2dcontour"
           }
          ],
          "mesh3d": [
           {
            "colorbar": {
             "outlinewidth": 0,
             "ticks": ""
            },
            "type": "mesh3d"
           }
          ],
          "parcoords": [
           {
            "line": {
             "colorbar": {
              "outlinewidth": 0,
              "ticks": ""
             }
            },
            "type": "parcoords"
           }
          ],
          "pie": [
           {
            "automargin": true,
            "type": "pie"
           }
          ],
          "scatter": [
           {
            "marker": {
             "colorbar": {
              "outlinewidth": 0,
              "ticks": ""
             }
            },
            "type": "scatter"
           }
          ],
          "scatter3d": [
           {
            "line": {
             "colorbar": {
              "outlinewidth": 0,
              "ticks": ""
             }
            },
            "marker": {
             "colorbar": {
              "outlinewidth": 0,
              "ticks": ""
             }
            },
            "type": "scatter3d"
           }
          ],
          "scattercarpet": [
           {
            "marker": {
             "colorbar": {
              "outlinewidth": 0,
              "ticks": ""
             }
            },
            "type": "scattercarpet"
           }
          ],
          "scattergeo": [
           {
            "marker": {
             "colorbar": {
              "outlinewidth": 0,
              "ticks": ""
             }
            },
            "type": "scattergeo"
           }
          ],
          "scattergl": [
           {
            "marker": {
             "colorbar": {
              "outlinewidth": 0,
              "ticks": ""
             }
            },
            "type": "scattergl"
           }
          ],
          "scattermapbox": [
           {
            "marker": {
             "colorbar": {
              "outlinewidth": 0,
              "ticks": ""
             }
            },
            "type": "scattermapbox"
           }
          ],
          "scatterpolar": [
           {
            "marker": {
             "colorbar": {
              "outlinewidth": 0,
              "ticks": ""
             }
            },
            "type": "scatterpolar"
           }
          ],
          "scatterpolargl": [
           {
            "marker": {
             "colorbar": {
              "outlinewidth": 0,
              "ticks": ""
             }
            },
            "type": "scatterpolargl"
           }
          ],
          "scatterternary": [
           {
            "marker": {
             "colorbar": {
              "outlinewidth": 0,
              "ticks": ""
             }
            },
            "type": "scatterternary"
           }
          ],
          "surface": [
           {
            "colorbar": {
             "outlinewidth": 0,
             "ticks": ""
            },
            "colorscale": [
             [
              0,
              "#0d0887"
             ],
             [
              0.1111111111111111,
              "#46039f"
             ],
             [
              0.2222222222222222,
              "#7201a8"
             ],
             [
              0.3333333333333333,
              "#9c179e"
             ],
             [
              0.4444444444444444,
              "#bd3786"
             ],
             [
              0.5555555555555556,
              "#d8576b"
             ],
             [
              0.6666666666666666,
              "#ed7953"
             ],
             [
              0.7777777777777778,
              "#fb9f3a"
             ],
             [
              0.8888888888888888,
              "#fdca26"
             ],
             [
              1,
              "#f0f921"
             ]
            ],
            "type": "surface"
           }
          ],
          "table": [
           {
            "cells": {
             "fill": {
              "color": "#EBF0F8"
             },
             "line": {
              "color": "white"
             }
            },
            "header": {
             "fill": {
              "color": "#C8D4E3"
             },
             "line": {
              "color": "white"
             }
            },
            "type": "table"
           }
          ]
         },
         "layout": {
          "annotationdefaults": {
           "arrowcolor": "#2a3f5f",
           "arrowhead": 0,
           "arrowwidth": 1
          },
          "autotypenumbers": "strict",
          "coloraxis": {
           "colorbar": {
            "outlinewidth": 0,
            "ticks": ""
           }
          },
          "colorscale": {
           "diverging": [
            [
             0,
             "#8e0152"
            ],
            [
             0.1,
             "#c51b7d"
            ],
            [
             0.2,
             "#de77ae"
            ],
            [
             0.3,
             "#f1b6da"
            ],
            [
             0.4,
             "#fde0ef"
            ],
            [
             0.5,
             "#f7f7f7"
            ],
            [
             0.6,
             "#e6f5d0"
            ],
            [
             0.7,
             "#b8e186"
            ],
            [
             0.8,
             "#7fbc41"
            ],
            [
             0.9,
             "#4d9221"
            ],
            [
             1,
             "#276419"
            ]
           ],
           "sequential": [
            [
             0,
             "#0d0887"
            ],
            [
             0.1111111111111111,
             "#46039f"
            ],
            [
             0.2222222222222222,
             "#7201a8"
            ],
            [
             0.3333333333333333,
             "#9c179e"
            ],
            [
             0.4444444444444444,
             "#bd3786"
            ],
            [
             0.5555555555555556,
             "#d8576b"
            ],
            [
             0.6666666666666666,
             "#ed7953"
            ],
            [
             0.7777777777777778,
             "#fb9f3a"
            ],
            [
             0.8888888888888888,
             "#fdca26"
            ],
            [
             1,
             "#f0f921"
            ]
           ],
           "sequentialminus": [
            [
             0,
             "#0d0887"
            ],
            [
             0.1111111111111111,
             "#46039f"
            ],
            [
             0.2222222222222222,
             "#7201a8"
            ],
            [
             0.3333333333333333,
             "#9c179e"
            ],
            [
             0.4444444444444444,
             "#bd3786"
            ],
            [
             0.5555555555555556,
             "#d8576b"
            ],
            [
             0.6666666666666666,
             "#ed7953"
            ],
            [
             0.7777777777777778,
             "#fb9f3a"
            ],
            [
             0.8888888888888888,
             "#fdca26"
            ],
            [
             1,
             "#f0f921"
            ]
           ]
          },
          "colorway": [
           "#636efa",
           "#EF553B",
           "#00cc96",
           "#ab63fa",
           "#FFA15A",
           "#19d3f3",
           "#FF6692",
           "#B6E880",
           "#FF97FF",
           "#FECB52"
          ],
          "font": {
           "color": "#2a3f5f"
          },
          "geo": {
           "bgcolor": "white",
           "lakecolor": "white",
           "landcolor": "white",
           "showlakes": true,
           "showland": true,
           "subunitcolor": "#C8D4E3"
          },
          "hoverlabel": {
           "align": "left"
          },
          "hovermode": "closest",
          "mapbox": {
           "style": "light"
          },
          "paper_bgcolor": "white",
          "plot_bgcolor": "white",
          "polar": {
           "angularaxis": {
            "gridcolor": "#EBF0F8",
            "linecolor": "#EBF0F8",
            "ticks": ""
           },
           "bgcolor": "white",
           "radialaxis": {
            "gridcolor": "#EBF0F8",
            "linecolor": "#EBF0F8",
            "ticks": ""
           }
          },
          "scene": {
           "xaxis": {
            "backgroundcolor": "white",
            "gridcolor": "#DFE8F3",
            "gridwidth": 2,
            "linecolor": "#EBF0F8",
            "showbackground": true,
            "ticks": "",
            "zerolinecolor": "#EBF0F8"
           },
           "yaxis": {
            "backgroundcolor": "white",
            "gridcolor": "#DFE8F3",
            "gridwidth": 2,
            "linecolor": "#EBF0F8",
            "showbackground": true,
            "ticks": "",
            "zerolinecolor": "#EBF0F8"
           },
           "zaxis": {
            "backgroundcolor": "white",
            "gridcolor": "#DFE8F3",
            "gridwidth": 2,
            "linecolor": "#EBF0F8",
            "showbackground": true,
            "ticks": "",
            "zerolinecolor": "#EBF0F8"
           }
          },
          "shapedefaults": {
           "line": {
            "color": "#2a3f5f"
           }
          },
          "ternary": {
           "aaxis": {
            "gridcolor": "#DFE8F3",
            "linecolor": "#A2B1C6",
            "ticks": ""
           },
           "baxis": {
            "gridcolor": "#DFE8F3",
            "linecolor": "#A2B1C6",
            "ticks": ""
           },
           "bgcolor": "white",
           "caxis": {
            "gridcolor": "#DFE8F3",
            "linecolor": "#A2B1C6",
            "ticks": ""
           }
          },
          "title": {
           "x": 0.05
          },
          "xaxis": {
           "automargin": true,
           "gridcolor": "#EBF0F8",
           "linecolor": "#EBF0F8",
           "ticks": "",
           "title": {
            "standoff": 15
           },
           "zerolinecolor": "#EBF0F8",
           "zerolinewidth": 2
          },
          "yaxis": {
           "automargin": true,
           "gridcolor": "#EBF0F8",
           "linecolor": "#EBF0F8",
           "ticks": "",
           "title": {
            "standoff": 15
           },
           "zerolinecolor": "#EBF0F8",
           "zerolinewidth": 2
          }
         }
        },
        "title": {
         "text": "Bitcoin(BTC) Candelstick Chart",
         "x": 0.5,
         "xanchor": "center",
         "y": 0.9,
         "yanchor": "top"
        },
        "xaxis": {
         "rangeslider": {
          "visible": true
         },
         "title": {
          "text": "Time"
         }
        },
        "yaxis": {
         "ticksuffix": "$",
         "title": {
          "text": "Prix en USD"
         }
        }
       }
      },
      "text/html": [
       "<div>                            <div id=\"d3b1506a-49ea-49d5-be85-6e8fc2b15004\" class=\"plotly-graph-div\" style=\"height:525px; width:100%;\"></div>            <script type=\"text/javascript\">                require([\"plotly\"], function(Plotly) {                    window.PLOTLYENV=window.PLOTLYENV || {};                                    if (document.getElementById(\"d3b1506a-49ea-49d5-be85-6e8fc2b15004\")) {                    Plotly.newPlot(                        \"d3b1506a-49ea-49d5-be85-6e8fc2b15004\",                        [{\"close\":[63226.402344,62970.046875,61452.230469,61125.675781,61527.480469,63326.988281,67566.828125,66971.828125,64995.230469,64949.960938,64155.941406,64469.527344,65466.839844,63557.871094,60161.246094,60368.011719,56942.136719,58119.578125,59697.195313,58730.476563,56289.289063,57569.074219,56280.425781,57274.679688,53569.765625,54815.078125,57248.457031,57806.566406,57005.425781,57229.828125,56477.816406,53598.246094,49200.703125,49368.847656,50582.625,50700.085938,50504.796875,47672.121094,47243.304688,49362.507813,50098.335938,46737.480469,46612.632813,48896.722656,47665.425781,46202.144531,46848.777344,46707.015625,46880.277344,48936.613281,48628.511719,50784.539063,50822.195313,50429.859375,50809.515625,50640.417969,47588.855469,46444.710938,47178.125,46306.445313,47686.8125,47345.21875,46458.117188,45897.574219,43569.003906,43160.929688,41557.902344,41733.941406,41911.601563,41821.261719,42735.855469,43949.101563,42591.570313,43099.699219,43177.398438,43113.878906,42250.550781,42375.632813,41744.328125,40680.417969,36457.316406,35030.25,36276.804688,36654.328125,36954.003906,36852.121094,37138.234375,37784.332031,38138.179688,37658.375],\"high\":[64242.792969,63516.9375,63123.289063,62541.46875,61590.683594,63326.988281,67673.742188,68530.335938,68789.625,65579.015625,65460.816406,64915.675781,65495.179688,66281.570313,63721.195313,60823.609375,60948.5,58351.113281,59859.878906,60004.425781,59266.359375,57875.515625,57803.066406,59367.96875,59183.480469,55329.257813,57393.84375,58872.878906,59113.402344,59041.683594,57349.234375,57482.167969,53904.679688,49768.148438,50929.519531,51934.78125,51171.375,50797.164063,50015.253906,49458.210938,50724.867188,50205.0,48431.398438,49473.957031,49425.574219,48004.894531,47313.828125,48089.664063,47401.71875,49300.917969,49544.796875,51332.339844,51814.027344,51176.597656,51196.378906,51956.328125,50679.859375,48119.742188,47879.964844,48472.527344,47827.3125,47881.40625,47510.726563,47406.546875,46929.046875,43748.71875,43153.570313,42228.941406,42663.949219,42199.484375,43001.15625,44135.367188,44278.421875,43346.6875,43724.671875,43436.808594,43179.390625,42534.402344,42478.304688,43413.023438,41060.527344,36688.8125,36433.3125,37247.519531,37444.570313,38825.410156,37148.324219,37952.878906,38576.261719,38257.039063],\"low\":[60673.054688,61184.238281,60799.664063,60844.609375,60163.78125,61432.488281,63344.066406,66382.0625,63208.113281,64180.488281,62333.914063,63303.734375,63647.808594,63548.144531,59016.335938,58515.410156,56550.792969,55705.179688,57469.726563,58618.929688,55679.839844,55632.761719,55964.222656,57146.683594,53569.765625,53668.355469,53576.734375,56792.527344,56057.28125,56553.082031,55895.132813,52496.585938,42874.617188,47857.496094,47281.035156,50175.808594,48765.988281,47358.351563,47023.699219,46942.347656,48725.851563,45894.847656,46424.496094,46671.964844,47529.878906,45618.214844,45598.441406,46502.953125,45579.808594,46698.773438,48450.941406,48065.835938,50514.496094,50236.707031,49623.105469,50499.46875,47414.210938,46201.496094,46060.3125,45819.953125,46288.484375,46856.9375,45835.964844,45752.464844,42798.222656,42645.539063,41077.445313,40672.277344,41338.160156,39796.570313,41407.753906,42528.988281,42447.042969,41982.617188,42669.035156,42691.023438,41680.320313,41392.214844,41242.914063,40672.824219,35791.425781,34349.25,34784.96875,33184.058594,35779.429688,36374.90625,35629.28125,36211.109375,37406.472656,37445.589844],\"open\":[60963.253906,63254.335938,62941.804688,61460.078125,61068.875,61554.921875,63344.066406,67549.734375,66953.335938,64978.890625,64863.980469,64158.121094,64455.371094,65521.289063,63721.195313,60139.621094,60360.136719,56896.128906,58115.082031,59730.507813,58706.847656,56304.554688,57565.851563,57165.417969,58960.285156,53736.429688,54813.023438,57291.90625,57830.113281,56907.964844,57217.371094,56509.164063,53727.878906,49201.519531,49413.480469,50581.828125,50667.648438,50450.082031,47642.144531,47264.632813,49354.855469,50114.742188,46709.824219,48379.753906,48900.464844,47653.730469,46219.253906,46853.867188,46707.0625,46886.078125,48937.097656,48626.34375,50806.050781,50854.917969,50428.691406,50802.609375,50679.859375,47623.871094,46490.605469,47169.371094,46311.746094,47680.925781,47343.542969,46458.851563,45899.359375,43565.511719,43153.570313,41561.464844,41734.726563,41910.230469,41819.507813,42742.179688,43946.742188,42598.871094,43101.898438,43172.039063,43118.121094,42250.074219,42374.039063,41744.027344,40699.605469,36471.589844,35047.359375,36275.734375,36654.804688,36950.515625,36841.878906,37128.445313,37780.714844,38141.054688],\"x\":[\"2021-11-02\",\"2021-11-03\",\"2021-11-04\",\"2021-11-05\",\"2021-11-06\",\"2021-11-07\",\"2021-11-08\",\"2021-11-09\",\"2021-11-10\",\"2021-11-11\",\"2021-11-12\",\"2021-11-13\",\"2021-11-14\",\"2021-11-15\",\"2021-11-16\",\"2021-11-17\",\"2021-11-18\",\"2021-11-19\",\"2021-11-20\",\"2021-11-21\",\"2021-11-22\",\"2021-11-23\",\"2021-11-24\",\"2021-11-25\",\"2021-11-26\",\"2021-11-27\",\"2021-11-28\",\"2021-11-29\",\"2021-11-30\",\"2021-12-01\",\"2021-12-02\",\"2021-12-03\",\"2021-12-04\",\"2021-12-05\",\"2021-12-06\",\"2021-12-07\",\"2021-12-08\",\"2021-12-09\",\"2021-12-10\",\"2021-12-11\",\"2021-12-12\",\"2021-12-13\",\"2021-12-14\",\"2021-12-15\",\"2021-12-16\",\"2021-12-17\",\"2021-12-18\",\"2021-12-19\",\"2021-12-20\",\"2021-12-21\",\"2021-12-22\",\"2021-12-23\",\"2021-12-24\",\"2021-12-25\",\"2021-12-26\",\"2021-12-27\",\"2021-12-28\",\"2021-12-29\",\"2021-12-30\",\"2021-12-31\",\"2022-01-01\",\"2022-01-02\",\"2022-01-03\",\"2022-01-04\",\"2022-01-05\",\"2022-01-06\",\"2022-01-07\",\"2022-01-08\",\"2022-01-09\",\"2022-01-10\",\"2022-01-11\",\"2022-01-12\",\"2022-01-13\",\"2022-01-14\",\"2022-01-15\",\"2022-01-16\",\"2022-01-17\",\"2022-01-18\",\"2022-01-19\",\"2022-01-20\",\"2022-01-21\",\"2022-01-22\",\"2022-01-23\",\"2022-01-24\",\"2022-01-25\",\"2022-01-26\",\"2022-01-27\",\"2022-01-28\",\"2022-01-29\",\"2022-01-30\"],\"type\":\"candlestick\"}],                        {\"template\":{\"data\":{\"barpolar\":[{\"marker\":{\"line\":{\"color\":\"white\",\"width\":0.5},\"pattern\":{\"fillmode\":\"overlay\",\"size\":10,\"solidity\":0.2}},\"type\":\"barpolar\"}],\"bar\":[{\"error_x\":{\"color\":\"#2a3f5f\"},\"error_y\":{\"color\":\"#2a3f5f\"},\"marker\":{\"line\":{\"color\":\"white\",\"width\":0.5},\"pattern\":{\"fillmode\":\"overlay\",\"size\":10,\"solidity\":0.2}},\"type\":\"bar\"}],\"carpet\":[{\"aaxis\":{\"endlinecolor\":\"#2a3f5f\",\"gridcolor\":\"#C8D4E3\",\"linecolor\":\"#C8D4E3\",\"minorgridcolor\":\"#C8D4E3\",\"startlinecolor\":\"#2a3f5f\"},\"baxis\":{\"endlinecolor\":\"#2a3f5f\",\"gridcolor\":\"#C8D4E3\",\"linecolor\":\"#C8D4E3\",\"minorgridcolor\":\"#C8D4E3\",\"startlinecolor\":\"#2a3f5f\"},\"type\":\"carpet\"}],\"choropleth\":[{\"colorbar\":{\"outlinewidth\":0,\"ticks\":\"\"},\"type\":\"choropleth\"}],\"contourcarpet\":[{\"colorbar\":{\"outlinewidth\":0,\"ticks\":\"\"},\"type\":\"contourcarpet\"}],\"contour\":[{\"colorbar\":{\"outlinewidth\":0,\"ticks\":\"\"},\"colorscale\":[[0.0,\"#0d0887\"],[0.1111111111111111,\"#46039f\"],[0.2222222222222222,\"#7201a8\"],[0.3333333333333333,\"#9c179e\"],[0.4444444444444444,\"#bd3786\"],[0.5555555555555556,\"#d8576b\"],[0.6666666666666666,\"#ed7953\"],[0.7777777777777778,\"#fb9f3a\"],[0.8888888888888888,\"#fdca26\"],[1.0,\"#f0f921\"]],\"type\":\"contour\"}],\"heatmapgl\":[{\"colorbar\":{\"outlinewidth\":0,\"ticks\":\"\"},\"colorscale\":[[0.0,\"#0d0887\"],[0.1111111111111111,\"#46039f\"],[0.2222222222222222,\"#7201a8\"],[0.3333333333333333,\"#9c179e\"],[0.4444444444444444,\"#bd3786\"],[0.5555555555555556,\"#d8576b\"],[0.6666666666666666,\"#ed7953\"],[0.7777777777777778,\"#fb9f3a\"],[0.8888888888888888,\"#fdca26\"],[1.0,\"#f0f921\"]],\"type\":\"heatmapgl\"}],\"heatmap\":[{\"colorbar\":{\"outlinewidth\":0,\"ticks\":\"\"},\"colorscale\":[[0.0,\"#0d0887\"],[0.1111111111111111,\"#46039f\"],[0.2222222222222222,\"#7201a8\"],[0.3333333333333333,\"#9c179e\"],[0.4444444444444444,\"#bd3786\"],[0.5555555555555556,\"#d8576b\"],[0.6666666666666666,\"#ed7953\"],[0.7777777777777778,\"#fb9f3a\"],[0.8888888888888888,\"#fdca26\"],[1.0,\"#f0f921\"]],\"type\":\"heatmap\"}],\"histogram2dcontour\":[{\"colorbar\":{\"outlinewidth\":0,\"ticks\":\"\"},\"colorscale\":[[0.0,\"#0d0887\"],[0.1111111111111111,\"#46039f\"],[0.2222222222222222,\"#7201a8\"],[0.3333333333333333,\"#9c179e\"],[0.4444444444444444,\"#bd3786\"],[0.5555555555555556,\"#d8576b\"],[0.6666666666666666,\"#ed7953\"],[0.7777777777777778,\"#fb9f3a\"],[0.8888888888888888,\"#fdca26\"],[1.0,\"#f0f921\"]],\"type\":\"histogram2dcontour\"}],\"histogram2d\":[{\"colorbar\":{\"outlinewidth\":0,\"ticks\":\"\"},\"colorscale\":[[0.0,\"#0d0887\"],[0.1111111111111111,\"#46039f\"],[0.2222222222222222,\"#7201a8\"],[0.3333333333333333,\"#9c179e\"],[0.4444444444444444,\"#bd3786\"],[0.5555555555555556,\"#d8576b\"],[0.6666666666666666,\"#ed7953\"],[0.7777777777777778,\"#fb9f3a\"],[0.8888888888888888,\"#fdca26\"],[1.0,\"#f0f921\"]],\"type\":\"histogram2d\"}],\"histogram\":[{\"marker\":{\"pattern\":{\"fillmode\":\"overlay\",\"size\":10,\"solidity\":0.2}},\"type\":\"histogram\"}],\"mesh3d\":[{\"colorbar\":{\"outlinewidth\":0,\"ticks\":\"\"},\"type\":\"mesh3d\"}],\"parcoords\":[{\"line\":{\"colorbar\":{\"outlinewidth\":0,\"ticks\":\"\"}},\"type\":\"parcoords\"}],\"pie\":[{\"automargin\":true,\"type\":\"pie\"}],\"scatter3d\":[{\"line\":{\"colorbar\":{\"outlinewidth\":0,\"ticks\":\"\"}},\"marker\":{\"colorbar\":{\"outlinewidth\":0,\"ticks\":\"\"}},\"type\":\"scatter3d\"}],\"scattercarpet\":[{\"marker\":{\"colorbar\":{\"outlinewidth\":0,\"ticks\":\"\"}},\"type\":\"scattercarpet\"}],\"scattergeo\":[{\"marker\":{\"colorbar\":{\"outlinewidth\":0,\"ticks\":\"\"}},\"type\":\"scattergeo\"}],\"scattergl\":[{\"marker\":{\"colorbar\":{\"outlinewidth\":0,\"ticks\":\"\"}},\"type\":\"scattergl\"}],\"scattermapbox\":[{\"marker\":{\"colorbar\":{\"outlinewidth\":0,\"ticks\":\"\"}},\"type\":\"scattermapbox\"}],\"scatterpolargl\":[{\"marker\":{\"colorbar\":{\"outlinewidth\":0,\"ticks\":\"\"}},\"type\":\"scatterpolargl\"}],\"scatterpolar\":[{\"marker\":{\"colorbar\":{\"outlinewidth\":0,\"ticks\":\"\"}},\"type\":\"scatterpolar\"}],\"scatter\":[{\"marker\":{\"colorbar\":{\"outlinewidth\":0,\"ticks\":\"\"}},\"type\":\"scatter\"}],\"scatterternary\":[{\"marker\":{\"colorbar\":{\"outlinewidth\":0,\"ticks\":\"\"}},\"type\":\"scatterternary\"}],\"surface\":[{\"colorbar\":{\"outlinewidth\":0,\"ticks\":\"\"},\"colorscale\":[[0.0,\"#0d0887\"],[0.1111111111111111,\"#46039f\"],[0.2222222222222222,\"#7201a8\"],[0.3333333333333333,\"#9c179e\"],[0.4444444444444444,\"#bd3786\"],[0.5555555555555556,\"#d8576b\"],[0.6666666666666666,\"#ed7953\"],[0.7777777777777778,\"#fb9f3a\"],[0.8888888888888888,\"#fdca26\"],[1.0,\"#f0f921\"]],\"type\":\"surface\"}],\"table\":[{\"cells\":{\"fill\":{\"color\":\"#EBF0F8\"},\"line\":{\"color\":\"white\"}},\"header\":{\"fill\":{\"color\":\"#C8D4E3\"},\"line\":{\"color\":\"white\"}},\"type\":\"table\"}]},\"layout\":{\"annotationdefaults\":{\"arrowcolor\":\"#2a3f5f\",\"arrowhead\":0,\"arrowwidth\":1},\"autotypenumbers\":\"strict\",\"coloraxis\":{\"colorbar\":{\"outlinewidth\":0,\"ticks\":\"\"}},\"colorscale\":{\"diverging\":[[0,\"#8e0152\"],[0.1,\"#c51b7d\"],[0.2,\"#de77ae\"],[0.3,\"#f1b6da\"],[0.4,\"#fde0ef\"],[0.5,\"#f7f7f7\"],[0.6,\"#e6f5d0\"],[0.7,\"#b8e186\"],[0.8,\"#7fbc41\"],[0.9,\"#4d9221\"],[1,\"#276419\"]],\"sequential\":[[0.0,\"#0d0887\"],[0.1111111111111111,\"#46039f\"],[0.2222222222222222,\"#7201a8\"],[0.3333333333333333,\"#9c179e\"],[0.4444444444444444,\"#bd3786\"],[0.5555555555555556,\"#d8576b\"],[0.6666666666666666,\"#ed7953\"],[0.7777777777777778,\"#fb9f3a\"],[0.8888888888888888,\"#fdca26\"],[1.0,\"#f0f921\"]],\"sequentialminus\":[[0.0,\"#0d0887\"],[0.1111111111111111,\"#46039f\"],[0.2222222222222222,\"#7201a8\"],[0.3333333333333333,\"#9c179e\"],[0.4444444444444444,\"#bd3786\"],[0.5555555555555556,\"#d8576b\"],[0.6666666666666666,\"#ed7953\"],[0.7777777777777778,\"#fb9f3a\"],[0.8888888888888888,\"#fdca26\"],[1.0,\"#f0f921\"]]},\"colorway\":[\"#636efa\",\"#EF553B\",\"#00cc96\",\"#ab63fa\",\"#FFA15A\",\"#19d3f3\",\"#FF6692\",\"#B6E880\",\"#FF97FF\",\"#FECB52\"],\"font\":{\"color\":\"#2a3f5f\"},\"geo\":{\"bgcolor\":\"white\",\"lakecolor\":\"white\",\"landcolor\":\"white\",\"showlakes\":true,\"showland\":true,\"subunitcolor\":\"#C8D4E3\"},\"hoverlabel\":{\"align\":\"left\"},\"hovermode\":\"closest\",\"mapbox\":{\"style\":\"light\"},\"paper_bgcolor\":\"white\",\"plot_bgcolor\":\"white\",\"polar\":{\"angularaxis\":{\"gridcolor\":\"#EBF0F8\",\"linecolor\":\"#EBF0F8\",\"ticks\":\"\"},\"bgcolor\":\"white\",\"radialaxis\":{\"gridcolor\":\"#EBF0F8\",\"linecolor\":\"#EBF0F8\",\"ticks\":\"\"}},\"scene\":{\"xaxis\":{\"backgroundcolor\":\"white\",\"gridcolor\":\"#DFE8F3\",\"gridwidth\":2,\"linecolor\":\"#EBF0F8\",\"showbackground\":true,\"ticks\":\"\",\"zerolinecolor\":\"#EBF0F8\"},\"yaxis\":{\"backgroundcolor\":\"white\",\"gridcolor\":\"#DFE8F3\",\"gridwidth\":2,\"linecolor\":\"#EBF0F8\",\"showbackground\":true,\"ticks\":\"\",\"zerolinecolor\":\"#EBF0F8\"},\"zaxis\":{\"backgroundcolor\":\"white\",\"gridcolor\":\"#DFE8F3\",\"gridwidth\":2,\"linecolor\":\"#EBF0F8\",\"showbackground\":true,\"ticks\":\"\",\"zerolinecolor\":\"#EBF0F8\"}},\"shapedefaults\":{\"line\":{\"color\":\"#2a3f5f\"}},\"ternary\":{\"aaxis\":{\"gridcolor\":\"#DFE8F3\",\"linecolor\":\"#A2B1C6\",\"ticks\":\"\"},\"baxis\":{\"gridcolor\":\"#DFE8F3\",\"linecolor\":\"#A2B1C6\",\"ticks\":\"\"},\"bgcolor\":\"white\",\"caxis\":{\"gridcolor\":\"#DFE8F3\",\"linecolor\":\"#A2B1C6\",\"ticks\":\"\"}},\"title\":{\"x\":0.05},\"xaxis\":{\"automargin\":true,\"gridcolor\":\"#EBF0F8\",\"linecolor\":\"#EBF0F8\",\"ticks\":\"\",\"title\":{\"standoff\":15},\"zerolinecolor\":\"#EBF0F8\",\"zerolinewidth\":2},\"yaxis\":{\"automargin\":true,\"gridcolor\":\"#EBF0F8\",\"linecolor\":\"#EBF0F8\",\"ticks\":\"\",\"title\":{\"standoff\":15},\"zerolinecolor\":\"#EBF0F8\",\"zerolinewidth\":2}}},\"xaxis\":{\"title\":{\"text\":\"Time\"},\"rangeslider\":{\"visible\":true}},\"title\":{\"text\":\"Bitcoin(BTC) Candelstick Chart\",\"y\":0.9,\"x\":0.5,\"xanchor\":\"center\",\"yanchor\":\"top\"},\"yaxis\":{\"title\":{\"text\":\"Prix en USD\"},\"ticksuffix\":\"$\"}},                        {\"responsive\": true}                    ).then(function(){\n",
       "                            \n",
       "var gd = document.getElementById('d3b1506a-49ea-49d5-be85-6e8fc2b15004');\n",
       "var x = new MutationObserver(function (mutations, observer) {{\n",
       "        var display = window.getComputedStyle(gd).display;\n",
       "        if (!display || display === 'none') {{\n",
       "            console.log([gd, 'removed!']);\n",
       "            Plotly.purge(gd);\n",
       "            observer.disconnect();\n",
       "        }}\n",
       "}});\n",
       "\n",
       "// Listen for the removal of the full notebook cells\n",
       "var notebookContainer = gd.closest('#notebook-container');\n",
       "if (notebookContainer) {{\n",
       "    x.observe(notebookContainer, {childList: true});\n",
       "}}\n",
       "\n",
       "// Listen for the clearing of the current output cell\n",
       "var outputEl = gd.closest('.output');\n",
       "if (outputEl) {{\n",
       "    x.observe(outputEl, {childList: true});\n",
       "}}\n",
       "\n",
       "                        })                };                });            </script>        </div>"
      ]
     },
     "metadata": {},
     "output_type": "display_data"
    }
   ],
   "source": [
    "btc_plot = candelstick_chart(BTC_Data[-90:],title = \"Bitcoin(BTC)\")\n",
    "btc_plot.show()"
   ]
  },
  {
   "cell_type": "markdown",
   "id": "f46b46c4",
   "metadata": {},
   "source": [
    "<h4 style=\"color:grey\">OHLC CHARTS</h4>"
   ]
  },
  {
   "cell_type": "code",
   "execution_count": 63,
   "id": "2e8c7230",
   "metadata": {},
   "outputs": [],
   "source": [
    "def ohlc_chart(data,title):\n",
    "    ohlc = go.Figure(data = [go.Ohlc(x =data.index, \n",
    "                                               open = data[('Open')], \n",
    "                                               high = data[('High')], \n",
    "                                               low = data[('Low')], \n",
    "                                               close = data[('Close')])])\n",
    "    ohlc.update_xaxes(title_text = 'Time',\n",
    "                             rangeslider_visible = True)\n",
    "\n",
    "    ohlc.update_layout(\n",
    "    title = {\n",
    "        'text': '{:} OHLC Chart'.format(title),\n",
    "        'y':0.9,\n",
    "        'x':0.5,\n",
    "        'xanchor': 'center',\n",
    "        'yanchor': 'top'},\n",
    "        template=\"plotly_white\")\n",
    "\n",
    "    ohlc.update_yaxes(title_text = 'Prix en USD', ticksuffix = '$')\n",
    "    return ohlc"
   ]
  },
  {
   "cell_type": "code",
   "execution_count": 64,
   "id": "c111f534",
   "metadata": {},
   "outputs": [
    {
     "data": {
      "application/vnd.plotly.v1+json": {
       "config": {
        "plotlyServerURL": "https://plot.ly"
       },
       "data": [
        {
         "close": [
          7200.174316,
          6985.470215,
          7344.884277,
          7410.656738,
          7411.317383,
          7769.219238,
          8163.692383,
          8079.862793,
          7879.071289,
          8166.554199,
          8037.537598,
          8192.494141,
          8144.194336,
          8827.764648,
          8807.010742,
          8723.786133,
          8929.038086,
          8942.808594,
          8706.245117,
          8657.642578,
          8745.894531,
          8680.875977,
          8406.515625,
          8445.43457,
          8367.847656,
          8596.830078,
          8909.819336,
          9358.589844,
          9316.629883,
          9508.993164,
          9350.529297,
          9392.875,
          9344.365234,
          9293.521484,
          9180.962891,
          9613.423828,
          9729.801758,
          9795.943359,
          9865.119141,
          10116.673828,
          9856.611328,
          10208.236328,
          10326.054688,
          10214.379883,
          10312.116211,
          9889.424805,
          9934.433594,
          9690.142578,
          10141.996094,
          9633.386719,
          9608.475586,
          9686.441406,
          9663.181641,
          9924.515625,
          9650.174805,
          9341.705078,
          8820.522461,
          8784.494141,
          8672.455078,
          8599.508789,
          8562.454102,
          8869.669922,
          8787.786133,
          8755.246094,
          9078.762695,
          9122.545898,
          8909.954102,
          8108.116211,
          7923.644531,
          7909.729492,
          7911.430176,
          4970.788086,
          5563.707031,
          5200.366211,
          5392.314941,
          5014.47998,
          5225.629395,
          5238.438477,
          6191.192871,
          6198.77832,
          6185.066406,
          5830.254883,
          6416.314941,
          6734.803711,
          6681.062988,
          6716.44043,
          6469.79834,
          6242.193848,
          5922.042969,
          6429.841797,
          6438.644531,
          6606.776367,
          6793.624512,
          6733.387207,
          6867.527344,
          6791.129395,
          7271.78125,
          7176.414551,
          7334.098633,
          7302.089355,
          6865.493164,
          6859.083008,
          6971.091797,
          6845.037598,
          6842.427734,
          6642.109863,
          7116.804199,
          7096.18457,
          7257.665039,
          7189.424805,
          6881.958496,
          6880.323242,
          7117.20752,
          7429.724609,
          7550.900879,
          7569.936035,
          7679.867188,
          7795.601074,
          7807.058594,
          8801.038086,
          8658.553711,
          8864.766602,
          8988.59668,
          8897.46875,
          8912.654297,
          9003.070313,
          9268.761719,
          9951.518555,
          9842.666016,
          9593.896484,
          8756.430664,
          8601.795898,
          8804.477539,
          9269.987305,
          9733.72168,
          9328.197266,
          9377.013672,
          9670.739258,
          9726.575195,
          9729.038086,
          9522.981445,
          9081.761719,
          9182.577148,
          9209.287109,
          8790.368164,
          8906.93457,
          8835.052734,
          9181.017578,
          9525.750977,
          9439.124023,
          9700.414063,
          9461.058594,
          10167.268555,
          9529.803711,
          9656.717773,
          9800.636719,
          9665.533203,
          9653.679688,
          9758.852539,
          9771.489258,
          9795.700195,
          9870.094727,
          9321.78125,
          9480.84375,
          9475.277344,
          9386.788086,
          9450.702148,
          9538.024414,
          9480.254883,
          9411.84082,
          9288.018555,
          9332.34082,
          9303.629883,
          9648.717773,
          9629.658203,
          9313.610352,
          9264.813477,
          9162.917969,
          9045.390625,
          9143.582031,
          9190.854492,
          9137.993164,
          9228.325195,
          9123.410156,
          9087.303711,
          9132.488281,
          9073.942383,
          9375.474609,
          9252.277344,
          9428.333008,
          9277.967773,
          9278.807617,
          9240.34668,
          9276.5,
          9243.614258,
          9243.213867,
          9192.836914,
          9132.227539,
          9151.392578,
          9159.040039,
          9185.817383,
          9164.231445,
          9374.887695,
          9525.363281,
          9581.072266,
          9536.892578,
          9677.113281,
          9905.166992,
          10990.873047,
          10912.823242,
          11100.467773,
          11111.213867,
          11323.466797,
          11759.592773,
          11053.614258,
          11246.348633,
          11205.892578,
          11747.022461,
          11779.773438,
          11601.472656,
          11754.045898,
          11675.739258,
          11878.111328,
          11410.525391,
          11584.93457,
          11784.137695,
          11768.871094,
          11865.698242,
          11892.803711,
          12254.402344,
          11991.233398,
          11758.283203,
          11878.37207,
          11592.489258,
          11681.825195,
          11664.847656,
          11774.595703,
          11366.134766,
          11488.363281,
          11323.397461,
          11542.5,
          11506.865234,
          11711.505859,
          11680.820313,
          11970.478516,
          11414.03418,
          10245.296875,
          10511.813477,
          10169.567383,
          10280.351563,
          10369.563477,
          10131.516602,
          10242.347656,
          10363.138672,
          10400.915039,
          10442.170898,
          10323.755859,
          10680.837891,
          10796.951172,
          10974.905273,
          10948.990234,
          10944.585938,
          11094.34668,
          10938.271484,
          10462.259766,
          10538.459961,
          10246.186523,
          10760.066406,
          10692.716797,
          10750.723633,
          10775.269531,
          10709.652344,
          10844.640625,
          10784.491211,
          10619.452148,
          10575.974609,
          10549.329102,
          10669.583008,
          10793.339844,
          10604.40625,
          10668.96875,
          10915.685547,
          11064.458008,
          11296.361328,
          11384.181641,
          11555.363281,
          11425.899414,
          11429.506836,
          11495.349609,
          11322.123047,
          11358.101563,
          11483.359375,
          11742.037109,
          11916.334961,
          12823.689453,
          12965.891602,
          12931.539063,
          13108.0625,
          13031.173828,
          13075.248047,
          13654.21875,
          13271.285156,
          13437.882813,
          13546.522461,
          13780.995117,
          13737.109375,
          13550.489258,
          13950.300781,
          14133.707031,
          15579.848633,
          15565.880859,
          14833.753906,
          15479.567383,
          15332.31543,
          15290.902344,
          15701.339844,
          16276.34375,
          16317.808594,
          16068.138672,
          15955.587891,
          16716.111328,
          17645.40625,
          17804.005859,
          17817.089844,
          18621.314453,
          18642.232422,
          18370.001953,
          18364.121094,
          19107.464844,
          18732.121094,
          17150.623047,
          17108.402344,
          17717.414063,
          18177.484375,
          19625.835938,
          18802.998047,
          19201.091797,
          19445.398438,
          18699.765625,
          19154.230469,
          19345.121094,
          19191.630859,
          18321.144531,
          18553.916016,
          18264.992188,
          18058.904297,
          18803.65625,
          19142.382813,
          19246.644531,
          19417.076172,
          21310.597656,
          22805.162109,
          23137.960938,
          23869.832031,
          23477.294922,
          22803.082031,
          23783.029297,
          23241.345703,
          23735.949219,
          24664.791016,
          26437.037109,
          26272.294922,
          27084.808594,
          27362.4375,
          28840.953125,
          29001.720703,
          29374.152344,
          32127.267578,
          32782.023438,
          31971.914063,
          33992.429688,
          36824.363281,
          39371.042969,
          40797.609375,
          40254.546875,
          38356.441406,
          35566.65625,
          33922.960938,
          37316.359375,
          39187.328125,
          36825.367188,
          36178.140625,
          35791.277344,
          36630.074219,
          36069.804688,
          35547.75,
          30825.699219,
          33005.761719,
          32067.642578,
          32289.378906,
          32366.392578,
          32569.849609,
          30432.546875,
          33466.097656,
          34316.386719,
          34269.523438,
          33114.359375,
          33537.175781,
          35510.289063,
          37472.089844,
          36926.066406,
          38144.308594,
          39266.011719,
          38903.441406,
          46196.464844,
          46481.105469,
          44918.183594,
          47909.332031,
          47504.851563,
          47105.515625,
          48717.289063,
          47945.058594,
          49199.871094,
          52149.007813,
          51679.796875,
          55888.132813,
          56099.519531,
          57539.945313,
          54207.320313,
          48824.425781,
          49705.332031,
          47093.851563,
          46339.761719,
          46188.453125,
          45137.769531,
          49631.242188,
          48378.988281,
          50538.242188,
          48561.167969,
          48927.304688,
          48912.382813,
          51206.691406,
          52246.523438,
          54824.117188,
          56008.550781,
          57805.121094,
          57332.089844,
          61243.085938,
          59302.316406,
          55907.199219,
          56804.902344,
          58870.894531,
          57858.921875,
          58346.652344,
          58313.644531,
          57523.421875,
          54529.144531,
          54738.945313,
          52774.265625,
          51704.160156,
          55137.3125,
          55973.511719,
          55950.746094,
          57750.199219,
          58917.691406,
          58918.832031,
          59095.808594,
          59384.3125,
          57603.890625,
          58758.554688,
          59057.878906,
          58192.359375,
          56048.9375,
          58323.953125,
          58245.003906,
          59793.234375,
          60204.964844,
          59893.453125,
          63503.457031,
          63109.695313,
          63314.011719,
          61572.789063,
          60683.820313,
          56216.183594,
          55724.265625,
          56473.03125,
          53906.089844,
          51762.273438,
          51093.652344,
          50050.867188,
          49004.253906,
          54021.753906,
          55033.117188,
          54824.703125,
          53555.109375,
          57750.175781,
          57828.050781,
          56631.078125,
          57200.292969,
          53333.539063,
          57424.007813,
          56396.515625,
          57356.402344,
          58803.777344,
          58232.316406,
          55859.796875,
          56704.574219,
          49150.535156,
          49716.191406,
          49880.535156,
          46760.1875,
          46456.058594,
          43537.511719,
          42909.402344,
          37002.441406,
          40782.738281,
          37304.691406,
          37536.632813,
          34770.582031,
          38705.980469,
          38402.222656,
          39294.199219,
          38436.96875,
          35697.605469,
          34616.066406,
          35678.128906,
          37332.855469,
          36684.925781,
          37575.179688,
          39208.765625,
          36894.40625,
          35551.957031,
          35862.378906,
          33560.707031,
          33472.632813,
          37345.121094,
          36702.597656,
          37334.398438,
          35552.515625,
          39097.859375,
          40218.476563,
          40406.269531,
          38347.0625,
          38053.503906,
          35787.246094,
          35615.871094,
          35698.296875,
          31676.693359,
          32505.660156,
          33723.027344,
          34662.4375,
          31637.779297,
          32186.277344,
          34649.644531,
          34434.335938,
          35867.777344,
          35040.835938,
          33572.117188,
          33897.046875,
          34668.546875,
          35287.78125,
          33746.003906,
          34235.195313,
          33855.328125,
          32877.371094,
          33798.011719,
          33520.519531,
          34240.1875,
          33155.847656,
          32702.025391,
          32822.347656
         ],
         "high": [
          7254.330566,
          7212.155273,
          7413.715332,
          7427.385742,
          7544.49707,
          7781.867188,
          8178.21582,
          8396.738281,
          8082.295898,
          8166.554199,
          8218.359375,
          8200.063477,
          8197.788086,
          8879.511719,
          8890.117188,
          8846.460938,
          8958.12207,
          9012.198242,
          9164.362305,
          8745.59082,
          8755.706055,
          8792.994141,
          8687.74707,
          8514.666992,
          8458.453125,
          8602.401367,
          8977.726563,
          9358.589844,
          9406.431641,
          9553.125977,
          9521.706055,
          9439.323242,
          9468.797852,
          9540.37207,
          9331.265625,
          9701.299805,
          9824.619141,
          9834.716797,
          9876.749023,
          10129.435547,
          10165.765625,
          10210.052734,
          10393.611328,
          10457.626953,
          10321.996094,
          10341.555664,
          10053.96875,
          9938.81543,
          10161.935547,
          10191.675781,
          9643.216797,
          9723.014648,
          9698.231445,
          9937.404297,
          9951.746094,
          9652.737305,
          9354.77832,
          8932.892578,
          8890.456055,
          8775.631836,
          8726.796875,
          8921.308594,
          8901.598633,
          8843.366211,
          9142.054688,
          9167.695313,
          9163.220703,
          8914.34375,
          8177.793457,
          8136.945313,
          7950.814453,
          7929.116211,
          5838.114746,
          5625.226563,
          5836.64502,
          5385.229492,
          5371.348633,
          5331.833984,
          6329.73584,
          6844.261719,
          6378.135254,
          6359.697266,
          6443.93457,
          6789.022949,
          6892.51123,
          6735.463867,
          6793.836426,
          6467.500977,
          6250.467285,
          6517.195801,
          6504.515137,
          6612.57373,
          7088.247559,
          7003.220703,
          6878.953613,
          6883.414063,
          7271.78125,
          7427.939453,
          7356.223633,
          7341.448242,
          7303.81543,
          6926.069824,
          7119.947266,
          6965.616699,
          6958.557129,
          6928.664551,
          7134.450684,
          7167.183105,
          7269.956543,
          7280.521973,
          7240.290527,
          6934.551758,
          7145.865723,
          7491.785156,
          7574.195801,
          7641.36377,
          7700.594238,
          7795.601074,
          7814.527344,
          8871.753906,
          9440.650391,
          9048.023438,
          9007.1875,
          9167.78125,
          8956.90625,
          9062.415039,
          9411.467773,
          9992.664063,
          9996.743164,
          9913.863281,
          9595.581055,
          9033.470703,
          8949.898438,
          9317.878906,
          9793.268555,
          9755.828125,
          9564.205078,
          9823.001953,
          9906.030273,
          9836.047852,
          9804.793945,
          9555.242188,
          9232.936523,
          9302.501953,
          9288.404297,
          8951.005859,
          8991.967773,
          9203.320313,
          9546.319336,
          9573.666992,
          9704.030273,
          9700.34375,
          10199.56543,
          10182.34082,
          9682.859375,
          9887.610352,
          9869.237305,
          9773.431641,
          9768.498047,
          9782.306641,
          9836.369141,
          9908.896484,
          9938.297852,
          9540.46582,
          9493.211914,
          9482.270508,
          9504.860352,
          9579.430664,
          9540.422852,
          9482.782227,
          9440.875977,
          9394.97168,
          9401.107422,
          9655.073242,
          9670.541016,
          9680.367188,
          9340.161133,
          9310.516602,
          9207.810547,
          9197.546875,
          9237.573242,
          9217.835938,
          9309.754883,
          9274.962891,
          9202.344727,
          9183.295898,
          9162.183594,
          9375.474609,
          9360.617188,
          9450.335938,
          9431.378906,
          9287.47168,
          9293.532227,
          9319.418945,
          9306.405273,
          9283.841797,
          9275.325195,
          9214.3125,
          9182.253906,
          9230.983398,
          9201.398438,
          9214.270508,
          9407.262695,
          9530.518555,
          9610.24707,
          9623.336914,
          9704.556641,
          10023.807617,
          11298.22168,
          11204.327148,
          11304.397461,
          11169.356445,
          11415.864258,
          11794.775391,
          12034.144531,
          11453.079102,
          11385.381836,
          11786.617188,
          11902.335938,
          11898.038086,
          11800.064453,
          11806.056641,
          12045.140625,
          11932.710938,
          11748.396484,
          11796.396484,
          12150.994141,
          11963.203125,
          11934.901367,
          12359.056641,
          12335.707031,
          12028.923828,
          11900.411133,
          11899.259766,
          11689.407227,
          11713.429688,
          11807.631836,
          11778.299805,
          11530.052734,
          11570.786133,
          11545.615234,
          11585.640625,
          11715.264648,
          11768.876953,
          12067.081055,
          11964.823242,
          11443.022461,
          10663.919922,
          10581.571289,
          10353.927734,
          10399.15332,
          10414.775391,
          10350.542969,
          10503.912109,
          10434.922852,
          10578.837891,
          10577.214844,
          10800.010742,
          10938.631836,
          11100.124023,
          11037.420898,
          11034.908203,
          11134.092773,
          11095.870117,
          10988.304688,
          10568.077148,
          10537.828125,
          10771.056641,
          10777.696289,
          10772.999023,
          10803.976563,
          10945.347656,
          10860.000977,
          10847.256836,
          10933.624023,
          10657.837891,
          10598.94043,
          10686,
          10793.507813,
          10797.578125,
          10680.507813,
          10945.737305,
          11102.671875,
          11442.210938,
          11428.813477,
          11698.467773,
          11548.984375,
          11539.977539,
          11569.914063,
          11540.061523,
          11386.261719,
          11483.359375,
          11799.092773,
          11999.917969,
          13184.566406,
          13161.59375,
          13015.961914,
          13145.066406,
          13329.183594,
          13225.297852,
          13759.668945,
          13837.695313,
          13612.047852,
          13651.516602,
          14028.213867,
          13862.033203,
          13808.323242,
          13984.981445,
          14218.766602,
          15706.404297,
          15903.4375,
          15737.095703,
          15637.320313,
          15785.136719,
          15450.329102,
          15916.260742,
          16305.003906,
          16463.177734,
          16317.808594,
          16123.110352,
          16816.181641,
          17782.919922,
          18393.949219,
          18119.546875,
          18773.226563,
          18936.621094,
          18688.96875,
          18711.425781,
          19348.271484,
          19390.964844,
          18866.285156,
          17445.023438,
          17853.939453,
          18283.628906,
          19749.263672,
          19845.974609,
          19308.330078,
          19566.191406,
          19511.404297,
          19160.449219,
          19390.5,
          19411.828125,
          19283.478516,
          18626.292969,
          18553.298828,
          18268.453125,
          18919.550781,
          19381.535156,
          19305.099609,
          19525.007813,
          21458.908203,
          23642.660156,
          23238.601563,
          24085.855469,
          24209.660156,
          24059.982422,
          23789.902344,
          24024.490234,
          23768.337891,
          24710.101563,
          26718.070313,
          28288.839844,
          27389.111328,
          27370.720703,
          28937.740234,
          29244.876953,
          29600.626953,
          33155.117188,
          34608.558594,
          33440.21875,
          34437.589844,
          36879.699219,
          40180.367188,
          41946.738281,
          41436.351563,
          41420.191406,
          38346.53125,
          36568.527344,
          37599.960938,
          39966.40625,
          39577.710938,
          37864.367188,
          36722.351563,
          37299.285156,
          37755.890625,
          36378.328125,
          35552.679688,
          33811.851563,
          33360.976563,
          32944.007813,
          34802.742188,
          32794.550781,
          32564.029297,
          33858.3125,
          38406.261719,
          34834.707031,
          34288.332031,
          34638.214844,
          35896.882813,
          37480.1875,
          38592.175781,
          38225.90625,
          40846.546875,
          39621.835938,
          46203.929688,
          48003.722656,
          47145.566406,
          48463.46875,
          48745.734375,
          48047.746094,
          49487.640625,
          48875.570313,
          50341.101563,
          52533.914063,
          52474.105469,
          56113.652344,
          57505.226563,
          58330.570313,
          57533.390625,
          54204.929688,
          51290.136719,
          51948.96875,
          48370.785156,
          48253.269531,
          46716.429688,
          49784.015625,
          50127.511719,
          52535.136719,
          51735.089844,
          49396.429688,
          49147.21875,
          51384.367188,
          52314.070313,
          54824.117188,
          57258.253906,
          58091.0625,
          57996.621094,
          61683.863281,
          61597.917969,
          60540.992188,
          56833.179688,
          58969.816406,
          60116.25,
          59498.375,
          60031.285156,
          58767.898438,
          58471.480469,
          55985.441406,
          57262.382813,
          53392.386719,
          55137.3125,
          56568.214844,
          56610.3125,
          58342.097656,
          59447.222656,
          59930.027344,
          59586.070313,
          60267.1875,
          60110.269531,
          58913.746094,
          59891.296875,
          59479.578125,
          58731.144531,
          58338.738281,
          58937.046875,
          61276.664063,
          60790.554688,
          61253.035156,
          63742.285156,
          64863.097656,
          63821.671875,
          63594.722656,
          62572.175781,
          61057.457031,
          57520.054688,
          57062.148438,
          56757.972656,
          55410.230469,
          52120.792969,
          51167.5625,
          50506.019531,
          54288.003906,
          55416.964844,
          56227.207031,
          55115.84375,
          57900.71875,
          58448.339844,
          57902.59375,
          58973.308594,
          57214.179688,
          57911.363281,
          58363.316406,
          58606.632813,
          59464.613281,
          59210.882813,
          59519.355469,
          56872.542969,
          57939.363281,
          51330.84375,
          51438.117188,
          50639.664063,
          49720.042969,
          46623.558594,
          45812.457031,
          43546.117188,
          42462.984375,
          42172.171875,
          38831.054688,
          38289.21875,
          39835.140625,
          39776.351563,
          40782.078125,
          40379.617188,
          38856.96875,
          37234.5,
          36400.667969,
          37468.25,
          37896.734375,
          38231.339844,
          39478.953125,
          39242.484375,
          37917.714844,
          36436.421875,
          36790.570313,
          34017.386719,
          37537.371094,
          38334.324219,
          37608.695313,
          37408.925781,
          39322.78125,
          40978.363281,
          41295.269531,
          40516.777344,
          39513.671875,
          38187.261719,
          36457.796875,
          36059.484375,
          35721.640625,
          33292.453125,
          34753.410156,
          35228.851563,
          35487.246094,
          32637.587891,
          34656.128906,
          35219.890625,
          36542.109375,
          36074.757813,
          35035.984375,
          33939.589844,
          34909.261719,
          35937.566406,
          35284.34375,
          35038.535156,
          34997.664063,
          33907.90625,
          34042.292969,
          34209.070313,
          34584.703125,
          34592.15625,
          33327.101563,
          33061.398438
         ],
         "low": [
          7174.944336,
          6935.27002,
          6914.996094,
          7309.51416,
          7400.535645,
          7409.292969,
          7768.227539,
          7956.774414,
          7842.403809,
          7726.774902,
          8029.64209,
          8009.059082,
          8079.700684,
          8140.933105,
          8657.1875,
          8612.095703,
          8677.316406,
          8827.332031,
          8620.080078,
          8560.473633,
          8544.520508,
          8636.74707,
          8333.637695,
          8266.84082,
          8296.21875,
          8325.498047,
          8597.308594,
          8908.447266,
          9269.467773,
          9230.897461,
          9230.776367,
          9313.239258,
          9217.824219,
          9248.633789,
          9112.811523,
          9163.704102,
          9539.818359,
          9726.00293,
          9678.910156,
          9850.392578,
          9784.563477,
          9729.334961,
          10202.387695,
          10116.161133,
          10125.53418,
          9874.427734,
          9722.386719,
          9507.637695,
          9632.382813,
          9611.223633,
          9507.900391,
          9589.743164,
          9600.728516,
          9657.791016,
          9537.042969,
          9305.021484,
          8704.426758,
          8577.199219,
          8492.932617,
          8599.508789,
          8471.212891,
          8532.630859,
          8704.990234,
          8712.431641,
          8757.253906,
          9032.079102,
          8890.744141,
          8105.25293,
          7690.098145,
          7814.763184,
          7642.8125,
          4860.354004,
          4106.980957,
          5125.069336,
          5169.283203,
          4575.35791,
          4981.90918,
          5069.335938,
          5236.96875,
          5865.781738,
          5932.823242,
          5823.713867,
          5785.004395,
          6411.066406,
          6536.92627,
          6590.962891,
          6466.70166,
          6117.837891,
          5920.085938,
          5903.234375,
          6374.162109,
          6202.373535,
          6595.918457,
          6673.335938,
          6696.484863,
          6715.929199,
          6782.889648,
          7136.714355,
          7153.305664,
          7179.094238,
          6802.475098,
          6789.920898,
          6811.078125,
          6668.259766,
          6793.821289,
          6633.402832,
          6555.504395,
          7050.332031,
          7089.24707,
          7167.054688,
          6835.50293,
          6834.442383,
          6867.781738,
          7081.594727,
          7434.181641,
          7521.672363,
          7561.407715,
          7679.418945,
          7730.806641,
          7786.049316,
          8533.255859,
          8667.763672,
          8811.366211,
          8830.97168,
          8645.024414,
          8856.827148,
          8966.706055,
          9138.322266,
          9767.172852,
          9580.644531,
          8395.107422,
          8374.323242,
          8569.643555,
          8805.387695,
          9255.035156,
          9261.398438,
          9260.694336,
          9349.545898,
          9570.359375,
          9539.624023,
          9447.201172,
          8869.930664,
          9008.638672,
          9118.108398,
          8787.250977,
          8719.667969,
          8757.293945,
          8834.157227,
          9148.457031,
          9379.338867,
          9366.729492,
          9432.296875,
          9450.899414,
          9460.571289,
          9471.84668,
          9525.24707,
          9663.216797,
          9591.024414,
          9458.150391,
          9675.885742,
          9664.719727,
          9728.291016,
          9263.069336,
          9285.851563,
          9396.009766,
          9347.59375,
          8990.175781,
          9400.445313,
          9327.339844,
          9328.395508,
          9274.295898,
          9247.379883,
          9300.430664,
          9296.87207,
          9547.24707,
          9278.233398,
          9095.324219,
          9101.738281,
          8998.216797,
          8975.525391,
          9041.875977,
          9084.837891,
          9104.735352,
          9036.623047,
          9058.794922,
          9053.629883,
          8977.015625,
          9058.664063,
          9201.81543,
          9249.5,
          9234.999023,
          9118.001953,
          9199.485352,
          9197.450195,
          9224.292969,
          9171.661133,
          9171.933594,
          9088.947266,
          9089.202148,
          9100.824219,
          9097.632813,
          9137.509766,
          9149.389648,
          9319.65332,
          9483.003906,
          9481.454102,
          9530.211914,
          9652.847656,
          9903.969727,
          10632.631836,
          10856.141602,
          10895.455078,
          10987.053711,
          11239.682617,
          11018.129883,
          11012.415039,
          11094.145508,
          11158.285156,
          11598.713867,
          11408.59375,
          11558.431641,
          11548.78418,
          11662.256836,
          11195.708984,
          11249.605469,
          11216.87207,
          11685.455078,
          11768.697266,
          11737.188477,
          11806.696289,
          11954.525391,
          11687.333008,
          11710.063477,
          11564.979492,
          11448.805664,
          11559.920898,
          11623.25,
          11189.850586,
          11296.993164,
          11185.941406,
          11316.422852,
          11466.292969,
          11492.381836,
          11598.318359,
          11601.128906,
          11290.793945,
          10182.464844,
          10207.94043,
          9946.675781,
          10056.885742,
          9916.493164,
          9945.110352,
          10017.250977,
          10238.135742,
          10140.836914,
          10292.386719,
          10224.330078,
          10266.008789,
          10656.459961,
          10704.884766,
          10774.62793,
          10829.657227,
          10909.618164,
          10814.477539,
          10380.260742,
          10382.726563,
          10197.865234,
          10231.490234,
          10578.914063,
          10667.28125,
          10622.921875,
          10703.893555,
          10649.495117,
          10669.321289,
          10472.356445,
          10416.689453,
          10511.129883,
          10534.391602,
          10634.600586,
          10528.890625,
          10562.506836,
          10562.606445,
          10846.850586,
          11056.94043,
          11288.62793,
          11240.686523,
          11321.224609,
          11307.831055,
          11303.603516,
          11223.012695,
          11285.345703,
          11347.578125,
          11408.290039,
          11681.480469,
          11900.928711,
          12717.09375,
          12752.647461,
          12885.74707,
          12910.061523,
          12822.382813,
          13060.837891,
          12932.250977,
          12980.05957,
          13136.198242,
          13457.530273,
          13628.37793,
          13243.160156,
          13325.441406,
          13580.47168,
          14102.088867,
          15226.839844,
          14423.203125,
          14744.110352,
          14865.529297,
          15124.959961,
          15290.006836,
          15534.771484,
          15992.152344,
          15749.193359,
          15793.53418,
          15880.706055,
          16564.544922,
          17352.90625,
          17382.554688,
          17765.794922,
          18444.359375,
          17671.384766,
          18000.796875,
          18128.65625,
          18581.146484,
          16351.035156,
          16526.423828,
          16910.652344,
          17559.117188,
          18178.322266,
          18321.921875,
          18347.71875,
          18925.785156,
          18697.193359,
          18590.193359,
          18897.894531,
          18931.142578,
          18269.945313,
          17935.546875,
          17957.064453,
          17619.533203,
          18046.041016,
          18734.332031,
          19012.708984,
          19079.841797,
          19298.316406,
          21234.675781,
          22399.8125,
          22826.472656,
          23147.710938,
          22159.367188,
          22430.605469,
          22802.646484,
          22777.597656,
          23463.673828,
          24522.689453,
          25922.769531,
          26207.640625,
          25987.298828,
          27360.089844,
          28201.992188,
          28803.585938,
          29091.181641,
          32052.316406,
          28722.755859,
          30221.1875,
          33514.035156,
          36491.191406,
          36838.636719,
          38980.875,
          35984.628906,
          30549.599609,
          32697.976563,
          32584.667969,
          36868.5625,
          34659.589844,
          35633.554688,
          34069.320313,
          34883.84375,
          36069.804688,
          33570.476563,
          30250.75,
          28953.373047,
          31493.160156,
          31106.685547,
          32087.787109,
          31030.265625,
          29367.138672,
          30023.207031,
          32064.814453,
          32940.1875,
          32270.175781,
          32384.228516,
          33489.21875,
          35443.984375,
          36317.5,
          36658.761719,
          38138.386719,
          37446.152344,
          38076.324219,
          45166.960938,
          43881.152344,
          44187.761719,
          46424.976563,
          46392.28125,
          47114.507813,
          46347.476563,
          47201.304688,
          49072.378906,
          51015.765625,
          50937.277344,
          54626.558594,
          55672.609375,
          48967.566406,
          45290.589844,
          47213.5,
          47093.851563,
          44454.84375,
          45269.027344,
          43241.617188,
          45115.09375,
          47228.84375,
          48274.320313,
          47656.929688,
          46542.515625,
          47257.527344,
          48918.679688,
          49506.054688,
          51981.832031,
          53290.890625,
          54484.59375,
          55376.648438,
          56217.972656,
          59302.316406,
          55393.164063,
          53555.027344,
          54528.628906,
          54253.578125,
          56643.703125,
          58213.296875,
          56005.617188,
          54288.15625,
          53470.695313,
          52514.332031,
          50856.570313,
          51579.855469,
          54242.910156,
          55071.113281,
          55139.339844,
          57251.550781,
          57726.417969,
          58505.277344,
          58869.28125,
          57603.890625,
          57168.675781,
          57694.824219,
          57646.808594,
          55604.023438,
          55879.085938,
          57807.863281,
          58038.707031,
          59289.796875,
          59589.875,
          59869.957031,
          61554.796875,
          62208.964844,
          60222.53125,
          60361.351563,
          52829.535156,
          54368.59375,
          53448.046875,
          53695.46875,
          50583.8125,
          47714.664063,
          48805.285156,
          47159.484375,
          48852.796875,
          53319.1875,
          53887.917969,
          52418.027344,
          53129.601563,
          57052.273438,
          56141.90625,
          56590.871094,
          53191.425781,
          52969.054688,
          55382.507813,
          55321.847656,
          56975.210938,
          56482.003906,
          54071.457031,
          54608.652344,
          49150.535156,
          46980.019531,
          48868.578125,
          46664.140625,
          43963.351563,
          42207.289063,
          42367.832031,
          30681.496094,
          35050.617188,
          33616.453125,
          35383.683594,
          31227.339844,
          34551.082031,
          36581.429688,
          37905.835938,
          37247.902344,
          34779.039063,
          33693.929688,
          33520.738281,
          34241.945313,
          35787.085938,
          35966.308594,
          37243.972656,
          35717.722656,
          34900.414063,
          35304.578125,
          33480.640625,
          31114.443359,
          32475.865234,
          35847.59375,
          36044.449219,
          34728.191406,
          34864.109375,
          38757.285156,
          39609.46875,
          38176.035156,
          37439.675781,
          35255.855469,
          34933.0625,
          33432.074219,
          31295.935547,
          28893.621094,
          31772.632813,
          32385.214844,
          31350.884766,
          30184.501953,
          32071.757813,
          33902.074219,
          34252.484375,
          34086.152344,
          32883.78125,
          32770.679688,
          33402.695313,
          34396.476563,
          33213.660156,
          33599.917969,
          33839.289063,
          32133.183594,
          32318.880859,
          33116.011719,
          33346.738281,
          32697.308594,
          32261.419922,
          31639.125
         ],
         "open": [
          7194.89209,
          7202.55127,
          6984.428711,
          7345.375488,
          7410.45166,
          7410.452148,
          7768.682129,
          8161.935547,
          8082.295898,
          7878.307617,
          8162.190918,
          8033.261719,
          8189.771973,
          8140.933105,
          8825.34375,
          8812.481445,
          8725.209961,
          8927.211914,
          8941.445313,
          8704.631836,
          8658.991211,
          8744.210938,
          8680.650391,
          8405.567383,
          8440.119141,
          8364.410156,
          8597.308594,
          8912.524414,
          9357.470703,
          9316.016602,
          9508.313477,
          9346.357422,
          9389.820313,
          9344.683594,
          9292.841797,
          9183.416016,
          9617.821289,
          9726.00293,
          9793.070313,
          9863.894531,
          10115.55957,
          9855.891602,
          10202.387695,
          10323.960938,
          10211.550781,
          10313.856445,
          9889.179688,
          9936.560547,
          9691.230469,
          10143.798828,
          9629.325195,
          9611.782227,
          9687.707031,
          9663.318359,
          9921.583008,
          9651.3125,
          9338.290039,
          8825.09375,
          8788.728516,
          8671.212891,
          8599.758789,
          8563.264648,
          8865.387695,
          8788.541992,
          8760.285156,
          9078.308594,
          9121.600586,
          8908.206055,
          8111.146484,
          7922.146973,
          7910.089844,
          7913.616211,
          5017.831055,
          5573.077637,
          5201.066895,
          5385.229492,
          5002.578125,
          5227.11377,
          5245.416504,
          6191.653809,
          6206.521484,
          6185.558105,
          5831.374512,
          6436.642578,
          6738.716797,
          6675.170898,
          6719.38916,
          6467.253906,
          6245.624512,
          5925.538574,
          6430.606445,
          6437.319336,
          6606.776367,
          6797.396484,
          6738.382813,
          6862.537598,
          6788.049805,
          7273.644043,
          7179.283203,
          7337.966309,
          7303.81543,
          6867.44043,
          6858.067871,
          6965.616699,
          6843.281738,
          6845.561523,
          6640.454102,
          7116.552734,
          7092.291504,
          7260.922363,
          7186.873535,
          6879.78418,
          6879.44043,
          7121.306152,
          7434.181641,
          7550.48291,
          7570.13916,
          7679.418945,
          7796.970215,
          7806.712402,
          8797.669922,
          8672.782227,
          8869.057617,
          8983.614258,
          8895.745117,
          8912.832031,
          9007.441406,
          9261.895508,
          9936.162109,
          9840.90625,
          9591.168945,
          8755.535156,
          8610.385742,
          8805.387695,
          9271.329102,
          9734.291016,
          9333.240234,
          9374.929688,
          9675.695313,
          9727.063477,
          9725.329102,
          9522.740234,
          9080.334961,
          9185.0625,
          9212.283203,
          8786.107422,
          8909.585938,
          8837.380859,
          9184.945313,
          9528.355469,
          9438.914063,
          9700.105469,
          9463.605469,
          10162.973633,
          9533.760742,
          9655.854492,
          9800.21582,
          9664.904297,
          9653.00293,
          9760.063477,
          9774.360352,
          9794.119141,
          9870.078125,
          9320.69043,
          9480.735352,
          9477.553711,
          9386.035156,
          9454.266602,
          9533.78418,
          9481.567383,
          9410.293945,
          9290.959961,
          9330.926758,
          9300.915039,
          9644.076172,
          9632.149414,
          9314.126953,
          9260.995117,
          9167.824219,
          9048.460938,
          9140.029297,
          9185.581055,
          9145.985352,
          9231.139648,
          9124.842773,
          9084.233398,
          9126.09082,
          9072.849609,
          9349.161133,
          9253.020508,
          9427.994141,
          9273.357422,
          9277.511719,
          9241.054688,
          9277.205078,
          9238.703125,
          9241.897461,
          9191.980469,
          9131.8125,
          9151.183594,
          9158.005859,
          9187.220703,
          9162.514648,
          9375.080078,
          9527.141602,
          9585.514648,
          9539.485352,
          9680.234375,
          9905.217773,
          11017.463867,
          10912.953125,
          11099.833008,
          11110.210938,
          11322.570313,
          11758.764648,
          11043.768555,
          11246.203125,
          11203.823242,
          11749.871094,
          11778.894531,
          11604.553711,
          11737.325195,
          11662.256836,
          11881.647461,
          11404.59668,
          11588.405273,
          11772.65918,
          11768.697266,
          11866.685547,
          11895.658203,
          12251.895508,
          11990.884766,
          11761.5,
          11878.026367,
          11585.477539,
          11679.696289,
          11663.689453,
          11773.588867,
          11366.894531,
          11485.608398,
          11325.295898,
          11541.054688,
          11508.713867,
          11713.306641,
          11679.316406,
          11964.823242,
          11407.191406,
          10230.365234,
          10512.530273,
          10167.216797,
          10280.998047,
          10369.306641,
          10134.151367,
          10242.330078,
          10369.02832,
          10409.861328,
          10452.399414,
          10328.734375,
          10677.754883,
          10797.761719,
          10973.251953,
          10951.820313,
          10933.75293,
          11095.870117,
          10934.925781,
          10459.624023,
          10535.492188,
          10248.786133,
          10761.109375,
          10695.575195,
          10746.892578,
          10776.613281,
          10709.650391,
          10843.871094,
          10795.254883,
          10619.821289,
          10575.100586,
          10550.44043,
          10676.529297,
          10796.306641,
          10603.355469,
          10669.371094,
          10927.913086,
          11059.142578,
          11296.082031,
          11392.635742,
          11548.719727,
          11429.047852,
          11426.602539,
          11502.828125,
          11322.123047,
          11355.982422,
          11495.038086,
          11745.974609,
          11913.077148,
          12801.635742,
          12971.548828,
          12931.574219,
          13108.063477,
          13031.201172,
          13075.242188,
          13654.214844,
          13271.298828,
          13437.874023,
          13546.532227,
          13780.995117,
          13737.032227,
          13550.451172,
          13950.488281,
          14133.733398,
          15579.729492,
          15565.880859,
          14833.753906,
          15479.595703,
          15332.350586,
          15290.90918,
          15701.298828,
          16276.44043,
          16317.808594,
          16068.139648,
          15955.577148,
          16685.691406,
          17645.191406,
          17803.861328,
          17817.083984,
          18621.316406,
          18642.232422,
          18370.017578,
          18365.015625,
          19104.410156,
          18729.839844,
          17153.914063,
          17112.933594,
          17719.634766,
          18178.322266,
          19633.769531,
          18801.744141,
          19205.925781,
          19446.966797,
          18698.384766,
          19154.179688,
          19343.128906,
          19191.529297,
          18320.884766,
          18553.298828,
          18263.929688,
          18051.320313,
          18806.765625,
          19144.492188,
          19246.919922,
          19418.818359,
          21308.351563,
          22806.796875,
          23132.865234,
          23861.765625,
          23474.455078,
          22794.039063,
          23781.974609,
          23240.203125,
          23733.570313,
          24677.015625,
          26439.373047,
          26280.822266,
          27081.810547,
          27360.089844,
          28841.574219,
          28994.009766,
          29376.455078,
          32129.408203,
          32810.949219,
          31977.041016,
          34013.613281,
          36833.875,
          39381.765625,
          40788.640625,
          40254.21875,
          38346.53125,
          35516.359375,
          33915.121094,
          37325.109375,
          39156.707031,
          36821.648438,
          36163.648438,
          35792.238281,
          36642.234375,
          36050.113281,
          35549.398438,
          30817.625,
          32985.757813,
          32064.376953,
          32285.798828,
          32358.613281,
          32564.029297,
          30441.041016,
          34318.671875,
          34295.933594,
          34270.878906,
          33114.578125,
          33533.199219,
          35510.820313,
          37475.105469,
          36931.546875,
          38138.386719,
          39250.191406,
          38886.828125,
          46184.992188,
          46469.761719,
          44898.710938,
          47877.035156,
          47491.203125,
          47114.507813,
          48696.535156,
          47944.457031,
          49207.277344,
          52140.972656,
          51675.980469,
          55887.335938,
          56068.566406,
          57532.738281,
          54204.929688,
          48835.085938,
          49709.082031,
          47180.464844,
          46344.773438,
          46194.015625,
          45159.503906,
          49612.105469,
          48415.816406,
          50522.304688,
          48527.03125,
          48899.230469,
          48918.679688,
          51174.117188,
          52272.96875,
          54824.011719,
          55963.179688,
          57821.21875,
          57343.371094,
          61221.132813,
          59267.429688,
          55840.785156,
          56825.828125,
          58893.078125,
          57850.441406,
          58332.261719,
          58309.914063,
          57517.890625,
          54511.660156,
          54710.488281,
          52726.746094,
          51683.011719,
          55137.566406,
          55974.941406,
          55947.898438,
          57750.132813,
          58930.277344,
          58926.5625,
          59098.878906,
          59397.410156,
          57604.839844,
          58760.875,
          59171.933594,
          58186.507813,
          56099.914063,
          58326.5625,
          58253.777344,
          59846.230469,
          60175.945313,
          59890.019531,
          63523.753906,
          63075.195313,
          63258.503906,
          61529.921875,
          60701.886719,
          56191.585938,
          55681.792969,
          56471.128906,
          53857.105469,
          51739.808594,
          51143.226563,
          50052.832031,
          49077.792969,
          54030.304688,
          55036.636719,
          54858.089844,
          53568.664063,
          57714.664063,
          57825.863281,
          56620.273438,
          57214.179688,
          53252.164063,
          57441.308594,
          56413.953125,
          57352.765625,
          58877.390625,
          58250.871094,
          55847.242188,
          56714.53125,
          49735.433594,
          49682.980469,
          49855.496094,
          46716.636719,
          46415.898438,
          43488.058594,
          42944.976563,
          36753.667969,
          40596.949219,
          37371.03125,
          37531.449219,
          34700.363281,
          38795.78125,
          38392.625,
          39316.890625,
          38507.082031,
          35684.15625,
          34607.40625,
          35658.59375,
          37293.792969,
          36699.921875,
          37599.410156,
          39242.484375,
          36880.15625,
          35538.609375,
          35835.265625,
          33589.519531,
          33416.976563,
          37389.515625,
          36697.03125,
          37340.144531,
          35555.789063,
          39016.96875,
          40427.167969,
          40168.691406,
          38341.421875,
          38099.476563,
          35854.527344,
          35563.140625,
          35641.144531,
          31622.376953,
          32515.714844,
          33682.800781,
          34659.105469,
          31594.664063,
          32287.523438,
          34679.121094,
          34475.558594,
          35908.386719,
          35035.984375,
          33549.601563,
          33854.421875,
          34665.566406,
          35284.34375,
          33723.507813,
          34225.679688,
          33889.605469,
          32861.671875,
          33811.242188,
          33509.078125,
          34254.015625,
          33125.46875,
          32723.845703
         ],
         "type": "ohlc",
         "x": [
          "2020-01-01",
          "2020-01-02",
          "2020-01-03",
          "2020-01-04",
          "2020-01-05",
          "2020-01-06",
          "2020-01-07",
          "2020-01-08",
          "2020-01-09",
          "2020-01-10",
          "2020-01-11",
          "2020-01-12",
          "2020-01-13",
          "2020-01-14",
          "2020-01-15",
          "2020-01-16",
          "2020-01-17",
          "2020-01-18",
          "2020-01-19",
          "2020-01-20",
          "2020-01-21",
          "2020-01-22",
          "2020-01-23",
          "2020-01-24",
          "2020-01-25",
          "2020-01-26",
          "2020-01-27",
          "2020-01-28",
          "2020-01-29",
          "2020-01-30",
          "2020-01-31",
          "2020-02-01",
          "2020-02-02",
          "2020-02-03",
          "2020-02-04",
          "2020-02-05",
          "2020-02-06",
          "2020-02-07",
          "2020-02-08",
          "2020-02-09",
          "2020-02-10",
          "2020-02-11",
          "2020-02-12",
          "2020-02-13",
          "2020-02-14",
          "2020-02-15",
          "2020-02-16",
          "2020-02-17",
          "2020-02-18",
          "2020-02-19",
          "2020-02-20",
          "2020-02-21",
          "2020-02-22",
          "2020-02-23",
          "2020-02-24",
          "2020-02-25",
          "2020-02-26",
          "2020-02-27",
          "2020-02-28",
          "2020-02-29",
          "2020-03-01",
          "2020-03-02",
          "2020-03-03",
          "2020-03-04",
          "2020-03-05",
          "2020-03-06",
          "2020-03-07",
          "2020-03-08",
          "2020-03-09",
          "2020-03-10",
          "2020-03-11",
          "2020-03-12",
          "2020-03-13",
          "2020-03-14",
          "2020-03-15",
          "2020-03-16",
          "2020-03-17",
          "2020-03-18",
          "2020-03-19",
          "2020-03-20",
          "2020-03-21",
          "2020-03-22",
          "2020-03-23",
          "2020-03-24",
          "2020-03-25",
          "2020-03-26",
          "2020-03-27",
          "2020-03-28",
          "2020-03-29",
          "2020-03-30",
          "2020-03-31",
          "2020-04-01",
          "2020-04-02",
          "2020-04-03",
          "2020-04-04",
          "2020-04-05",
          "2020-04-06",
          "2020-04-07",
          "2020-04-08",
          "2020-04-09",
          "2020-04-10",
          "2020-04-11",
          "2020-04-12",
          "2020-04-13",
          "2020-04-14",
          "2020-04-15",
          "2020-04-16",
          "2020-04-17",
          "2020-04-18",
          "2020-04-19",
          "2020-04-20",
          "2020-04-21",
          "2020-04-22",
          "2020-04-23",
          "2020-04-24",
          "2020-04-25",
          "2020-04-26",
          "2020-04-27",
          "2020-04-28",
          "2020-04-29",
          "2020-04-30",
          "2020-05-01",
          "2020-05-02",
          "2020-05-03",
          "2020-05-04",
          "2020-05-05",
          "2020-05-06",
          "2020-05-07",
          "2020-05-08",
          "2020-05-09",
          "2020-05-10",
          "2020-05-11",
          "2020-05-12",
          "2020-05-13",
          "2020-05-14",
          "2020-05-15",
          "2020-05-16",
          "2020-05-17",
          "2020-05-18",
          "2020-05-19",
          "2020-05-20",
          "2020-05-21",
          "2020-05-22",
          "2020-05-23",
          "2020-05-24",
          "2020-05-25",
          "2020-05-26",
          "2020-05-27",
          "2020-05-28",
          "2020-05-29",
          "2020-05-30",
          "2020-05-31",
          "2020-06-01",
          "2020-06-02",
          "2020-06-03",
          "2020-06-04",
          "2020-06-05",
          "2020-06-06",
          "2020-06-07",
          "2020-06-08",
          "2020-06-09",
          "2020-06-10",
          "2020-06-11",
          "2020-06-12",
          "2020-06-13",
          "2020-06-14",
          "2020-06-15",
          "2020-06-16",
          "2020-06-17",
          "2020-06-18",
          "2020-06-19",
          "2020-06-20",
          "2020-06-21",
          "2020-06-22",
          "2020-06-23",
          "2020-06-24",
          "2020-06-25",
          "2020-06-26",
          "2020-06-27",
          "2020-06-28",
          "2020-06-29",
          "2020-06-30",
          "2020-07-01",
          "2020-07-02",
          "2020-07-03",
          "2020-07-04",
          "2020-07-05",
          "2020-07-06",
          "2020-07-07",
          "2020-07-08",
          "2020-07-09",
          "2020-07-10",
          "2020-07-11",
          "2020-07-12",
          "2020-07-13",
          "2020-07-14",
          "2020-07-15",
          "2020-07-16",
          "2020-07-17",
          "2020-07-18",
          "2020-07-19",
          "2020-07-20",
          "2020-07-21",
          "2020-07-22",
          "2020-07-23",
          "2020-07-24",
          "2020-07-25",
          "2020-07-26",
          "2020-07-27",
          "2020-07-28",
          "2020-07-29",
          "2020-07-30",
          "2020-07-31",
          "2020-08-01",
          "2020-08-02",
          "2020-08-03",
          "2020-08-04",
          "2020-08-05",
          "2020-08-06",
          "2020-08-07",
          "2020-08-08",
          "2020-08-09",
          "2020-08-10",
          "2020-08-11",
          "2020-08-12",
          "2020-08-13",
          "2020-08-14",
          "2020-08-15",
          "2020-08-16",
          "2020-08-17",
          "2020-08-18",
          "2020-08-19",
          "2020-08-20",
          "2020-08-21",
          "2020-08-22",
          "2020-08-23",
          "2020-08-24",
          "2020-08-25",
          "2020-08-26",
          "2020-08-27",
          "2020-08-28",
          "2020-08-29",
          "2020-08-30",
          "2020-08-31",
          "2020-09-01",
          "2020-09-02",
          "2020-09-03",
          "2020-09-04",
          "2020-09-05",
          "2020-09-06",
          "2020-09-07",
          "2020-09-08",
          "2020-09-09",
          "2020-09-10",
          "2020-09-11",
          "2020-09-12",
          "2020-09-13",
          "2020-09-14",
          "2020-09-15",
          "2020-09-16",
          "2020-09-17",
          "2020-09-18",
          "2020-09-19",
          "2020-09-20",
          "2020-09-21",
          "2020-09-22",
          "2020-09-23",
          "2020-09-24",
          "2020-09-25",
          "2020-09-26",
          "2020-09-27",
          "2020-09-28",
          "2020-09-29",
          "2020-09-30",
          "2020-10-01",
          "2020-10-02",
          "2020-10-03",
          "2020-10-04",
          "2020-10-05",
          "2020-10-06",
          "2020-10-07",
          "2020-10-08",
          "2020-10-09",
          "2020-10-10",
          "2020-10-11",
          "2020-10-12",
          "2020-10-13",
          "2020-10-14",
          "2020-10-15",
          "2020-10-16",
          "2020-10-17",
          "2020-10-18",
          "2020-10-19",
          "2020-10-20",
          "2020-10-21",
          "2020-10-22",
          "2020-10-23",
          "2020-10-24",
          "2020-10-25",
          "2020-10-26",
          "2020-10-27",
          "2020-10-28",
          "2020-10-29",
          "2020-10-30",
          "2020-10-31",
          "2020-11-01",
          "2020-11-02",
          "2020-11-03",
          "2020-11-04",
          "2020-11-05",
          "2020-11-06",
          "2020-11-07",
          "2020-11-08",
          "2020-11-09",
          "2020-11-10",
          "2020-11-11",
          "2020-11-12",
          "2020-11-13",
          "2020-11-14",
          "2020-11-15",
          "2020-11-16",
          "2020-11-17",
          "2020-11-18",
          "2020-11-19",
          "2020-11-20",
          "2020-11-21",
          "2020-11-22",
          "2020-11-23",
          "2020-11-24",
          "2020-11-25",
          "2020-11-26",
          "2020-11-27",
          "2020-11-28",
          "2020-11-29",
          "2020-11-30",
          "2020-12-01",
          "2020-12-02",
          "2020-12-03",
          "2020-12-04",
          "2020-12-05",
          "2020-12-06",
          "2020-12-07",
          "2020-12-08",
          "2020-12-09",
          "2020-12-10",
          "2020-12-11",
          "2020-12-12",
          "2020-12-13",
          "2020-12-14",
          "2020-12-15",
          "2020-12-16",
          "2020-12-17",
          "2020-12-18",
          "2020-12-19",
          "2020-12-20",
          "2020-12-21",
          "2020-12-22",
          "2020-12-23",
          "2020-12-24",
          "2020-12-25",
          "2020-12-26",
          "2020-12-27",
          "2020-12-28",
          "2020-12-29",
          "2020-12-30",
          "2020-12-31",
          "2021-01-01",
          "2021-01-02",
          "2021-01-03",
          "2021-01-04",
          "2021-01-05",
          "2021-01-06",
          "2021-01-07",
          "2021-01-08",
          "2021-01-09",
          "2021-01-10",
          "2021-01-11",
          "2021-01-12",
          "2021-01-13",
          "2021-01-14",
          "2021-01-15",
          "2021-01-16",
          "2021-01-17",
          "2021-01-18",
          "2021-01-19",
          "2021-01-20",
          "2021-01-21",
          "2021-01-22",
          "2021-01-23",
          "2021-01-24",
          "2021-01-25",
          "2021-01-26",
          "2021-01-27",
          "2021-01-28",
          "2021-01-29",
          "2021-01-30",
          "2021-01-31",
          "2021-02-01",
          "2021-02-02",
          "2021-02-03",
          "2021-02-04",
          "2021-02-05",
          "2021-02-06",
          "2021-02-07",
          "2021-02-08",
          "2021-02-09",
          "2021-02-10",
          "2021-02-11",
          "2021-02-12",
          "2021-02-13",
          "2021-02-14",
          "2021-02-15",
          "2021-02-16",
          "2021-02-17",
          "2021-02-18",
          "2021-02-19",
          "2021-02-20",
          "2021-02-21",
          "2021-02-22",
          "2021-02-23",
          "2021-02-24",
          "2021-02-25",
          "2021-02-26",
          "2021-02-27",
          "2021-02-28",
          "2021-03-01",
          "2021-03-02",
          "2021-03-03",
          "2021-03-04",
          "2021-03-05",
          "2021-03-06",
          "2021-03-07",
          "2021-03-08",
          "2021-03-09",
          "2021-03-10",
          "2021-03-11",
          "2021-03-12",
          "2021-03-13",
          "2021-03-14",
          "2021-03-15",
          "2021-03-16",
          "2021-03-17",
          "2021-03-18",
          "2021-03-19",
          "2021-03-20",
          "2021-03-21",
          "2021-03-22",
          "2021-03-23",
          "2021-03-24",
          "2021-03-25",
          "2021-03-26",
          "2021-03-27",
          "2021-03-28",
          "2021-03-29",
          "2021-03-30",
          "2021-03-31",
          "2021-04-01",
          "2021-04-02",
          "2021-04-03",
          "2021-04-04",
          "2021-04-05",
          "2021-04-06",
          "2021-04-07",
          "2021-04-08",
          "2021-04-09",
          "2021-04-10",
          "2021-04-11",
          "2021-04-12",
          "2021-04-13",
          "2021-04-14",
          "2021-04-15",
          "2021-04-16",
          "2021-04-17",
          "2021-04-18",
          "2021-04-19",
          "2021-04-20",
          "2021-04-21",
          "2021-04-22",
          "2021-04-23",
          "2021-04-24",
          "2021-04-25",
          "2021-04-26",
          "2021-04-27",
          "2021-04-28",
          "2021-04-29",
          "2021-04-30",
          "2021-05-01",
          "2021-05-02",
          "2021-05-03",
          "2021-05-04",
          "2021-05-05",
          "2021-05-06",
          "2021-05-07",
          "2021-05-08",
          "2021-05-09",
          "2021-05-10",
          "2021-05-11",
          "2021-05-12",
          "2021-05-13",
          "2021-05-14",
          "2021-05-15",
          "2021-05-16",
          "2021-05-17",
          "2021-05-18",
          "2021-05-19",
          "2021-05-20",
          "2021-05-21",
          "2021-05-22",
          "2021-05-23",
          "2021-05-24",
          "2021-05-25",
          "2021-05-26",
          "2021-05-27",
          "2021-05-28",
          "2021-05-29",
          "2021-05-30",
          "2021-05-31",
          "2021-06-01",
          "2021-06-02",
          "2021-06-03",
          "2021-06-04",
          "2021-06-05",
          "2021-06-06",
          "2021-06-07",
          "2021-06-08",
          "2021-06-09",
          "2021-06-10",
          "2021-06-11",
          "2021-06-12",
          "2021-06-13",
          "2021-06-14",
          "2021-06-15",
          "2021-06-16",
          "2021-06-17",
          "2021-06-18",
          "2021-06-19",
          "2021-06-20",
          "2021-06-21",
          "2021-06-22",
          "2021-06-23",
          "2021-06-24",
          "2021-06-25",
          "2021-06-26",
          "2021-06-27",
          "2021-06-28",
          "2021-06-29",
          "2021-06-30",
          "2021-07-01",
          "2021-07-02",
          "2021-07-03",
          "2021-07-04",
          "2021-07-05",
          "2021-07-06",
          "2021-07-07",
          "2021-07-08",
          "2021-07-09",
          "2021-07-10",
          "2021-07-11",
          "2021-07-12",
          "2021-07-13",
          "2021-07-14"
         ]
        }
       ],
       "layout": {
        "template": {
         "data": {
          "bar": [
           {
            "error_x": {
             "color": "#2a3f5f"
            },
            "error_y": {
             "color": "#2a3f5f"
            },
            "marker": {
             "line": {
              "color": "white",
              "width": 0.5
             },
             "pattern": {
              "fillmode": "overlay",
              "size": 10,
              "solidity": 0.2
             }
            },
            "type": "bar"
           }
          ],
          "barpolar": [
           {
            "marker": {
             "line": {
              "color": "white",
              "width": 0.5
             },
             "pattern": {
              "fillmode": "overlay",
              "size": 10,
              "solidity": 0.2
             }
            },
            "type": "barpolar"
           }
          ],
          "carpet": [
           {
            "aaxis": {
             "endlinecolor": "#2a3f5f",
             "gridcolor": "#C8D4E3",
             "linecolor": "#C8D4E3",
             "minorgridcolor": "#C8D4E3",
             "startlinecolor": "#2a3f5f"
            },
            "baxis": {
             "endlinecolor": "#2a3f5f",
             "gridcolor": "#C8D4E3",
             "linecolor": "#C8D4E3",
             "minorgridcolor": "#C8D4E3",
             "startlinecolor": "#2a3f5f"
            },
            "type": "carpet"
           }
          ],
          "choropleth": [
           {
            "colorbar": {
             "outlinewidth": 0,
             "ticks": ""
            },
            "type": "choropleth"
           }
          ],
          "contour": [
           {
            "colorbar": {
             "outlinewidth": 0,
             "ticks": ""
            },
            "colorscale": [
             [
              0,
              "#0d0887"
             ],
             [
              0.1111111111111111,
              "#46039f"
             ],
             [
              0.2222222222222222,
              "#7201a8"
             ],
             [
              0.3333333333333333,
              "#9c179e"
             ],
             [
              0.4444444444444444,
              "#bd3786"
             ],
             [
              0.5555555555555556,
              "#d8576b"
             ],
             [
              0.6666666666666666,
              "#ed7953"
             ],
             [
              0.7777777777777778,
              "#fb9f3a"
             ],
             [
              0.8888888888888888,
              "#fdca26"
             ],
             [
              1,
              "#f0f921"
             ]
            ],
            "type": "contour"
           }
          ],
          "contourcarpet": [
           {
            "colorbar": {
             "outlinewidth": 0,
             "ticks": ""
            },
            "type": "contourcarpet"
           }
          ],
          "heatmap": [
           {
            "colorbar": {
             "outlinewidth": 0,
             "ticks": ""
            },
            "colorscale": [
             [
              0,
              "#0d0887"
             ],
             [
              0.1111111111111111,
              "#46039f"
             ],
             [
              0.2222222222222222,
              "#7201a8"
             ],
             [
              0.3333333333333333,
              "#9c179e"
             ],
             [
              0.4444444444444444,
              "#bd3786"
             ],
             [
              0.5555555555555556,
              "#d8576b"
             ],
             [
              0.6666666666666666,
              "#ed7953"
             ],
             [
              0.7777777777777778,
              "#fb9f3a"
             ],
             [
              0.8888888888888888,
              "#fdca26"
             ],
             [
              1,
              "#f0f921"
             ]
            ],
            "type": "heatmap"
           }
          ],
          "heatmapgl": [
           {
            "colorbar": {
             "outlinewidth": 0,
             "ticks": ""
            },
            "colorscale": [
             [
              0,
              "#0d0887"
             ],
             [
              0.1111111111111111,
              "#46039f"
             ],
             [
              0.2222222222222222,
              "#7201a8"
             ],
             [
              0.3333333333333333,
              "#9c179e"
             ],
             [
              0.4444444444444444,
              "#bd3786"
             ],
             [
              0.5555555555555556,
              "#d8576b"
             ],
             [
              0.6666666666666666,
              "#ed7953"
             ],
             [
              0.7777777777777778,
              "#fb9f3a"
             ],
             [
              0.8888888888888888,
              "#fdca26"
             ],
             [
              1,
              "#f0f921"
             ]
            ],
            "type": "heatmapgl"
           }
          ],
          "histogram": [
           {
            "marker": {
             "pattern": {
              "fillmode": "overlay",
              "size": 10,
              "solidity": 0.2
             }
            },
            "type": "histogram"
           }
          ],
          "histogram2d": [
           {
            "colorbar": {
             "outlinewidth": 0,
             "ticks": ""
            },
            "colorscale": [
             [
              0,
              "#0d0887"
             ],
             [
              0.1111111111111111,
              "#46039f"
             ],
             [
              0.2222222222222222,
              "#7201a8"
             ],
             [
              0.3333333333333333,
              "#9c179e"
             ],
             [
              0.4444444444444444,
              "#bd3786"
             ],
             [
              0.5555555555555556,
              "#d8576b"
             ],
             [
              0.6666666666666666,
              "#ed7953"
             ],
             [
              0.7777777777777778,
              "#fb9f3a"
             ],
             [
              0.8888888888888888,
              "#fdca26"
             ],
             [
              1,
              "#f0f921"
             ]
            ],
            "type": "histogram2d"
           }
          ],
          "histogram2dcontour": [
           {
            "colorbar": {
             "outlinewidth": 0,
             "ticks": ""
            },
            "colorscale": [
             [
              0,
              "#0d0887"
             ],
             [
              0.1111111111111111,
              "#46039f"
             ],
             [
              0.2222222222222222,
              "#7201a8"
             ],
             [
              0.3333333333333333,
              "#9c179e"
             ],
             [
              0.4444444444444444,
              "#bd3786"
             ],
             [
              0.5555555555555556,
              "#d8576b"
             ],
             [
              0.6666666666666666,
              "#ed7953"
             ],
             [
              0.7777777777777778,
              "#fb9f3a"
             ],
             [
              0.8888888888888888,
              "#fdca26"
             ],
             [
              1,
              "#f0f921"
             ]
            ],
            "type": "histogram2dcontour"
           }
          ],
          "mesh3d": [
           {
            "colorbar": {
             "outlinewidth": 0,
             "ticks": ""
            },
            "type": "mesh3d"
           }
          ],
          "parcoords": [
           {
            "line": {
             "colorbar": {
              "outlinewidth": 0,
              "ticks": ""
             }
            },
            "type": "parcoords"
           }
          ],
          "pie": [
           {
            "automargin": true,
            "type": "pie"
           }
          ],
          "scatter": [
           {
            "marker": {
             "colorbar": {
              "outlinewidth": 0,
              "ticks": ""
             }
            },
            "type": "scatter"
           }
          ],
          "scatter3d": [
           {
            "line": {
             "colorbar": {
              "outlinewidth": 0,
              "ticks": ""
             }
            },
            "marker": {
             "colorbar": {
              "outlinewidth": 0,
              "ticks": ""
             }
            },
            "type": "scatter3d"
           }
          ],
          "scattercarpet": [
           {
            "marker": {
             "colorbar": {
              "outlinewidth": 0,
              "ticks": ""
             }
            },
            "type": "scattercarpet"
           }
          ],
          "scattergeo": [
           {
            "marker": {
             "colorbar": {
              "outlinewidth": 0,
              "ticks": ""
             }
            },
            "type": "scattergeo"
           }
          ],
          "scattergl": [
           {
            "marker": {
             "colorbar": {
              "outlinewidth": 0,
              "ticks": ""
             }
            },
            "type": "scattergl"
           }
          ],
          "scattermapbox": [
           {
            "marker": {
             "colorbar": {
              "outlinewidth": 0,
              "ticks": ""
             }
            },
            "type": "scattermapbox"
           }
          ],
          "scatterpolar": [
           {
            "marker": {
             "colorbar": {
              "outlinewidth": 0,
              "ticks": ""
             }
            },
            "type": "scatterpolar"
           }
          ],
          "scatterpolargl": [
           {
            "marker": {
             "colorbar": {
              "outlinewidth": 0,
              "ticks": ""
             }
            },
            "type": "scatterpolargl"
           }
          ],
          "scatterternary": [
           {
            "marker": {
             "colorbar": {
              "outlinewidth": 0,
              "ticks": ""
             }
            },
            "type": "scatterternary"
           }
          ],
          "surface": [
           {
            "colorbar": {
             "outlinewidth": 0,
             "ticks": ""
            },
            "colorscale": [
             [
              0,
              "#0d0887"
             ],
             [
              0.1111111111111111,
              "#46039f"
             ],
             [
              0.2222222222222222,
              "#7201a8"
             ],
             [
              0.3333333333333333,
              "#9c179e"
             ],
             [
              0.4444444444444444,
              "#bd3786"
             ],
             [
              0.5555555555555556,
              "#d8576b"
             ],
             [
              0.6666666666666666,
              "#ed7953"
             ],
             [
              0.7777777777777778,
              "#fb9f3a"
             ],
             [
              0.8888888888888888,
              "#fdca26"
             ],
             [
              1,
              "#f0f921"
             ]
            ],
            "type": "surface"
           }
          ],
          "table": [
           {
            "cells": {
             "fill": {
              "color": "#EBF0F8"
             },
             "line": {
              "color": "white"
             }
            },
            "header": {
             "fill": {
              "color": "#C8D4E3"
             },
             "line": {
              "color": "white"
             }
            },
            "type": "table"
           }
          ]
         },
         "layout": {
          "annotationdefaults": {
           "arrowcolor": "#2a3f5f",
           "arrowhead": 0,
           "arrowwidth": 1
          },
          "autotypenumbers": "strict",
          "coloraxis": {
           "colorbar": {
            "outlinewidth": 0,
            "ticks": ""
           }
          },
          "colorscale": {
           "diverging": [
            [
             0,
             "#8e0152"
            ],
            [
             0.1,
             "#c51b7d"
            ],
            [
             0.2,
             "#de77ae"
            ],
            [
             0.3,
             "#f1b6da"
            ],
            [
             0.4,
             "#fde0ef"
            ],
            [
             0.5,
             "#f7f7f7"
            ],
            [
             0.6,
             "#e6f5d0"
            ],
            [
             0.7,
             "#b8e186"
            ],
            [
             0.8,
             "#7fbc41"
            ],
            [
             0.9,
             "#4d9221"
            ],
            [
             1,
             "#276419"
            ]
           ],
           "sequential": [
            [
             0,
             "#0d0887"
            ],
            [
             0.1111111111111111,
             "#46039f"
            ],
            [
             0.2222222222222222,
             "#7201a8"
            ],
            [
             0.3333333333333333,
             "#9c179e"
            ],
            [
             0.4444444444444444,
             "#bd3786"
            ],
            [
             0.5555555555555556,
             "#d8576b"
            ],
            [
             0.6666666666666666,
             "#ed7953"
            ],
            [
             0.7777777777777778,
             "#fb9f3a"
            ],
            [
             0.8888888888888888,
             "#fdca26"
            ],
            [
             1,
             "#f0f921"
            ]
           ],
           "sequentialminus": [
            [
             0,
             "#0d0887"
            ],
            [
             0.1111111111111111,
             "#46039f"
            ],
            [
             0.2222222222222222,
             "#7201a8"
            ],
            [
             0.3333333333333333,
             "#9c179e"
            ],
            [
             0.4444444444444444,
             "#bd3786"
            ],
            [
             0.5555555555555556,
             "#d8576b"
            ],
            [
             0.6666666666666666,
             "#ed7953"
            ],
            [
             0.7777777777777778,
             "#fb9f3a"
            ],
            [
             0.8888888888888888,
             "#fdca26"
            ],
            [
             1,
             "#f0f921"
            ]
           ]
          },
          "colorway": [
           "#636efa",
           "#EF553B",
           "#00cc96",
           "#ab63fa",
           "#FFA15A",
           "#19d3f3",
           "#FF6692",
           "#B6E880",
           "#FF97FF",
           "#FECB52"
          ],
          "font": {
           "color": "#2a3f5f"
          },
          "geo": {
           "bgcolor": "white",
           "lakecolor": "white",
           "landcolor": "white",
           "showlakes": true,
           "showland": true,
           "subunitcolor": "#C8D4E3"
          },
          "hoverlabel": {
           "align": "left"
          },
          "hovermode": "closest",
          "mapbox": {
           "style": "light"
          },
          "paper_bgcolor": "white",
          "plot_bgcolor": "white",
          "polar": {
           "angularaxis": {
            "gridcolor": "#EBF0F8",
            "linecolor": "#EBF0F8",
            "ticks": ""
           },
           "bgcolor": "white",
           "radialaxis": {
            "gridcolor": "#EBF0F8",
            "linecolor": "#EBF0F8",
            "ticks": ""
           }
          },
          "scene": {
           "xaxis": {
            "backgroundcolor": "white",
            "gridcolor": "#DFE8F3",
            "gridwidth": 2,
            "linecolor": "#EBF0F8",
            "showbackground": true,
            "ticks": "",
            "zerolinecolor": "#EBF0F8"
           },
           "yaxis": {
            "backgroundcolor": "white",
            "gridcolor": "#DFE8F3",
            "gridwidth": 2,
            "linecolor": "#EBF0F8",
            "showbackground": true,
            "ticks": "",
            "zerolinecolor": "#EBF0F8"
           },
           "zaxis": {
            "backgroundcolor": "white",
            "gridcolor": "#DFE8F3",
            "gridwidth": 2,
            "linecolor": "#EBF0F8",
            "showbackground": true,
            "ticks": "",
            "zerolinecolor": "#EBF0F8"
           }
          },
          "shapedefaults": {
           "line": {
            "color": "#2a3f5f"
           }
          },
          "ternary": {
           "aaxis": {
            "gridcolor": "#DFE8F3",
            "linecolor": "#A2B1C6",
            "ticks": ""
           },
           "baxis": {
            "gridcolor": "#DFE8F3",
            "linecolor": "#A2B1C6",
            "ticks": ""
           },
           "bgcolor": "white",
           "caxis": {
            "gridcolor": "#DFE8F3",
            "linecolor": "#A2B1C6",
            "ticks": ""
           }
          },
          "title": {
           "x": 0.05
          },
          "xaxis": {
           "automargin": true,
           "gridcolor": "#EBF0F8",
           "linecolor": "#EBF0F8",
           "ticks": "",
           "title": {
            "standoff": 15
           },
           "zerolinecolor": "#EBF0F8",
           "zerolinewidth": 2
          },
          "yaxis": {
           "automargin": true,
           "gridcolor": "#EBF0F8",
           "linecolor": "#EBF0F8",
           "ticks": "",
           "title": {
            "standoff": 15
           },
           "zerolinecolor": "#EBF0F8",
           "zerolinewidth": 2
          }
         }
        },
        "title": {
         "text": "Bitcoin OHLC Chart",
         "x": 0.5,
         "xanchor": "center",
         "y": 0.9,
         "yanchor": "top"
        },
        "xaxis": {
         "rangeslider": {
          "visible": true
         },
         "title": {
          "text": "Time"
         }
        },
        "yaxis": {
         "ticksuffix": "$",
         "title": {
          "text": "Prix en USD"
         }
        }
       }
      },
      "text/html": [
       "<div>                            <div id=\"99e738d8-9129-4024-8e8f-731317eff036\" class=\"plotly-graph-div\" style=\"height:525px; width:100%;\"></div>            <script type=\"text/javascript\">                require([\"plotly\"], function(Plotly) {                    window.PLOTLYENV=window.PLOTLYENV || {};                                    if (document.getElementById(\"99e738d8-9129-4024-8e8f-731317eff036\")) {                    Plotly.newPlot(                        \"99e738d8-9129-4024-8e8f-731317eff036\",                        [{\"close\":[7200.174316,6985.470215,7344.884277,7410.656738,7411.317383,7769.219238,8163.692383,8079.862793,7879.071289,8166.554199,8037.537598,8192.494141,8144.194336,8827.764648,8807.010742,8723.786133,8929.038086,8942.808594,8706.245117,8657.642578,8745.894531,8680.875977,8406.515625,8445.43457,8367.847656,8596.830078,8909.819336,9358.589844,9316.629883,9508.993164,9350.529297,9392.875,9344.365234,9293.521484,9180.962891,9613.423828,9729.801758,9795.943359,9865.119141,10116.673828,9856.611328,10208.236328,10326.054688,10214.379883,10312.116211,9889.424805,9934.433594,9690.142578,10141.996094,9633.386719,9608.475586,9686.441406,9663.181641,9924.515625,9650.174805,9341.705078,8820.522461,8784.494141,8672.455078,8599.508789,8562.454102,8869.669922,8787.786133,8755.246094,9078.762695,9122.545898,8909.954102,8108.116211,7923.644531,7909.729492,7911.430176,4970.788086,5563.707031,5200.366211,5392.314941,5014.47998,5225.629395,5238.438477,6191.192871,6198.77832,6185.066406,5830.254883,6416.314941,6734.803711,6681.062988,6716.44043,6469.79834,6242.193848,5922.042969,6429.841797,6438.644531,6606.776367,6793.624512,6733.387207,6867.527344,6791.129395,7271.78125,7176.414551,7334.098633,7302.089355,6865.493164,6859.083008,6971.091797,6845.037598,6842.427734,6642.109863,7116.804199,7096.18457,7257.665039,7189.424805,6881.958496,6880.323242,7117.20752,7429.724609,7550.900879,7569.936035,7679.867188,7795.601074,7807.058594,8801.038086,8658.553711,8864.766602,8988.59668,8897.46875,8912.654297,9003.070313,9268.761719,9951.518555,9842.666016,9593.896484,8756.430664,8601.795898,8804.477539,9269.987305,9733.72168,9328.197266,9377.013672,9670.739258,9726.575195,9729.038086,9522.981445,9081.761719,9182.577148,9209.287109,8790.368164,8906.93457,8835.052734,9181.017578,9525.750977,9439.124023,9700.414063,9461.058594,10167.268555,9529.803711,9656.717773,9800.636719,9665.533203,9653.679688,9758.852539,9771.489258,9795.700195,9870.094727,9321.78125,9480.84375,9475.277344,9386.788086,9450.702148,9538.024414,9480.254883,9411.84082,9288.018555,9332.34082,9303.629883,9648.717773,9629.658203,9313.610352,9264.813477,9162.917969,9045.390625,9143.582031,9190.854492,9137.993164,9228.325195,9123.410156,9087.303711,9132.488281,9073.942383,9375.474609,9252.277344,9428.333008,9277.967773,9278.807617,9240.34668,9276.5,9243.614258,9243.213867,9192.836914,9132.227539,9151.392578,9159.040039,9185.817383,9164.231445,9374.887695,9525.363281,9581.072266,9536.892578,9677.113281,9905.166992,10990.873047,10912.823242,11100.467773,11111.213867,11323.466797,11759.592773,11053.614258,11246.348633,11205.892578,11747.022461,11779.773438,11601.472656,11754.045898,11675.739258,11878.111328,11410.525391,11584.93457,11784.137695,11768.871094,11865.698242,11892.803711,12254.402344,11991.233398,11758.283203,11878.37207,11592.489258,11681.825195,11664.847656,11774.595703,11366.134766,11488.363281,11323.397461,11542.5,11506.865234,11711.505859,11680.820313,11970.478516,11414.03418,10245.296875,10511.813477,10169.567383,10280.351563,10369.563477,10131.516602,10242.347656,10363.138672,10400.915039,10442.170898,10323.755859,10680.837891,10796.951172,10974.905273,10948.990234,10944.585938,11094.34668,10938.271484,10462.259766,10538.459961,10246.186523,10760.066406,10692.716797,10750.723633,10775.269531,10709.652344,10844.640625,10784.491211,10619.452148,10575.974609,10549.329102,10669.583008,10793.339844,10604.40625,10668.96875,10915.685547,11064.458008,11296.361328,11384.181641,11555.363281,11425.899414,11429.506836,11495.349609,11322.123047,11358.101563,11483.359375,11742.037109,11916.334961,12823.689453,12965.891602,12931.539063,13108.0625,13031.173828,13075.248047,13654.21875,13271.285156,13437.882813,13546.522461,13780.995117,13737.109375,13550.489258,13950.300781,14133.707031,15579.848633,15565.880859,14833.753906,15479.567383,15332.31543,15290.902344,15701.339844,16276.34375,16317.808594,16068.138672,15955.587891,16716.111328,17645.40625,17804.005859,17817.089844,18621.314453,18642.232422,18370.001953,18364.121094,19107.464844,18732.121094,17150.623047,17108.402344,17717.414063,18177.484375,19625.835938,18802.998047,19201.091797,19445.398438,18699.765625,19154.230469,19345.121094,19191.630859,18321.144531,18553.916016,18264.992188,18058.904297,18803.65625,19142.382813,19246.644531,19417.076172,21310.597656,22805.162109,23137.960938,23869.832031,23477.294922,22803.082031,23783.029297,23241.345703,23735.949219,24664.791016,26437.037109,26272.294922,27084.808594,27362.4375,28840.953125,29001.720703,29374.152344,32127.267578,32782.023438,31971.914063,33992.429688,36824.363281,39371.042969,40797.609375,40254.546875,38356.441406,35566.65625,33922.960938,37316.359375,39187.328125,36825.367188,36178.140625,35791.277344,36630.074219,36069.804688,35547.75,30825.699219,33005.761719,32067.642578,32289.378906,32366.392578,32569.849609,30432.546875,33466.097656,34316.386719,34269.523438,33114.359375,33537.175781,35510.289063,37472.089844,36926.066406,38144.308594,39266.011719,38903.441406,46196.464844,46481.105469,44918.183594,47909.332031,47504.851563,47105.515625,48717.289063,47945.058594,49199.871094,52149.007813,51679.796875,55888.132813,56099.519531,57539.945313,54207.320313,48824.425781,49705.332031,47093.851563,46339.761719,46188.453125,45137.769531,49631.242188,48378.988281,50538.242188,48561.167969,48927.304688,48912.382813,51206.691406,52246.523438,54824.117188,56008.550781,57805.121094,57332.089844,61243.085938,59302.316406,55907.199219,56804.902344,58870.894531,57858.921875,58346.652344,58313.644531,57523.421875,54529.144531,54738.945313,52774.265625,51704.160156,55137.3125,55973.511719,55950.746094,57750.199219,58917.691406,58918.832031,59095.808594,59384.3125,57603.890625,58758.554688,59057.878906,58192.359375,56048.9375,58323.953125,58245.003906,59793.234375,60204.964844,59893.453125,63503.457031,63109.695313,63314.011719,61572.789063,60683.820313,56216.183594,55724.265625,56473.03125,53906.089844,51762.273438,51093.652344,50050.867188,49004.253906,54021.753906,55033.117188,54824.703125,53555.109375,57750.175781,57828.050781,56631.078125,57200.292969,53333.539063,57424.007813,56396.515625,57356.402344,58803.777344,58232.316406,55859.796875,56704.574219,49150.535156,49716.191406,49880.535156,46760.1875,46456.058594,43537.511719,42909.402344,37002.441406,40782.738281,37304.691406,37536.632813,34770.582031,38705.980469,38402.222656,39294.199219,38436.96875,35697.605469,34616.066406,35678.128906,37332.855469,36684.925781,37575.179688,39208.765625,36894.40625,35551.957031,35862.378906,33560.707031,33472.632813,37345.121094,36702.597656,37334.398438,35552.515625,39097.859375,40218.476563,40406.269531,38347.0625,38053.503906,35787.246094,35615.871094,35698.296875,31676.693359,32505.660156,33723.027344,34662.4375,31637.779297,32186.277344,34649.644531,34434.335938,35867.777344,35040.835938,33572.117188,33897.046875,34668.546875,35287.78125,33746.003906,34235.195313,33855.328125,32877.371094,33798.011719,33520.519531,34240.1875,33155.847656,32702.025391,32822.347656],\"high\":[7254.330566,7212.155273,7413.715332,7427.385742,7544.49707,7781.867188,8178.21582,8396.738281,8082.295898,8166.554199,8218.359375,8200.063477,8197.788086,8879.511719,8890.117188,8846.460938,8958.12207,9012.198242,9164.362305,8745.59082,8755.706055,8792.994141,8687.74707,8514.666992,8458.453125,8602.401367,8977.726563,9358.589844,9406.431641,9553.125977,9521.706055,9439.323242,9468.797852,9540.37207,9331.265625,9701.299805,9824.619141,9834.716797,9876.749023,10129.435547,10165.765625,10210.052734,10393.611328,10457.626953,10321.996094,10341.555664,10053.96875,9938.81543,10161.935547,10191.675781,9643.216797,9723.014648,9698.231445,9937.404297,9951.746094,9652.737305,9354.77832,8932.892578,8890.456055,8775.631836,8726.796875,8921.308594,8901.598633,8843.366211,9142.054688,9167.695313,9163.220703,8914.34375,8177.793457,8136.945313,7950.814453,7929.116211,5838.114746,5625.226563,5836.64502,5385.229492,5371.348633,5331.833984,6329.73584,6844.261719,6378.135254,6359.697266,6443.93457,6789.022949,6892.51123,6735.463867,6793.836426,6467.500977,6250.467285,6517.195801,6504.515137,6612.57373,7088.247559,7003.220703,6878.953613,6883.414063,7271.78125,7427.939453,7356.223633,7341.448242,7303.81543,6926.069824,7119.947266,6965.616699,6958.557129,6928.664551,7134.450684,7167.183105,7269.956543,7280.521973,7240.290527,6934.551758,7145.865723,7491.785156,7574.195801,7641.36377,7700.594238,7795.601074,7814.527344,8871.753906,9440.650391,9048.023438,9007.1875,9167.78125,8956.90625,9062.415039,9411.467773,9992.664063,9996.743164,9913.863281,9595.581055,9033.470703,8949.898438,9317.878906,9793.268555,9755.828125,9564.205078,9823.001953,9906.030273,9836.047852,9804.793945,9555.242188,9232.936523,9302.501953,9288.404297,8951.005859,8991.967773,9203.320313,9546.319336,9573.666992,9704.030273,9700.34375,10199.56543,10182.34082,9682.859375,9887.610352,9869.237305,9773.431641,9768.498047,9782.306641,9836.369141,9908.896484,9938.297852,9540.46582,9493.211914,9482.270508,9504.860352,9579.430664,9540.422852,9482.782227,9440.875977,9394.97168,9401.107422,9655.073242,9670.541016,9680.367188,9340.161133,9310.516602,9207.810547,9197.546875,9237.573242,9217.835938,9309.754883,9274.962891,9202.344727,9183.295898,9162.183594,9375.474609,9360.617188,9450.335938,9431.378906,9287.47168,9293.532227,9319.418945,9306.405273,9283.841797,9275.325195,9214.3125,9182.253906,9230.983398,9201.398438,9214.270508,9407.262695,9530.518555,9610.24707,9623.336914,9704.556641,10023.807617,11298.22168,11204.327148,11304.397461,11169.356445,11415.864258,11794.775391,12034.144531,11453.079102,11385.381836,11786.617188,11902.335938,11898.038086,11800.064453,11806.056641,12045.140625,11932.710938,11748.396484,11796.396484,12150.994141,11963.203125,11934.901367,12359.056641,12335.707031,12028.923828,11900.411133,11899.259766,11689.407227,11713.429688,11807.631836,11778.299805,11530.052734,11570.786133,11545.615234,11585.640625,11715.264648,11768.876953,12067.081055,11964.823242,11443.022461,10663.919922,10581.571289,10353.927734,10399.15332,10414.775391,10350.542969,10503.912109,10434.922852,10578.837891,10577.214844,10800.010742,10938.631836,11100.124023,11037.420898,11034.908203,11134.092773,11095.870117,10988.304688,10568.077148,10537.828125,10771.056641,10777.696289,10772.999023,10803.976563,10945.347656,10860.000977,10847.256836,10933.624023,10657.837891,10598.94043,10686.0,10793.507813,10797.578125,10680.507813,10945.737305,11102.671875,11442.210938,11428.813477,11698.467773,11548.984375,11539.977539,11569.914063,11540.061523,11386.261719,11483.359375,11799.092773,11999.917969,13184.566406,13161.59375,13015.961914,13145.066406,13329.183594,13225.297852,13759.668945,13837.695313,13612.047852,13651.516602,14028.213867,13862.033203,13808.323242,13984.981445,14218.766602,15706.404297,15903.4375,15737.095703,15637.320313,15785.136719,15450.329102,15916.260742,16305.003906,16463.177734,16317.808594,16123.110352,16816.181641,17782.919922,18393.949219,18119.546875,18773.226563,18936.621094,18688.96875,18711.425781,19348.271484,19390.964844,18866.285156,17445.023438,17853.939453,18283.628906,19749.263672,19845.974609,19308.330078,19566.191406,19511.404297,19160.449219,19390.5,19411.828125,19283.478516,18626.292969,18553.298828,18268.453125,18919.550781,19381.535156,19305.099609,19525.007813,21458.908203,23642.660156,23238.601563,24085.855469,24209.660156,24059.982422,23789.902344,24024.490234,23768.337891,24710.101563,26718.070313,28288.839844,27389.111328,27370.720703,28937.740234,29244.876953,29600.626953,33155.117188,34608.558594,33440.21875,34437.589844,36879.699219,40180.367188,41946.738281,41436.351563,41420.191406,38346.53125,36568.527344,37599.960938,39966.40625,39577.710938,37864.367188,36722.351563,37299.285156,37755.890625,36378.328125,35552.679688,33811.851563,33360.976563,32944.007813,34802.742188,32794.550781,32564.029297,33858.3125,38406.261719,34834.707031,34288.332031,34638.214844,35896.882813,37480.1875,38592.175781,38225.90625,40846.546875,39621.835938,46203.929688,48003.722656,47145.566406,48463.46875,48745.734375,48047.746094,49487.640625,48875.570313,50341.101563,52533.914063,52474.105469,56113.652344,57505.226563,58330.570313,57533.390625,54204.929688,51290.136719,51948.96875,48370.785156,48253.269531,46716.429688,49784.015625,50127.511719,52535.136719,51735.089844,49396.429688,49147.21875,51384.367188,52314.070313,54824.117188,57258.253906,58091.0625,57996.621094,61683.863281,61597.917969,60540.992188,56833.179688,58969.816406,60116.25,59498.375,60031.285156,58767.898438,58471.480469,55985.441406,57262.382813,53392.386719,55137.3125,56568.214844,56610.3125,58342.097656,59447.222656,59930.027344,59586.070313,60267.1875,60110.269531,58913.746094,59891.296875,59479.578125,58731.144531,58338.738281,58937.046875,61276.664063,60790.554688,61253.035156,63742.285156,64863.097656,63821.671875,63594.722656,62572.175781,61057.457031,57520.054688,57062.148438,56757.972656,55410.230469,52120.792969,51167.5625,50506.019531,54288.003906,55416.964844,56227.207031,55115.84375,57900.71875,58448.339844,57902.59375,58973.308594,57214.179688,57911.363281,58363.316406,58606.632813,59464.613281,59210.882813,59519.355469,56872.542969,57939.363281,51330.84375,51438.117188,50639.664063,49720.042969,46623.558594,45812.457031,43546.117188,42462.984375,42172.171875,38831.054688,38289.21875,39835.140625,39776.351563,40782.078125,40379.617188,38856.96875,37234.5,36400.667969,37468.25,37896.734375,38231.339844,39478.953125,39242.484375,37917.714844,36436.421875,36790.570313,34017.386719,37537.371094,38334.324219,37608.695313,37408.925781,39322.78125,40978.363281,41295.269531,40516.777344,39513.671875,38187.261719,36457.796875,36059.484375,35721.640625,33292.453125,34753.410156,35228.851563,35487.246094,32637.587891,34656.128906,35219.890625,36542.109375,36074.757813,35035.984375,33939.589844,34909.261719,35937.566406,35284.34375,35038.535156,34997.664063,33907.90625,34042.292969,34209.070313,34584.703125,34592.15625,33327.101563,33061.398438],\"low\":[7174.944336,6935.27002,6914.996094,7309.51416,7400.535645,7409.292969,7768.227539,7956.774414,7842.403809,7726.774902,8029.64209,8009.059082,8079.700684,8140.933105,8657.1875,8612.095703,8677.316406,8827.332031,8620.080078,8560.473633,8544.520508,8636.74707,8333.637695,8266.84082,8296.21875,8325.498047,8597.308594,8908.447266,9269.467773,9230.897461,9230.776367,9313.239258,9217.824219,9248.633789,9112.811523,9163.704102,9539.818359,9726.00293,9678.910156,9850.392578,9784.563477,9729.334961,10202.387695,10116.161133,10125.53418,9874.427734,9722.386719,9507.637695,9632.382813,9611.223633,9507.900391,9589.743164,9600.728516,9657.791016,9537.042969,9305.021484,8704.426758,8577.199219,8492.932617,8599.508789,8471.212891,8532.630859,8704.990234,8712.431641,8757.253906,9032.079102,8890.744141,8105.25293,7690.098145,7814.763184,7642.8125,4860.354004,4106.980957,5125.069336,5169.283203,4575.35791,4981.90918,5069.335938,5236.96875,5865.781738,5932.823242,5823.713867,5785.004395,6411.066406,6536.92627,6590.962891,6466.70166,6117.837891,5920.085938,5903.234375,6374.162109,6202.373535,6595.918457,6673.335938,6696.484863,6715.929199,6782.889648,7136.714355,7153.305664,7179.094238,6802.475098,6789.920898,6811.078125,6668.259766,6793.821289,6633.402832,6555.504395,7050.332031,7089.24707,7167.054688,6835.50293,6834.442383,6867.781738,7081.594727,7434.181641,7521.672363,7561.407715,7679.418945,7730.806641,7786.049316,8533.255859,8667.763672,8811.366211,8830.97168,8645.024414,8856.827148,8966.706055,9138.322266,9767.172852,9580.644531,8395.107422,8374.323242,8569.643555,8805.387695,9255.035156,9261.398438,9260.694336,9349.545898,9570.359375,9539.624023,9447.201172,8869.930664,9008.638672,9118.108398,8787.250977,8719.667969,8757.293945,8834.157227,9148.457031,9379.338867,9366.729492,9432.296875,9450.899414,9460.571289,9471.84668,9525.24707,9663.216797,9591.024414,9458.150391,9675.885742,9664.719727,9728.291016,9263.069336,9285.851563,9396.009766,9347.59375,8990.175781,9400.445313,9327.339844,9328.395508,9274.295898,9247.379883,9300.430664,9296.87207,9547.24707,9278.233398,9095.324219,9101.738281,8998.216797,8975.525391,9041.875977,9084.837891,9104.735352,9036.623047,9058.794922,9053.629883,8977.015625,9058.664063,9201.81543,9249.5,9234.999023,9118.001953,9199.485352,9197.450195,9224.292969,9171.661133,9171.933594,9088.947266,9089.202148,9100.824219,9097.632813,9137.509766,9149.389648,9319.65332,9483.003906,9481.454102,9530.211914,9652.847656,9903.969727,10632.631836,10856.141602,10895.455078,10987.053711,11239.682617,11018.129883,11012.415039,11094.145508,11158.285156,11598.713867,11408.59375,11558.431641,11548.78418,11662.256836,11195.708984,11249.605469,11216.87207,11685.455078,11768.697266,11737.188477,11806.696289,11954.525391,11687.333008,11710.063477,11564.979492,11448.805664,11559.920898,11623.25,11189.850586,11296.993164,11185.941406,11316.422852,11466.292969,11492.381836,11598.318359,11601.128906,11290.793945,10182.464844,10207.94043,9946.675781,10056.885742,9916.493164,9945.110352,10017.250977,10238.135742,10140.836914,10292.386719,10224.330078,10266.008789,10656.459961,10704.884766,10774.62793,10829.657227,10909.618164,10814.477539,10380.260742,10382.726563,10197.865234,10231.490234,10578.914063,10667.28125,10622.921875,10703.893555,10649.495117,10669.321289,10472.356445,10416.689453,10511.129883,10534.391602,10634.600586,10528.890625,10562.506836,10562.606445,10846.850586,11056.94043,11288.62793,11240.686523,11321.224609,11307.831055,11303.603516,11223.012695,11285.345703,11347.578125,11408.290039,11681.480469,11900.928711,12717.09375,12752.647461,12885.74707,12910.061523,12822.382813,13060.837891,12932.250977,12980.05957,13136.198242,13457.530273,13628.37793,13243.160156,13325.441406,13580.47168,14102.088867,15226.839844,14423.203125,14744.110352,14865.529297,15124.959961,15290.006836,15534.771484,15992.152344,15749.193359,15793.53418,15880.706055,16564.544922,17352.90625,17382.554688,17765.794922,18444.359375,17671.384766,18000.796875,18128.65625,18581.146484,16351.035156,16526.423828,16910.652344,17559.117188,18178.322266,18321.921875,18347.71875,18925.785156,18697.193359,18590.193359,18897.894531,18931.142578,18269.945313,17935.546875,17957.064453,17619.533203,18046.041016,18734.332031,19012.708984,19079.841797,19298.316406,21234.675781,22399.8125,22826.472656,23147.710938,22159.367188,22430.605469,22802.646484,22777.597656,23463.673828,24522.689453,25922.769531,26207.640625,25987.298828,27360.089844,28201.992188,28803.585938,29091.181641,32052.316406,28722.755859,30221.1875,33514.035156,36491.191406,36838.636719,38980.875,35984.628906,30549.599609,32697.976563,32584.667969,36868.5625,34659.589844,35633.554688,34069.320313,34883.84375,36069.804688,33570.476563,30250.75,28953.373047,31493.160156,31106.685547,32087.787109,31030.265625,29367.138672,30023.207031,32064.814453,32940.1875,32270.175781,32384.228516,33489.21875,35443.984375,36317.5,36658.761719,38138.386719,37446.152344,38076.324219,45166.960938,43881.152344,44187.761719,46424.976563,46392.28125,47114.507813,46347.476563,47201.304688,49072.378906,51015.765625,50937.277344,54626.558594,55672.609375,48967.566406,45290.589844,47213.5,47093.851563,44454.84375,45269.027344,43241.617188,45115.09375,47228.84375,48274.320313,47656.929688,46542.515625,47257.527344,48918.679688,49506.054688,51981.832031,53290.890625,54484.59375,55376.648438,56217.972656,59302.316406,55393.164063,53555.027344,54528.628906,54253.578125,56643.703125,58213.296875,56005.617188,54288.15625,53470.695313,52514.332031,50856.570313,51579.855469,54242.910156,55071.113281,55139.339844,57251.550781,57726.417969,58505.277344,58869.28125,57603.890625,57168.675781,57694.824219,57646.808594,55604.023438,55879.085938,57807.863281,58038.707031,59289.796875,59589.875,59869.957031,61554.796875,62208.964844,60222.53125,60361.351563,52829.535156,54368.59375,53448.046875,53695.46875,50583.8125,47714.664063,48805.285156,47159.484375,48852.796875,53319.1875,53887.917969,52418.027344,53129.601563,57052.273438,56141.90625,56590.871094,53191.425781,52969.054688,55382.507813,55321.847656,56975.210938,56482.003906,54071.457031,54608.652344,49150.535156,46980.019531,48868.578125,46664.140625,43963.351563,42207.289063,42367.832031,30681.496094,35050.617188,33616.453125,35383.683594,31227.339844,34551.082031,36581.429688,37905.835938,37247.902344,34779.039063,33693.929688,33520.738281,34241.945313,35787.085938,35966.308594,37243.972656,35717.722656,34900.414063,35304.578125,33480.640625,31114.443359,32475.865234,35847.59375,36044.449219,34728.191406,34864.109375,38757.285156,39609.46875,38176.035156,37439.675781,35255.855469,34933.0625,33432.074219,31295.935547,28893.621094,31772.632813,32385.214844,31350.884766,30184.501953,32071.757813,33902.074219,34252.484375,34086.152344,32883.78125,32770.679688,33402.695313,34396.476563,33213.660156,33599.917969,33839.289063,32133.183594,32318.880859,33116.011719,33346.738281,32697.308594,32261.419922,31639.125],\"open\":[7194.89209,7202.55127,6984.428711,7345.375488,7410.45166,7410.452148,7768.682129,8161.935547,8082.295898,7878.307617,8162.190918,8033.261719,8189.771973,8140.933105,8825.34375,8812.481445,8725.209961,8927.211914,8941.445313,8704.631836,8658.991211,8744.210938,8680.650391,8405.567383,8440.119141,8364.410156,8597.308594,8912.524414,9357.470703,9316.016602,9508.313477,9346.357422,9389.820313,9344.683594,9292.841797,9183.416016,9617.821289,9726.00293,9793.070313,9863.894531,10115.55957,9855.891602,10202.387695,10323.960938,10211.550781,10313.856445,9889.179688,9936.560547,9691.230469,10143.798828,9629.325195,9611.782227,9687.707031,9663.318359,9921.583008,9651.3125,9338.290039,8825.09375,8788.728516,8671.212891,8599.758789,8563.264648,8865.387695,8788.541992,8760.285156,9078.308594,9121.600586,8908.206055,8111.146484,7922.146973,7910.089844,7913.616211,5017.831055,5573.077637,5201.066895,5385.229492,5002.578125,5227.11377,5245.416504,6191.653809,6206.521484,6185.558105,5831.374512,6436.642578,6738.716797,6675.170898,6719.38916,6467.253906,6245.624512,5925.538574,6430.606445,6437.319336,6606.776367,6797.396484,6738.382813,6862.537598,6788.049805,7273.644043,7179.283203,7337.966309,7303.81543,6867.44043,6858.067871,6965.616699,6843.281738,6845.561523,6640.454102,7116.552734,7092.291504,7260.922363,7186.873535,6879.78418,6879.44043,7121.306152,7434.181641,7550.48291,7570.13916,7679.418945,7796.970215,7806.712402,8797.669922,8672.782227,8869.057617,8983.614258,8895.745117,8912.832031,9007.441406,9261.895508,9936.162109,9840.90625,9591.168945,8755.535156,8610.385742,8805.387695,9271.329102,9734.291016,9333.240234,9374.929688,9675.695313,9727.063477,9725.329102,9522.740234,9080.334961,9185.0625,9212.283203,8786.107422,8909.585938,8837.380859,9184.945313,9528.355469,9438.914063,9700.105469,9463.605469,10162.973633,9533.760742,9655.854492,9800.21582,9664.904297,9653.00293,9760.063477,9774.360352,9794.119141,9870.078125,9320.69043,9480.735352,9477.553711,9386.035156,9454.266602,9533.78418,9481.567383,9410.293945,9290.959961,9330.926758,9300.915039,9644.076172,9632.149414,9314.126953,9260.995117,9167.824219,9048.460938,9140.029297,9185.581055,9145.985352,9231.139648,9124.842773,9084.233398,9126.09082,9072.849609,9349.161133,9253.020508,9427.994141,9273.357422,9277.511719,9241.054688,9277.205078,9238.703125,9241.897461,9191.980469,9131.8125,9151.183594,9158.005859,9187.220703,9162.514648,9375.080078,9527.141602,9585.514648,9539.485352,9680.234375,9905.217773,11017.463867,10912.953125,11099.833008,11110.210938,11322.570313,11758.764648,11043.768555,11246.203125,11203.823242,11749.871094,11778.894531,11604.553711,11737.325195,11662.256836,11881.647461,11404.59668,11588.405273,11772.65918,11768.697266,11866.685547,11895.658203,12251.895508,11990.884766,11761.5,11878.026367,11585.477539,11679.696289,11663.689453,11773.588867,11366.894531,11485.608398,11325.295898,11541.054688,11508.713867,11713.306641,11679.316406,11964.823242,11407.191406,10230.365234,10512.530273,10167.216797,10280.998047,10369.306641,10134.151367,10242.330078,10369.02832,10409.861328,10452.399414,10328.734375,10677.754883,10797.761719,10973.251953,10951.820313,10933.75293,11095.870117,10934.925781,10459.624023,10535.492188,10248.786133,10761.109375,10695.575195,10746.892578,10776.613281,10709.650391,10843.871094,10795.254883,10619.821289,10575.100586,10550.44043,10676.529297,10796.306641,10603.355469,10669.371094,10927.913086,11059.142578,11296.082031,11392.635742,11548.719727,11429.047852,11426.602539,11502.828125,11322.123047,11355.982422,11495.038086,11745.974609,11913.077148,12801.635742,12971.548828,12931.574219,13108.063477,13031.201172,13075.242188,13654.214844,13271.298828,13437.874023,13546.532227,13780.995117,13737.032227,13550.451172,13950.488281,14133.733398,15579.729492,15565.880859,14833.753906,15479.595703,15332.350586,15290.90918,15701.298828,16276.44043,16317.808594,16068.139648,15955.577148,16685.691406,17645.191406,17803.861328,17817.083984,18621.316406,18642.232422,18370.017578,18365.015625,19104.410156,18729.839844,17153.914063,17112.933594,17719.634766,18178.322266,19633.769531,18801.744141,19205.925781,19446.966797,18698.384766,19154.179688,19343.128906,19191.529297,18320.884766,18553.298828,18263.929688,18051.320313,18806.765625,19144.492188,19246.919922,19418.818359,21308.351563,22806.796875,23132.865234,23861.765625,23474.455078,22794.039063,23781.974609,23240.203125,23733.570313,24677.015625,26439.373047,26280.822266,27081.810547,27360.089844,28841.574219,28994.009766,29376.455078,32129.408203,32810.949219,31977.041016,34013.613281,36833.875,39381.765625,40788.640625,40254.21875,38346.53125,35516.359375,33915.121094,37325.109375,39156.707031,36821.648438,36163.648438,35792.238281,36642.234375,36050.113281,35549.398438,30817.625,32985.757813,32064.376953,32285.798828,32358.613281,32564.029297,30441.041016,34318.671875,34295.933594,34270.878906,33114.578125,33533.199219,35510.820313,37475.105469,36931.546875,38138.386719,39250.191406,38886.828125,46184.992188,46469.761719,44898.710938,47877.035156,47491.203125,47114.507813,48696.535156,47944.457031,49207.277344,52140.972656,51675.980469,55887.335938,56068.566406,57532.738281,54204.929688,48835.085938,49709.082031,47180.464844,46344.773438,46194.015625,45159.503906,49612.105469,48415.816406,50522.304688,48527.03125,48899.230469,48918.679688,51174.117188,52272.96875,54824.011719,55963.179688,57821.21875,57343.371094,61221.132813,59267.429688,55840.785156,56825.828125,58893.078125,57850.441406,58332.261719,58309.914063,57517.890625,54511.660156,54710.488281,52726.746094,51683.011719,55137.566406,55974.941406,55947.898438,57750.132813,58930.277344,58926.5625,59098.878906,59397.410156,57604.839844,58760.875,59171.933594,58186.507813,56099.914063,58326.5625,58253.777344,59846.230469,60175.945313,59890.019531,63523.753906,63075.195313,63258.503906,61529.921875,60701.886719,56191.585938,55681.792969,56471.128906,53857.105469,51739.808594,51143.226563,50052.832031,49077.792969,54030.304688,55036.636719,54858.089844,53568.664063,57714.664063,57825.863281,56620.273438,57214.179688,53252.164063,57441.308594,56413.953125,57352.765625,58877.390625,58250.871094,55847.242188,56714.53125,49735.433594,49682.980469,49855.496094,46716.636719,46415.898438,43488.058594,42944.976563,36753.667969,40596.949219,37371.03125,37531.449219,34700.363281,38795.78125,38392.625,39316.890625,38507.082031,35684.15625,34607.40625,35658.59375,37293.792969,36699.921875,37599.410156,39242.484375,36880.15625,35538.609375,35835.265625,33589.519531,33416.976563,37389.515625,36697.03125,37340.144531,35555.789063,39016.96875,40427.167969,40168.691406,38341.421875,38099.476563,35854.527344,35563.140625,35641.144531,31622.376953,32515.714844,33682.800781,34659.105469,31594.664063,32287.523438,34679.121094,34475.558594,35908.386719,35035.984375,33549.601563,33854.421875,34665.566406,35284.34375,33723.507813,34225.679688,33889.605469,32861.671875,33811.242188,33509.078125,34254.015625,33125.46875,32723.845703],\"x\":[\"2020-01-01\",\"2020-01-02\",\"2020-01-03\",\"2020-01-04\",\"2020-01-05\",\"2020-01-06\",\"2020-01-07\",\"2020-01-08\",\"2020-01-09\",\"2020-01-10\",\"2020-01-11\",\"2020-01-12\",\"2020-01-13\",\"2020-01-14\",\"2020-01-15\",\"2020-01-16\",\"2020-01-17\",\"2020-01-18\",\"2020-01-19\",\"2020-01-20\",\"2020-01-21\",\"2020-01-22\",\"2020-01-23\",\"2020-01-24\",\"2020-01-25\",\"2020-01-26\",\"2020-01-27\",\"2020-01-28\",\"2020-01-29\",\"2020-01-30\",\"2020-01-31\",\"2020-02-01\",\"2020-02-02\",\"2020-02-03\",\"2020-02-04\",\"2020-02-05\",\"2020-02-06\",\"2020-02-07\",\"2020-02-08\",\"2020-02-09\",\"2020-02-10\",\"2020-02-11\",\"2020-02-12\",\"2020-02-13\",\"2020-02-14\",\"2020-02-15\",\"2020-02-16\",\"2020-02-17\",\"2020-02-18\",\"2020-02-19\",\"2020-02-20\",\"2020-02-21\",\"2020-02-22\",\"2020-02-23\",\"2020-02-24\",\"2020-02-25\",\"2020-02-26\",\"2020-02-27\",\"2020-02-28\",\"2020-02-29\",\"2020-03-01\",\"2020-03-02\",\"2020-03-03\",\"2020-03-04\",\"2020-03-05\",\"2020-03-06\",\"2020-03-07\",\"2020-03-08\",\"2020-03-09\",\"2020-03-10\",\"2020-03-11\",\"2020-03-12\",\"2020-03-13\",\"2020-03-14\",\"2020-03-15\",\"2020-03-16\",\"2020-03-17\",\"2020-03-18\",\"2020-03-19\",\"2020-03-20\",\"2020-03-21\",\"2020-03-22\",\"2020-03-23\",\"2020-03-24\",\"2020-03-25\",\"2020-03-26\",\"2020-03-27\",\"2020-03-28\",\"2020-03-29\",\"2020-03-30\",\"2020-03-31\",\"2020-04-01\",\"2020-04-02\",\"2020-04-03\",\"2020-04-04\",\"2020-04-05\",\"2020-04-06\",\"2020-04-07\",\"2020-04-08\",\"2020-04-09\",\"2020-04-10\",\"2020-04-11\",\"2020-04-12\",\"2020-04-13\",\"2020-04-14\",\"2020-04-15\",\"2020-04-16\",\"2020-04-17\",\"2020-04-18\",\"2020-04-19\",\"2020-04-20\",\"2020-04-21\",\"2020-04-22\",\"2020-04-23\",\"2020-04-24\",\"2020-04-25\",\"2020-04-26\",\"2020-04-27\",\"2020-04-28\",\"2020-04-29\",\"2020-04-30\",\"2020-05-01\",\"2020-05-02\",\"2020-05-03\",\"2020-05-04\",\"2020-05-05\",\"2020-05-06\",\"2020-05-07\",\"2020-05-08\",\"2020-05-09\",\"2020-05-10\",\"2020-05-11\",\"2020-05-12\",\"2020-05-13\",\"2020-05-14\",\"2020-05-15\",\"2020-05-16\",\"2020-05-17\",\"2020-05-18\",\"2020-05-19\",\"2020-05-20\",\"2020-05-21\",\"2020-05-22\",\"2020-05-23\",\"2020-05-24\",\"2020-05-25\",\"2020-05-26\",\"2020-05-27\",\"2020-05-28\",\"2020-05-29\",\"2020-05-30\",\"2020-05-31\",\"2020-06-01\",\"2020-06-02\",\"2020-06-03\",\"2020-06-04\",\"2020-06-05\",\"2020-06-06\",\"2020-06-07\",\"2020-06-08\",\"2020-06-09\",\"2020-06-10\",\"2020-06-11\",\"2020-06-12\",\"2020-06-13\",\"2020-06-14\",\"2020-06-15\",\"2020-06-16\",\"2020-06-17\",\"2020-06-18\",\"2020-06-19\",\"2020-06-20\",\"2020-06-21\",\"2020-06-22\",\"2020-06-23\",\"2020-06-24\",\"2020-06-25\",\"2020-06-26\",\"2020-06-27\",\"2020-06-28\",\"2020-06-29\",\"2020-06-30\",\"2020-07-01\",\"2020-07-02\",\"2020-07-03\",\"2020-07-04\",\"2020-07-05\",\"2020-07-06\",\"2020-07-07\",\"2020-07-08\",\"2020-07-09\",\"2020-07-10\",\"2020-07-11\",\"2020-07-12\",\"2020-07-13\",\"2020-07-14\",\"2020-07-15\",\"2020-07-16\",\"2020-07-17\",\"2020-07-18\",\"2020-07-19\",\"2020-07-20\",\"2020-07-21\",\"2020-07-22\",\"2020-07-23\",\"2020-07-24\",\"2020-07-25\",\"2020-07-26\",\"2020-07-27\",\"2020-07-28\",\"2020-07-29\",\"2020-07-30\",\"2020-07-31\",\"2020-08-01\",\"2020-08-02\",\"2020-08-03\",\"2020-08-04\",\"2020-08-05\",\"2020-08-06\",\"2020-08-07\",\"2020-08-08\",\"2020-08-09\",\"2020-08-10\",\"2020-08-11\",\"2020-08-12\",\"2020-08-13\",\"2020-08-14\",\"2020-08-15\",\"2020-08-16\",\"2020-08-17\",\"2020-08-18\",\"2020-08-19\",\"2020-08-20\",\"2020-08-21\",\"2020-08-22\",\"2020-08-23\",\"2020-08-24\",\"2020-08-25\",\"2020-08-26\",\"2020-08-27\",\"2020-08-28\",\"2020-08-29\",\"2020-08-30\",\"2020-08-31\",\"2020-09-01\",\"2020-09-02\",\"2020-09-03\",\"2020-09-04\",\"2020-09-05\",\"2020-09-06\",\"2020-09-07\",\"2020-09-08\",\"2020-09-09\",\"2020-09-10\",\"2020-09-11\",\"2020-09-12\",\"2020-09-13\",\"2020-09-14\",\"2020-09-15\",\"2020-09-16\",\"2020-09-17\",\"2020-09-18\",\"2020-09-19\",\"2020-09-20\",\"2020-09-21\",\"2020-09-22\",\"2020-09-23\",\"2020-09-24\",\"2020-09-25\",\"2020-09-26\",\"2020-09-27\",\"2020-09-28\",\"2020-09-29\",\"2020-09-30\",\"2020-10-01\",\"2020-10-02\",\"2020-10-03\",\"2020-10-04\",\"2020-10-05\",\"2020-10-06\",\"2020-10-07\",\"2020-10-08\",\"2020-10-09\",\"2020-10-10\",\"2020-10-11\",\"2020-10-12\",\"2020-10-13\",\"2020-10-14\",\"2020-10-15\",\"2020-10-16\",\"2020-10-17\",\"2020-10-18\",\"2020-10-19\",\"2020-10-20\",\"2020-10-21\",\"2020-10-22\",\"2020-10-23\",\"2020-10-24\",\"2020-10-25\",\"2020-10-26\",\"2020-10-27\",\"2020-10-28\",\"2020-10-29\",\"2020-10-30\",\"2020-10-31\",\"2020-11-01\",\"2020-11-02\",\"2020-11-03\",\"2020-11-04\",\"2020-11-05\",\"2020-11-06\",\"2020-11-07\",\"2020-11-08\",\"2020-11-09\",\"2020-11-10\",\"2020-11-11\",\"2020-11-12\",\"2020-11-13\",\"2020-11-14\",\"2020-11-15\",\"2020-11-16\",\"2020-11-17\",\"2020-11-18\",\"2020-11-19\",\"2020-11-20\",\"2020-11-21\",\"2020-11-22\",\"2020-11-23\",\"2020-11-24\",\"2020-11-25\",\"2020-11-26\",\"2020-11-27\",\"2020-11-28\",\"2020-11-29\",\"2020-11-30\",\"2020-12-01\",\"2020-12-02\",\"2020-12-03\",\"2020-12-04\",\"2020-12-05\",\"2020-12-06\",\"2020-12-07\",\"2020-12-08\",\"2020-12-09\",\"2020-12-10\",\"2020-12-11\",\"2020-12-12\",\"2020-12-13\",\"2020-12-14\",\"2020-12-15\",\"2020-12-16\",\"2020-12-17\",\"2020-12-18\",\"2020-12-19\",\"2020-12-20\",\"2020-12-21\",\"2020-12-22\",\"2020-12-23\",\"2020-12-24\",\"2020-12-25\",\"2020-12-26\",\"2020-12-27\",\"2020-12-28\",\"2020-12-29\",\"2020-12-30\",\"2020-12-31\",\"2021-01-01\",\"2021-01-02\",\"2021-01-03\",\"2021-01-04\",\"2021-01-05\",\"2021-01-06\",\"2021-01-07\",\"2021-01-08\",\"2021-01-09\",\"2021-01-10\",\"2021-01-11\",\"2021-01-12\",\"2021-01-13\",\"2021-01-14\",\"2021-01-15\",\"2021-01-16\",\"2021-01-17\",\"2021-01-18\",\"2021-01-19\",\"2021-01-20\",\"2021-01-21\",\"2021-01-22\",\"2021-01-23\",\"2021-01-24\",\"2021-01-25\",\"2021-01-26\",\"2021-01-27\",\"2021-01-28\",\"2021-01-29\",\"2021-01-30\",\"2021-01-31\",\"2021-02-01\",\"2021-02-02\",\"2021-02-03\",\"2021-02-04\",\"2021-02-05\",\"2021-02-06\",\"2021-02-07\",\"2021-02-08\",\"2021-02-09\",\"2021-02-10\",\"2021-02-11\",\"2021-02-12\",\"2021-02-13\",\"2021-02-14\",\"2021-02-15\",\"2021-02-16\",\"2021-02-17\",\"2021-02-18\",\"2021-02-19\",\"2021-02-20\",\"2021-02-21\",\"2021-02-22\",\"2021-02-23\",\"2021-02-24\",\"2021-02-25\",\"2021-02-26\",\"2021-02-27\",\"2021-02-28\",\"2021-03-01\",\"2021-03-02\",\"2021-03-03\",\"2021-03-04\",\"2021-03-05\",\"2021-03-06\",\"2021-03-07\",\"2021-03-08\",\"2021-03-09\",\"2021-03-10\",\"2021-03-11\",\"2021-03-12\",\"2021-03-13\",\"2021-03-14\",\"2021-03-15\",\"2021-03-16\",\"2021-03-17\",\"2021-03-18\",\"2021-03-19\",\"2021-03-20\",\"2021-03-21\",\"2021-03-22\",\"2021-03-23\",\"2021-03-24\",\"2021-03-25\",\"2021-03-26\",\"2021-03-27\",\"2021-03-28\",\"2021-03-29\",\"2021-03-30\",\"2021-03-31\",\"2021-04-01\",\"2021-04-02\",\"2021-04-03\",\"2021-04-04\",\"2021-04-05\",\"2021-04-06\",\"2021-04-07\",\"2021-04-08\",\"2021-04-09\",\"2021-04-10\",\"2021-04-11\",\"2021-04-12\",\"2021-04-13\",\"2021-04-14\",\"2021-04-15\",\"2021-04-16\",\"2021-04-17\",\"2021-04-18\",\"2021-04-19\",\"2021-04-20\",\"2021-04-21\",\"2021-04-22\",\"2021-04-23\",\"2021-04-24\",\"2021-04-25\",\"2021-04-26\",\"2021-04-27\",\"2021-04-28\",\"2021-04-29\",\"2021-04-30\",\"2021-05-01\",\"2021-05-02\",\"2021-05-03\",\"2021-05-04\",\"2021-05-05\",\"2021-05-06\",\"2021-05-07\",\"2021-05-08\",\"2021-05-09\",\"2021-05-10\",\"2021-05-11\",\"2021-05-12\",\"2021-05-13\",\"2021-05-14\",\"2021-05-15\",\"2021-05-16\",\"2021-05-17\",\"2021-05-18\",\"2021-05-19\",\"2021-05-20\",\"2021-05-21\",\"2021-05-22\",\"2021-05-23\",\"2021-05-24\",\"2021-05-25\",\"2021-05-26\",\"2021-05-27\",\"2021-05-28\",\"2021-05-29\",\"2021-05-30\",\"2021-05-31\",\"2021-06-01\",\"2021-06-02\",\"2021-06-03\",\"2021-06-04\",\"2021-06-05\",\"2021-06-06\",\"2021-06-07\",\"2021-06-08\",\"2021-06-09\",\"2021-06-10\",\"2021-06-11\",\"2021-06-12\",\"2021-06-13\",\"2021-06-14\",\"2021-06-15\",\"2021-06-16\",\"2021-06-17\",\"2021-06-18\",\"2021-06-19\",\"2021-06-20\",\"2021-06-21\",\"2021-06-22\",\"2021-06-23\",\"2021-06-24\",\"2021-06-25\",\"2021-06-26\",\"2021-06-27\",\"2021-06-28\",\"2021-06-29\",\"2021-06-30\",\"2021-07-01\",\"2021-07-02\",\"2021-07-03\",\"2021-07-04\",\"2021-07-05\",\"2021-07-06\",\"2021-07-07\",\"2021-07-08\",\"2021-07-09\",\"2021-07-10\",\"2021-07-11\",\"2021-07-12\",\"2021-07-13\",\"2021-07-14\"],\"type\":\"ohlc\"}],                        {\"template\":{\"data\":{\"barpolar\":[{\"marker\":{\"line\":{\"color\":\"white\",\"width\":0.5},\"pattern\":{\"fillmode\":\"overlay\",\"size\":10,\"solidity\":0.2}},\"type\":\"barpolar\"}],\"bar\":[{\"error_x\":{\"color\":\"#2a3f5f\"},\"error_y\":{\"color\":\"#2a3f5f\"},\"marker\":{\"line\":{\"color\":\"white\",\"width\":0.5},\"pattern\":{\"fillmode\":\"overlay\",\"size\":10,\"solidity\":0.2}},\"type\":\"bar\"}],\"carpet\":[{\"aaxis\":{\"endlinecolor\":\"#2a3f5f\",\"gridcolor\":\"#C8D4E3\",\"linecolor\":\"#C8D4E3\",\"minorgridcolor\":\"#C8D4E3\",\"startlinecolor\":\"#2a3f5f\"},\"baxis\":{\"endlinecolor\":\"#2a3f5f\",\"gridcolor\":\"#C8D4E3\",\"linecolor\":\"#C8D4E3\",\"minorgridcolor\":\"#C8D4E3\",\"startlinecolor\":\"#2a3f5f\"},\"type\":\"carpet\"}],\"choropleth\":[{\"colorbar\":{\"outlinewidth\":0,\"ticks\":\"\"},\"type\":\"choropleth\"}],\"contourcarpet\":[{\"colorbar\":{\"outlinewidth\":0,\"ticks\":\"\"},\"type\":\"contourcarpet\"}],\"contour\":[{\"colorbar\":{\"outlinewidth\":0,\"ticks\":\"\"},\"colorscale\":[[0.0,\"#0d0887\"],[0.1111111111111111,\"#46039f\"],[0.2222222222222222,\"#7201a8\"],[0.3333333333333333,\"#9c179e\"],[0.4444444444444444,\"#bd3786\"],[0.5555555555555556,\"#d8576b\"],[0.6666666666666666,\"#ed7953\"],[0.7777777777777778,\"#fb9f3a\"],[0.8888888888888888,\"#fdca26\"],[1.0,\"#f0f921\"]],\"type\":\"contour\"}],\"heatmapgl\":[{\"colorbar\":{\"outlinewidth\":0,\"ticks\":\"\"},\"colorscale\":[[0.0,\"#0d0887\"],[0.1111111111111111,\"#46039f\"],[0.2222222222222222,\"#7201a8\"],[0.3333333333333333,\"#9c179e\"],[0.4444444444444444,\"#bd3786\"],[0.5555555555555556,\"#d8576b\"],[0.6666666666666666,\"#ed7953\"],[0.7777777777777778,\"#fb9f3a\"],[0.8888888888888888,\"#fdca26\"],[1.0,\"#f0f921\"]],\"type\":\"heatmapgl\"}],\"heatmap\":[{\"colorbar\":{\"outlinewidth\":0,\"ticks\":\"\"},\"colorscale\":[[0.0,\"#0d0887\"],[0.1111111111111111,\"#46039f\"],[0.2222222222222222,\"#7201a8\"],[0.3333333333333333,\"#9c179e\"],[0.4444444444444444,\"#bd3786\"],[0.5555555555555556,\"#d8576b\"],[0.6666666666666666,\"#ed7953\"],[0.7777777777777778,\"#fb9f3a\"],[0.8888888888888888,\"#fdca26\"],[1.0,\"#f0f921\"]],\"type\":\"heatmap\"}],\"histogram2dcontour\":[{\"colorbar\":{\"outlinewidth\":0,\"ticks\":\"\"},\"colorscale\":[[0.0,\"#0d0887\"],[0.1111111111111111,\"#46039f\"],[0.2222222222222222,\"#7201a8\"],[0.3333333333333333,\"#9c179e\"],[0.4444444444444444,\"#bd3786\"],[0.5555555555555556,\"#d8576b\"],[0.6666666666666666,\"#ed7953\"],[0.7777777777777778,\"#fb9f3a\"],[0.8888888888888888,\"#fdca26\"],[1.0,\"#f0f921\"]],\"type\":\"histogram2dcontour\"}],\"histogram2d\":[{\"colorbar\":{\"outlinewidth\":0,\"ticks\":\"\"},\"colorscale\":[[0.0,\"#0d0887\"],[0.1111111111111111,\"#46039f\"],[0.2222222222222222,\"#7201a8\"],[0.3333333333333333,\"#9c179e\"],[0.4444444444444444,\"#bd3786\"],[0.5555555555555556,\"#d8576b\"],[0.6666666666666666,\"#ed7953\"],[0.7777777777777778,\"#fb9f3a\"],[0.8888888888888888,\"#fdca26\"],[1.0,\"#f0f921\"]],\"type\":\"histogram2d\"}],\"histogram\":[{\"marker\":{\"pattern\":{\"fillmode\":\"overlay\",\"size\":10,\"solidity\":0.2}},\"type\":\"histogram\"}],\"mesh3d\":[{\"colorbar\":{\"outlinewidth\":0,\"ticks\":\"\"},\"type\":\"mesh3d\"}],\"parcoords\":[{\"line\":{\"colorbar\":{\"outlinewidth\":0,\"ticks\":\"\"}},\"type\":\"parcoords\"}],\"pie\":[{\"automargin\":true,\"type\":\"pie\"}],\"scatter3d\":[{\"line\":{\"colorbar\":{\"outlinewidth\":0,\"ticks\":\"\"}},\"marker\":{\"colorbar\":{\"outlinewidth\":0,\"ticks\":\"\"}},\"type\":\"scatter3d\"}],\"scattercarpet\":[{\"marker\":{\"colorbar\":{\"outlinewidth\":0,\"ticks\":\"\"}},\"type\":\"scattercarpet\"}],\"scattergeo\":[{\"marker\":{\"colorbar\":{\"outlinewidth\":0,\"ticks\":\"\"}},\"type\":\"scattergeo\"}],\"scattergl\":[{\"marker\":{\"colorbar\":{\"outlinewidth\":0,\"ticks\":\"\"}},\"type\":\"scattergl\"}],\"scattermapbox\":[{\"marker\":{\"colorbar\":{\"outlinewidth\":0,\"ticks\":\"\"}},\"type\":\"scattermapbox\"}],\"scatterpolargl\":[{\"marker\":{\"colorbar\":{\"outlinewidth\":0,\"ticks\":\"\"}},\"type\":\"scatterpolargl\"}],\"scatterpolar\":[{\"marker\":{\"colorbar\":{\"outlinewidth\":0,\"ticks\":\"\"}},\"type\":\"scatterpolar\"}],\"scatter\":[{\"marker\":{\"colorbar\":{\"outlinewidth\":0,\"ticks\":\"\"}},\"type\":\"scatter\"}],\"scatterternary\":[{\"marker\":{\"colorbar\":{\"outlinewidth\":0,\"ticks\":\"\"}},\"type\":\"scatterternary\"}],\"surface\":[{\"colorbar\":{\"outlinewidth\":0,\"ticks\":\"\"},\"colorscale\":[[0.0,\"#0d0887\"],[0.1111111111111111,\"#46039f\"],[0.2222222222222222,\"#7201a8\"],[0.3333333333333333,\"#9c179e\"],[0.4444444444444444,\"#bd3786\"],[0.5555555555555556,\"#d8576b\"],[0.6666666666666666,\"#ed7953\"],[0.7777777777777778,\"#fb9f3a\"],[0.8888888888888888,\"#fdca26\"],[1.0,\"#f0f921\"]],\"type\":\"surface\"}],\"table\":[{\"cells\":{\"fill\":{\"color\":\"#EBF0F8\"},\"line\":{\"color\":\"white\"}},\"header\":{\"fill\":{\"color\":\"#C8D4E3\"},\"line\":{\"color\":\"white\"}},\"type\":\"table\"}]},\"layout\":{\"annotationdefaults\":{\"arrowcolor\":\"#2a3f5f\",\"arrowhead\":0,\"arrowwidth\":1},\"autotypenumbers\":\"strict\",\"coloraxis\":{\"colorbar\":{\"outlinewidth\":0,\"ticks\":\"\"}},\"colorscale\":{\"diverging\":[[0,\"#8e0152\"],[0.1,\"#c51b7d\"],[0.2,\"#de77ae\"],[0.3,\"#f1b6da\"],[0.4,\"#fde0ef\"],[0.5,\"#f7f7f7\"],[0.6,\"#e6f5d0\"],[0.7,\"#b8e186\"],[0.8,\"#7fbc41\"],[0.9,\"#4d9221\"],[1,\"#276419\"]],\"sequential\":[[0.0,\"#0d0887\"],[0.1111111111111111,\"#46039f\"],[0.2222222222222222,\"#7201a8\"],[0.3333333333333333,\"#9c179e\"],[0.4444444444444444,\"#bd3786\"],[0.5555555555555556,\"#d8576b\"],[0.6666666666666666,\"#ed7953\"],[0.7777777777777778,\"#fb9f3a\"],[0.8888888888888888,\"#fdca26\"],[1.0,\"#f0f921\"]],\"sequentialminus\":[[0.0,\"#0d0887\"],[0.1111111111111111,\"#46039f\"],[0.2222222222222222,\"#7201a8\"],[0.3333333333333333,\"#9c179e\"],[0.4444444444444444,\"#bd3786\"],[0.5555555555555556,\"#d8576b\"],[0.6666666666666666,\"#ed7953\"],[0.7777777777777778,\"#fb9f3a\"],[0.8888888888888888,\"#fdca26\"],[1.0,\"#f0f921\"]]},\"colorway\":[\"#636efa\",\"#EF553B\",\"#00cc96\",\"#ab63fa\",\"#FFA15A\",\"#19d3f3\",\"#FF6692\",\"#B6E880\",\"#FF97FF\",\"#FECB52\"],\"font\":{\"color\":\"#2a3f5f\"},\"geo\":{\"bgcolor\":\"white\",\"lakecolor\":\"white\",\"landcolor\":\"white\",\"showlakes\":true,\"showland\":true,\"subunitcolor\":\"#C8D4E3\"},\"hoverlabel\":{\"align\":\"left\"},\"hovermode\":\"closest\",\"mapbox\":{\"style\":\"light\"},\"paper_bgcolor\":\"white\",\"plot_bgcolor\":\"white\",\"polar\":{\"angularaxis\":{\"gridcolor\":\"#EBF0F8\",\"linecolor\":\"#EBF0F8\",\"ticks\":\"\"},\"bgcolor\":\"white\",\"radialaxis\":{\"gridcolor\":\"#EBF0F8\",\"linecolor\":\"#EBF0F8\",\"ticks\":\"\"}},\"scene\":{\"xaxis\":{\"backgroundcolor\":\"white\",\"gridcolor\":\"#DFE8F3\",\"gridwidth\":2,\"linecolor\":\"#EBF0F8\",\"showbackground\":true,\"ticks\":\"\",\"zerolinecolor\":\"#EBF0F8\"},\"yaxis\":{\"backgroundcolor\":\"white\",\"gridcolor\":\"#DFE8F3\",\"gridwidth\":2,\"linecolor\":\"#EBF0F8\",\"showbackground\":true,\"ticks\":\"\",\"zerolinecolor\":\"#EBF0F8\"},\"zaxis\":{\"backgroundcolor\":\"white\",\"gridcolor\":\"#DFE8F3\",\"gridwidth\":2,\"linecolor\":\"#EBF0F8\",\"showbackground\":true,\"ticks\":\"\",\"zerolinecolor\":\"#EBF0F8\"}},\"shapedefaults\":{\"line\":{\"color\":\"#2a3f5f\"}},\"ternary\":{\"aaxis\":{\"gridcolor\":\"#DFE8F3\",\"linecolor\":\"#A2B1C6\",\"ticks\":\"\"},\"baxis\":{\"gridcolor\":\"#DFE8F3\",\"linecolor\":\"#A2B1C6\",\"ticks\":\"\"},\"bgcolor\":\"white\",\"caxis\":{\"gridcolor\":\"#DFE8F3\",\"linecolor\":\"#A2B1C6\",\"ticks\":\"\"}},\"title\":{\"x\":0.05},\"xaxis\":{\"automargin\":true,\"gridcolor\":\"#EBF0F8\",\"linecolor\":\"#EBF0F8\",\"ticks\":\"\",\"title\":{\"standoff\":15},\"zerolinecolor\":\"#EBF0F8\",\"zerolinewidth\":2},\"yaxis\":{\"automargin\":true,\"gridcolor\":\"#EBF0F8\",\"linecolor\":\"#EBF0F8\",\"ticks\":\"\",\"title\":{\"standoff\":15},\"zerolinecolor\":\"#EBF0F8\",\"zerolinewidth\":2}}},\"xaxis\":{\"title\":{\"text\":\"Time\"},\"rangeslider\":{\"visible\":true}},\"title\":{\"text\":\"Bitcoin OHLC Chart\",\"y\":0.9,\"x\":0.5,\"xanchor\":\"center\",\"yanchor\":\"top\"},\"yaxis\":{\"title\":{\"text\":\"Prix en USD\"},\"ticksuffix\":\"$\"}},                        {\"responsive\": true}                    ).then(function(){\n",
       "                            \n",
       "var gd = document.getElementById('99e738d8-9129-4024-8e8f-731317eff036');\n",
       "var x = new MutationObserver(function (mutations, observer) {{\n",
       "        var display = window.getComputedStyle(gd).display;\n",
       "        if (!display || display === 'none') {{\n",
       "            console.log([gd, 'removed!']);\n",
       "            Plotly.purge(gd);\n",
       "            observer.disconnect();\n",
       "        }}\n",
       "}});\n",
       "\n",
       "// Listen for the removal of the full notebook cells\n",
       "var notebookContainer = gd.closest('#notebook-container');\n",
       "if (notebookContainer) {{\n",
       "    x.observe(notebookContainer, {childList: true});\n",
       "}}\n",
       "\n",
       "// Listen for the clearing of the current output cell\n",
       "var outputEl = gd.closest('.output');\n",
       "if (outputEl) {{\n",
       "    x.observe(outputEl, {childList: true});\n",
       "}}\n",
       "\n",
       "                        })                };                });            </script>        </div>"
      ]
     },
     "metadata": {},
     "output_type": "display_data"
    }
   ],
   "source": [
    "ohlc_chart(BTC_Data[:-200], title = \"Bitcoin\")"
   ]
  },
  {
   "cell_type": "code",
   "execution_count": 42,
   "id": "4ca5ea0a",
   "metadata": {},
   "outputs": [],
   "source": [
    "def vol_traded(data ,title,color):\n",
    "    area = px.area(data_frame=data,\n",
    "               x = data.index ,\n",
    "               y = \"Volume\",\n",
    "               markers = True)\n",
    "    area.update_traces(line_color=color)\n",
    "    area.update_xaxes(\n",
    "        title_text = 'Time',\n",
    "        rangeslider_visible = True)\n",
    "    area.update_yaxes(title_text = 'Number of trades every minute')\n",
    "    area.update_layout(showlegend = True, xaxis_rangeslider_visible=False,\n",
    "        title = {\n",
    "            'text': '{:} Volume Traded'.format(title),\n",
    "            'y':0.94,\n",
    "            'x':0.5,\n",
    "            'xanchor': 'center',\n",
    "            'yanchor': 'top'},\n",
    "        template=\"plotly_white\")\n",
    "    return area"
   ]
  },
  {
   "cell_type": "code",
   "execution_count": 66,
   "id": "c15064cf",
   "metadata": {},
   "outputs": [
    {
     "data": {
      "application/vnd.plotly.v1+json": {
       "config": {
        "plotlyServerURL": "https://plot.ly"
       },
       "data": [
        {
         "hovertemplate": "Date=%{x}<br>Volume=%{y}<extra></extra>",
         "legendgroup": "",
         "line": {
          "color": "blue"
         },
         "marker": {
          "symbol": "circle"
         },
         "mode": "lines+markers",
         "name": "",
         "orientation": "v",
         "showlegend": false,
         "stackgroup": "1",
         "type": "scatter",
         "x": [
          "2021-11-02",
          "2021-11-03",
          "2021-11-04",
          "2021-11-05",
          "2021-11-06",
          "2021-11-07",
          "2021-11-08",
          "2021-11-09",
          "2021-11-10",
          "2021-11-11",
          "2021-11-12",
          "2021-11-13",
          "2021-11-14",
          "2021-11-15",
          "2021-11-16",
          "2021-11-17",
          "2021-11-18",
          "2021-11-19",
          "2021-11-20",
          "2021-11-21",
          "2021-11-22",
          "2021-11-23",
          "2021-11-24",
          "2021-11-25",
          "2021-11-26",
          "2021-11-27",
          "2021-11-28",
          "2021-11-29",
          "2021-11-30",
          "2021-12-01",
          "2021-12-02",
          "2021-12-03",
          "2021-12-04",
          "2021-12-05",
          "2021-12-06",
          "2021-12-07",
          "2021-12-08",
          "2021-12-09",
          "2021-12-10",
          "2021-12-11",
          "2021-12-12",
          "2021-12-13",
          "2021-12-14",
          "2021-12-15",
          "2021-12-16",
          "2021-12-17",
          "2021-12-18",
          "2021-12-19",
          "2021-12-20",
          "2021-12-21",
          "2021-12-22",
          "2021-12-23",
          "2021-12-24",
          "2021-12-25",
          "2021-12-26",
          "2021-12-27",
          "2021-12-28",
          "2021-12-29",
          "2021-12-30",
          "2021-12-31",
          "2022-01-01",
          "2022-01-02",
          "2022-01-03",
          "2022-01-04",
          "2022-01-05",
          "2022-01-06",
          "2022-01-07",
          "2022-01-08",
          "2022-01-09",
          "2022-01-10",
          "2022-01-11",
          "2022-01-12",
          "2022-01-13",
          "2022-01-14",
          "2022-01-15",
          "2022-01-16",
          "2022-01-17",
          "2022-01-18",
          "2022-01-19",
          "2022-01-20",
          "2022-01-21",
          "2022-01-22",
          "2022-01-23",
          "2022-01-24",
          "2022-01-25",
          "2022-01-26",
          "2022-01-27",
          "2022-01-28",
          "2022-01-29",
          "2022-01-30"
         ],
         "xaxis": "x",
         "y": [
          37746665647,
          36124731509,
          32615846901,
          30605102446,
          29094934221,
          24726754302,
          41125608330,
          42357991721,
          48730828378,
          35880633236,
          36084893887,
          30474228777,
          25122092191,
          30558763548,
          46844335592,
          39178392930,
          41388338699,
          38702407772,
          30624264863,
          26123447605,
          35036121783,
          37485803899,
          36635566789,
          34284016248,
          41810748221,
          30560857714,
          28116886357,
          32370840356,
          36708594618,
          36858195307,
          32379968686,
          39789134215,
          61385677469,
          37198201161,
          37707308001,
          33676814852,
          28479699446,
          29603577251,
          30966005122,
          25775869261,
          21939223599,
          32166727776,
          34638619079,
          36541828520,
          27268150947,
          32902725329,
          26098292690,
          25154053861,
          30961902129,
          27055803928,
          24447979559,
          28223878108,
          24367912228,
          19030650914,
          20964372926,
          24324345758,
          33430376883,
          30049226299,
          26686491018,
          36974172400,
          24582667004,
          27951569547,
          33071628362,
          42494677905,
          36851084859,
          30208048289,
          84196607520,
          28066355845,
          21294384372,
          32104232331,
          26327648900,
          33499938689,
          47691135082,
          23577403399,
          18371348298,
          17902097845,
          21690904261,
          22417209227,
          23091543258,
          20382033940,
          43011992031,
          39714385405,
          26017975951,
          41856658597,
          26428189594,
          31324598034,
          25041426629,
          22238830523,
          17194183075,
          15078688768
         ],
         "yaxis": "y"
        }
       ],
       "layout": {
        "legend": {
         "tracegroupgap": 0
        },
        "margin": {
         "t": 60
        },
        "showlegend": true,
        "template": {
         "data": {
          "bar": [
           {
            "error_x": {
             "color": "#2a3f5f"
            },
            "error_y": {
             "color": "#2a3f5f"
            },
            "marker": {
             "line": {
              "color": "white",
              "width": 0.5
             },
             "pattern": {
              "fillmode": "overlay",
              "size": 10,
              "solidity": 0.2
             }
            },
            "type": "bar"
           }
          ],
          "barpolar": [
           {
            "marker": {
             "line": {
              "color": "white",
              "width": 0.5
             },
             "pattern": {
              "fillmode": "overlay",
              "size": 10,
              "solidity": 0.2
             }
            },
            "type": "barpolar"
           }
          ],
          "carpet": [
           {
            "aaxis": {
             "endlinecolor": "#2a3f5f",
             "gridcolor": "#C8D4E3",
             "linecolor": "#C8D4E3",
             "minorgridcolor": "#C8D4E3",
             "startlinecolor": "#2a3f5f"
            },
            "baxis": {
             "endlinecolor": "#2a3f5f",
             "gridcolor": "#C8D4E3",
             "linecolor": "#C8D4E3",
             "minorgridcolor": "#C8D4E3",
             "startlinecolor": "#2a3f5f"
            },
            "type": "carpet"
           }
          ],
          "choropleth": [
           {
            "colorbar": {
             "outlinewidth": 0,
             "ticks": ""
            },
            "type": "choropleth"
           }
          ],
          "contour": [
           {
            "colorbar": {
             "outlinewidth": 0,
             "ticks": ""
            },
            "colorscale": [
             [
              0,
              "#0d0887"
             ],
             [
              0.1111111111111111,
              "#46039f"
             ],
             [
              0.2222222222222222,
              "#7201a8"
             ],
             [
              0.3333333333333333,
              "#9c179e"
             ],
             [
              0.4444444444444444,
              "#bd3786"
             ],
             [
              0.5555555555555556,
              "#d8576b"
             ],
             [
              0.6666666666666666,
              "#ed7953"
             ],
             [
              0.7777777777777778,
              "#fb9f3a"
             ],
             [
              0.8888888888888888,
              "#fdca26"
             ],
             [
              1,
              "#f0f921"
             ]
            ],
            "type": "contour"
           }
          ],
          "contourcarpet": [
           {
            "colorbar": {
             "outlinewidth": 0,
             "ticks": ""
            },
            "type": "contourcarpet"
           }
          ],
          "heatmap": [
           {
            "colorbar": {
             "outlinewidth": 0,
             "ticks": ""
            },
            "colorscale": [
             [
              0,
              "#0d0887"
             ],
             [
              0.1111111111111111,
              "#46039f"
             ],
             [
              0.2222222222222222,
              "#7201a8"
             ],
             [
              0.3333333333333333,
              "#9c179e"
             ],
             [
              0.4444444444444444,
              "#bd3786"
             ],
             [
              0.5555555555555556,
              "#d8576b"
             ],
             [
              0.6666666666666666,
              "#ed7953"
             ],
             [
              0.7777777777777778,
              "#fb9f3a"
             ],
             [
              0.8888888888888888,
              "#fdca26"
             ],
             [
              1,
              "#f0f921"
             ]
            ],
            "type": "heatmap"
           }
          ],
          "heatmapgl": [
           {
            "colorbar": {
             "outlinewidth": 0,
             "ticks": ""
            },
            "colorscale": [
             [
              0,
              "#0d0887"
             ],
             [
              0.1111111111111111,
              "#46039f"
             ],
             [
              0.2222222222222222,
              "#7201a8"
             ],
             [
              0.3333333333333333,
              "#9c179e"
             ],
             [
              0.4444444444444444,
              "#bd3786"
             ],
             [
              0.5555555555555556,
              "#d8576b"
             ],
             [
              0.6666666666666666,
              "#ed7953"
             ],
             [
              0.7777777777777778,
              "#fb9f3a"
             ],
             [
              0.8888888888888888,
              "#fdca26"
             ],
             [
              1,
              "#f0f921"
             ]
            ],
            "type": "heatmapgl"
           }
          ],
          "histogram": [
           {
            "marker": {
             "pattern": {
              "fillmode": "overlay",
              "size": 10,
              "solidity": 0.2
             }
            },
            "type": "histogram"
           }
          ],
          "histogram2d": [
           {
            "colorbar": {
             "outlinewidth": 0,
             "ticks": ""
            },
            "colorscale": [
             [
              0,
              "#0d0887"
             ],
             [
              0.1111111111111111,
              "#46039f"
             ],
             [
              0.2222222222222222,
              "#7201a8"
             ],
             [
              0.3333333333333333,
              "#9c179e"
             ],
             [
              0.4444444444444444,
              "#bd3786"
             ],
             [
              0.5555555555555556,
              "#d8576b"
             ],
             [
              0.6666666666666666,
              "#ed7953"
             ],
             [
              0.7777777777777778,
              "#fb9f3a"
             ],
             [
              0.8888888888888888,
              "#fdca26"
             ],
             [
              1,
              "#f0f921"
             ]
            ],
            "type": "histogram2d"
           }
          ],
          "histogram2dcontour": [
           {
            "colorbar": {
             "outlinewidth": 0,
             "ticks": ""
            },
            "colorscale": [
             [
              0,
              "#0d0887"
             ],
             [
              0.1111111111111111,
              "#46039f"
             ],
             [
              0.2222222222222222,
              "#7201a8"
             ],
             [
              0.3333333333333333,
              "#9c179e"
             ],
             [
              0.4444444444444444,
              "#bd3786"
             ],
             [
              0.5555555555555556,
              "#d8576b"
             ],
             [
              0.6666666666666666,
              "#ed7953"
             ],
             [
              0.7777777777777778,
              "#fb9f3a"
             ],
             [
              0.8888888888888888,
              "#fdca26"
             ],
             [
              1,
              "#f0f921"
             ]
            ],
            "type": "histogram2dcontour"
           }
          ],
          "mesh3d": [
           {
            "colorbar": {
             "outlinewidth": 0,
             "ticks": ""
            },
            "type": "mesh3d"
           }
          ],
          "parcoords": [
           {
            "line": {
             "colorbar": {
              "outlinewidth": 0,
              "ticks": ""
             }
            },
            "type": "parcoords"
           }
          ],
          "pie": [
           {
            "automargin": true,
            "type": "pie"
           }
          ],
          "scatter": [
           {
            "marker": {
             "colorbar": {
              "outlinewidth": 0,
              "ticks": ""
             }
            },
            "type": "scatter"
           }
          ],
          "scatter3d": [
           {
            "line": {
             "colorbar": {
              "outlinewidth": 0,
              "ticks": ""
             }
            },
            "marker": {
             "colorbar": {
              "outlinewidth": 0,
              "ticks": ""
             }
            },
            "type": "scatter3d"
           }
          ],
          "scattercarpet": [
           {
            "marker": {
             "colorbar": {
              "outlinewidth": 0,
              "ticks": ""
             }
            },
            "type": "scattercarpet"
           }
          ],
          "scattergeo": [
           {
            "marker": {
             "colorbar": {
              "outlinewidth": 0,
              "ticks": ""
             }
            },
            "type": "scattergeo"
           }
          ],
          "scattergl": [
           {
            "marker": {
             "colorbar": {
              "outlinewidth": 0,
              "ticks": ""
             }
            },
            "type": "scattergl"
           }
          ],
          "scattermapbox": [
           {
            "marker": {
             "colorbar": {
              "outlinewidth": 0,
              "ticks": ""
             }
            },
            "type": "scattermapbox"
           }
          ],
          "scatterpolar": [
           {
            "marker": {
             "colorbar": {
              "outlinewidth": 0,
              "ticks": ""
             }
            },
            "type": "scatterpolar"
           }
          ],
          "scatterpolargl": [
           {
            "marker": {
             "colorbar": {
              "outlinewidth": 0,
              "ticks": ""
             }
            },
            "type": "scatterpolargl"
           }
          ],
          "scatterternary": [
           {
            "marker": {
             "colorbar": {
              "outlinewidth": 0,
              "ticks": ""
             }
            },
            "type": "scatterternary"
           }
          ],
          "surface": [
           {
            "colorbar": {
             "outlinewidth": 0,
             "ticks": ""
            },
            "colorscale": [
             [
              0,
              "#0d0887"
             ],
             [
              0.1111111111111111,
              "#46039f"
             ],
             [
              0.2222222222222222,
              "#7201a8"
             ],
             [
              0.3333333333333333,
              "#9c179e"
             ],
             [
              0.4444444444444444,
              "#bd3786"
             ],
             [
              0.5555555555555556,
              "#d8576b"
             ],
             [
              0.6666666666666666,
              "#ed7953"
             ],
             [
              0.7777777777777778,
              "#fb9f3a"
             ],
             [
              0.8888888888888888,
              "#fdca26"
             ],
             [
              1,
              "#f0f921"
             ]
            ],
            "type": "surface"
           }
          ],
          "table": [
           {
            "cells": {
             "fill": {
              "color": "#EBF0F8"
             },
             "line": {
              "color": "white"
             }
            },
            "header": {
             "fill": {
              "color": "#C8D4E3"
             },
             "line": {
              "color": "white"
             }
            },
            "type": "table"
           }
          ]
         },
         "layout": {
          "annotationdefaults": {
           "arrowcolor": "#2a3f5f",
           "arrowhead": 0,
           "arrowwidth": 1
          },
          "autotypenumbers": "strict",
          "coloraxis": {
           "colorbar": {
            "outlinewidth": 0,
            "ticks": ""
           }
          },
          "colorscale": {
           "diverging": [
            [
             0,
             "#8e0152"
            ],
            [
             0.1,
             "#c51b7d"
            ],
            [
             0.2,
             "#de77ae"
            ],
            [
             0.3,
             "#f1b6da"
            ],
            [
             0.4,
             "#fde0ef"
            ],
            [
             0.5,
             "#f7f7f7"
            ],
            [
             0.6,
             "#e6f5d0"
            ],
            [
             0.7,
             "#b8e186"
            ],
            [
             0.8,
             "#7fbc41"
            ],
            [
             0.9,
             "#4d9221"
            ],
            [
             1,
             "#276419"
            ]
           ],
           "sequential": [
            [
             0,
             "#0d0887"
            ],
            [
             0.1111111111111111,
             "#46039f"
            ],
            [
             0.2222222222222222,
             "#7201a8"
            ],
            [
             0.3333333333333333,
             "#9c179e"
            ],
            [
             0.4444444444444444,
             "#bd3786"
            ],
            [
             0.5555555555555556,
             "#d8576b"
            ],
            [
             0.6666666666666666,
             "#ed7953"
            ],
            [
             0.7777777777777778,
             "#fb9f3a"
            ],
            [
             0.8888888888888888,
             "#fdca26"
            ],
            [
             1,
             "#f0f921"
            ]
           ],
           "sequentialminus": [
            [
             0,
             "#0d0887"
            ],
            [
             0.1111111111111111,
             "#46039f"
            ],
            [
             0.2222222222222222,
             "#7201a8"
            ],
            [
             0.3333333333333333,
             "#9c179e"
            ],
            [
             0.4444444444444444,
             "#bd3786"
            ],
            [
             0.5555555555555556,
             "#d8576b"
            ],
            [
             0.6666666666666666,
             "#ed7953"
            ],
            [
             0.7777777777777778,
             "#fb9f3a"
            ],
            [
             0.8888888888888888,
             "#fdca26"
            ],
            [
             1,
             "#f0f921"
            ]
           ]
          },
          "colorway": [
           "#636efa",
           "#EF553B",
           "#00cc96",
           "#ab63fa",
           "#FFA15A",
           "#19d3f3",
           "#FF6692",
           "#B6E880",
           "#FF97FF",
           "#FECB52"
          ],
          "font": {
           "color": "#2a3f5f"
          },
          "geo": {
           "bgcolor": "white",
           "lakecolor": "white",
           "landcolor": "white",
           "showlakes": true,
           "showland": true,
           "subunitcolor": "#C8D4E3"
          },
          "hoverlabel": {
           "align": "left"
          },
          "hovermode": "closest",
          "mapbox": {
           "style": "light"
          },
          "paper_bgcolor": "white",
          "plot_bgcolor": "white",
          "polar": {
           "angularaxis": {
            "gridcolor": "#EBF0F8",
            "linecolor": "#EBF0F8",
            "ticks": ""
           },
           "bgcolor": "white",
           "radialaxis": {
            "gridcolor": "#EBF0F8",
            "linecolor": "#EBF0F8",
            "ticks": ""
           }
          },
          "scene": {
           "xaxis": {
            "backgroundcolor": "white",
            "gridcolor": "#DFE8F3",
            "gridwidth": 2,
            "linecolor": "#EBF0F8",
            "showbackground": true,
            "ticks": "",
            "zerolinecolor": "#EBF0F8"
           },
           "yaxis": {
            "backgroundcolor": "white",
            "gridcolor": "#DFE8F3",
            "gridwidth": 2,
            "linecolor": "#EBF0F8",
            "showbackground": true,
            "ticks": "",
            "zerolinecolor": "#EBF0F8"
           },
           "zaxis": {
            "backgroundcolor": "white",
            "gridcolor": "#DFE8F3",
            "gridwidth": 2,
            "linecolor": "#EBF0F8",
            "showbackground": true,
            "ticks": "",
            "zerolinecolor": "#EBF0F8"
           }
          },
          "shapedefaults": {
           "line": {
            "color": "#2a3f5f"
           }
          },
          "ternary": {
           "aaxis": {
            "gridcolor": "#DFE8F3",
            "linecolor": "#A2B1C6",
            "ticks": ""
           },
           "baxis": {
            "gridcolor": "#DFE8F3",
            "linecolor": "#A2B1C6",
            "ticks": ""
           },
           "bgcolor": "white",
           "caxis": {
            "gridcolor": "#DFE8F3",
            "linecolor": "#A2B1C6",
            "ticks": ""
           }
          },
          "title": {
           "x": 0.05
          },
          "xaxis": {
           "automargin": true,
           "gridcolor": "#EBF0F8",
           "linecolor": "#EBF0F8",
           "ticks": "",
           "title": {
            "standoff": 15
           },
           "zerolinecolor": "#EBF0F8",
           "zerolinewidth": 2
          },
          "yaxis": {
           "automargin": true,
           "gridcolor": "#EBF0F8",
           "linecolor": "#EBF0F8",
           "ticks": "",
           "title": {
            "standoff": 15
           },
           "zerolinecolor": "#EBF0F8",
           "zerolinewidth": 2
          }
         }
        },
        "title": {
         "text": "Bitcoin Volume Traded",
         "x": 0.5,
         "xanchor": "center",
         "y": 0.94,
         "yanchor": "top"
        },
        "xaxis": {
         "anchor": "y",
         "domain": [
          0,
          1
         ],
         "rangeslider": {
          "visible": false
         },
         "title": {
          "text": "Time"
         }
        },
        "yaxis": {
         "anchor": "x",
         "domain": [
          0,
          1
         ],
         "title": {
          "text": "Number of trades every minute"
         }
        }
       }
      },
      "text/html": [
       "<div>                            <div id=\"d5fb8d17-cb2f-4cad-b82c-0b5c618b2d29\" class=\"plotly-graph-div\" style=\"height:525px; width:100%;\"></div>            <script type=\"text/javascript\">                require([\"plotly\"], function(Plotly) {                    window.PLOTLYENV=window.PLOTLYENV || {};                                    if (document.getElementById(\"d5fb8d17-cb2f-4cad-b82c-0b5c618b2d29\")) {                    Plotly.newPlot(                        \"d5fb8d17-cb2f-4cad-b82c-0b5c618b2d29\",                        [{\"hovertemplate\":\"Date=%{x}<br>Volume=%{y}<extra></extra>\",\"legendgroup\":\"\",\"line\":{\"color\":\"blue\"},\"marker\":{\"symbol\":\"circle\"},\"mode\":\"lines+markers\",\"name\":\"\",\"orientation\":\"v\",\"showlegend\":false,\"stackgroup\":\"1\",\"x\":[\"2021-11-02\",\"2021-11-03\",\"2021-11-04\",\"2021-11-05\",\"2021-11-06\",\"2021-11-07\",\"2021-11-08\",\"2021-11-09\",\"2021-11-10\",\"2021-11-11\",\"2021-11-12\",\"2021-11-13\",\"2021-11-14\",\"2021-11-15\",\"2021-11-16\",\"2021-11-17\",\"2021-11-18\",\"2021-11-19\",\"2021-11-20\",\"2021-11-21\",\"2021-11-22\",\"2021-11-23\",\"2021-11-24\",\"2021-11-25\",\"2021-11-26\",\"2021-11-27\",\"2021-11-28\",\"2021-11-29\",\"2021-11-30\",\"2021-12-01\",\"2021-12-02\",\"2021-12-03\",\"2021-12-04\",\"2021-12-05\",\"2021-12-06\",\"2021-12-07\",\"2021-12-08\",\"2021-12-09\",\"2021-12-10\",\"2021-12-11\",\"2021-12-12\",\"2021-12-13\",\"2021-12-14\",\"2021-12-15\",\"2021-12-16\",\"2021-12-17\",\"2021-12-18\",\"2021-12-19\",\"2021-12-20\",\"2021-12-21\",\"2021-12-22\",\"2021-12-23\",\"2021-12-24\",\"2021-12-25\",\"2021-12-26\",\"2021-12-27\",\"2021-12-28\",\"2021-12-29\",\"2021-12-30\",\"2021-12-31\",\"2022-01-01\",\"2022-01-02\",\"2022-01-03\",\"2022-01-04\",\"2022-01-05\",\"2022-01-06\",\"2022-01-07\",\"2022-01-08\",\"2022-01-09\",\"2022-01-10\",\"2022-01-11\",\"2022-01-12\",\"2022-01-13\",\"2022-01-14\",\"2022-01-15\",\"2022-01-16\",\"2022-01-17\",\"2022-01-18\",\"2022-01-19\",\"2022-01-20\",\"2022-01-21\",\"2022-01-22\",\"2022-01-23\",\"2022-01-24\",\"2022-01-25\",\"2022-01-26\",\"2022-01-27\",\"2022-01-28\",\"2022-01-29\",\"2022-01-30\"],\"xaxis\":\"x\",\"y\":[37746665647,36124731509,32615846901,30605102446,29094934221,24726754302,41125608330,42357991721,48730828378,35880633236,36084893887,30474228777,25122092191,30558763548,46844335592,39178392930,41388338699,38702407772,30624264863,26123447605,35036121783,37485803899,36635566789,34284016248,41810748221,30560857714,28116886357,32370840356,36708594618,36858195307,32379968686,39789134215,61385677469,37198201161,37707308001,33676814852,28479699446,29603577251,30966005122,25775869261,21939223599,32166727776,34638619079,36541828520,27268150947,32902725329,26098292690,25154053861,30961902129,27055803928,24447979559,28223878108,24367912228,19030650914,20964372926,24324345758,33430376883,30049226299,26686491018,36974172400,24582667004,27951569547,33071628362,42494677905,36851084859,30208048289,84196607520,28066355845,21294384372,32104232331,26327648900,33499938689,47691135082,23577403399,18371348298,17902097845,21690904261,22417209227,23091543258,20382033940,43011992031,39714385405,26017975951,41856658597,26428189594,31324598034,25041426629,22238830523,17194183075,15078688768],\"yaxis\":\"y\",\"type\":\"scatter\"}],                        {\"template\":{\"data\":{\"barpolar\":[{\"marker\":{\"line\":{\"color\":\"white\",\"width\":0.5},\"pattern\":{\"fillmode\":\"overlay\",\"size\":10,\"solidity\":0.2}},\"type\":\"barpolar\"}],\"bar\":[{\"error_x\":{\"color\":\"#2a3f5f\"},\"error_y\":{\"color\":\"#2a3f5f\"},\"marker\":{\"line\":{\"color\":\"white\",\"width\":0.5},\"pattern\":{\"fillmode\":\"overlay\",\"size\":10,\"solidity\":0.2}},\"type\":\"bar\"}],\"carpet\":[{\"aaxis\":{\"endlinecolor\":\"#2a3f5f\",\"gridcolor\":\"#C8D4E3\",\"linecolor\":\"#C8D4E3\",\"minorgridcolor\":\"#C8D4E3\",\"startlinecolor\":\"#2a3f5f\"},\"baxis\":{\"endlinecolor\":\"#2a3f5f\",\"gridcolor\":\"#C8D4E3\",\"linecolor\":\"#C8D4E3\",\"minorgridcolor\":\"#C8D4E3\",\"startlinecolor\":\"#2a3f5f\"},\"type\":\"carpet\"}],\"choropleth\":[{\"colorbar\":{\"outlinewidth\":0,\"ticks\":\"\"},\"type\":\"choropleth\"}],\"contourcarpet\":[{\"colorbar\":{\"outlinewidth\":0,\"ticks\":\"\"},\"type\":\"contourcarpet\"}],\"contour\":[{\"colorbar\":{\"outlinewidth\":0,\"ticks\":\"\"},\"colorscale\":[[0.0,\"#0d0887\"],[0.1111111111111111,\"#46039f\"],[0.2222222222222222,\"#7201a8\"],[0.3333333333333333,\"#9c179e\"],[0.4444444444444444,\"#bd3786\"],[0.5555555555555556,\"#d8576b\"],[0.6666666666666666,\"#ed7953\"],[0.7777777777777778,\"#fb9f3a\"],[0.8888888888888888,\"#fdca26\"],[1.0,\"#f0f921\"]],\"type\":\"contour\"}],\"heatmapgl\":[{\"colorbar\":{\"outlinewidth\":0,\"ticks\":\"\"},\"colorscale\":[[0.0,\"#0d0887\"],[0.1111111111111111,\"#46039f\"],[0.2222222222222222,\"#7201a8\"],[0.3333333333333333,\"#9c179e\"],[0.4444444444444444,\"#bd3786\"],[0.5555555555555556,\"#d8576b\"],[0.6666666666666666,\"#ed7953\"],[0.7777777777777778,\"#fb9f3a\"],[0.8888888888888888,\"#fdca26\"],[1.0,\"#f0f921\"]],\"type\":\"heatmapgl\"}],\"heatmap\":[{\"colorbar\":{\"outlinewidth\":0,\"ticks\":\"\"},\"colorscale\":[[0.0,\"#0d0887\"],[0.1111111111111111,\"#46039f\"],[0.2222222222222222,\"#7201a8\"],[0.3333333333333333,\"#9c179e\"],[0.4444444444444444,\"#bd3786\"],[0.5555555555555556,\"#d8576b\"],[0.6666666666666666,\"#ed7953\"],[0.7777777777777778,\"#fb9f3a\"],[0.8888888888888888,\"#fdca26\"],[1.0,\"#f0f921\"]],\"type\":\"heatmap\"}],\"histogram2dcontour\":[{\"colorbar\":{\"outlinewidth\":0,\"ticks\":\"\"},\"colorscale\":[[0.0,\"#0d0887\"],[0.1111111111111111,\"#46039f\"],[0.2222222222222222,\"#7201a8\"],[0.3333333333333333,\"#9c179e\"],[0.4444444444444444,\"#bd3786\"],[0.5555555555555556,\"#d8576b\"],[0.6666666666666666,\"#ed7953\"],[0.7777777777777778,\"#fb9f3a\"],[0.8888888888888888,\"#fdca26\"],[1.0,\"#f0f921\"]],\"type\":\"histogram2dcontour\"}],\"histogram2d\":[{\"colorbar\":{\"outlinewidth\":0,\"ticks\":\"\"},\"colorscale\":[[0.0,\"#0d0887\"],[0.1111111111111111,\"#46039f\"],[0.2222222222222222,\"#7201a8\"],[0.3333333333333333,\"#9c179e\"],[0.4444444444444444,\"#bd3786\"],[0.5555555555555556,\"#d8576b\"],[0.6666666666666666,\"#ed7953\"],[0.7777777777777778,\"#fb9f3a\"],[0.8888888888888888,\"#fdca26\"],[1.0,\"#f0f921\"]],\"type\":\"histogram2d\"}],\"histogram\":[{\"marker\":{\"pattern\":{\"fillmode\":\"overlay\",\"size\":10,\"solidity\":0.2}},\"type\":\"histogram\"}],\"mesh3d\":[{\"colorbar\":{\"outlinewidth\":0,\"ticks\":\"\"},\"type\":\"mesh3d\"}],\"parcoords\":[{\"line\":{\"colorbar\":{\"outlinewidth\":0,\"ticks\":\"\"}},\"type\":\"parcoords\"}],\"pie\":[{\"automargin\":true,\"type\":\"pie\"}],\"scatter3d\":[{\"line\":{\"colorbar\":{\"outlinewidth\":0,\"ticks\":\"\"}},\"marker\":{\"colorbar\":{\"outlinewidth\":0,\"ticks\":\"\"}},\"type\":\"scatter3d\"}],\"scattercarpet\":[{\"marker\":{\"colorbar\":{\"outlinewidth\":0,\"ticks\":\"\"}},\"type\":\"scattercarpet\"}],\"scattergeo\":[{\"marker\":{\"colorbar\":{\"outlinewidth\":0,\"ticks\":\"\"}},\"type\":\"scattergeo\"}],\"scattergl\":[{\"marker\":{\"colorbar\":{\"outlinewidth\":0,\"ticks\":\"\"}},\"type\":\"scattergl\"}],\"scattermapbox\":[{\"marker\":{\"colorbar\":{\"outlinewidth\":0,\"ticks\":\"\"}},\"type\":\"scattermapbox\"}],\"scatterpolargl\":[{\"marker\":{\"colorbar\":{\"outlinewidth\":0,\"ticks\":\"\"}},\"type\":\"scatterpolargl\"}],\"scatterpolar\":[{\"marker\":{\"colorbar\":{\"outlinewidth\":0,\"ticks\":\"\"}},\"type\":\"scatterpolar\"}],\"scatter\":[{\"marker\":{\"colorbar\":{\"outlinewidth\":0,\"ticks\":\"\"}},\"type\":\"scatter\"}],\"scatterternary\":[{\"marker\":{\"colorbar\":{\"outlinewidth\":0,\"ticks\":\"\"}},\"type\":\"scatterternary\"}],\"surface\":[{\"colorbar\":{\"outlinewidth\":0,\"ticks\":\"\"},\"colorscale\":[[0.0,\"#0d0887\"],[0.1111111111111111,\"#46039f\"],[0.2222222222222222,\"#7201a8\"],[0.3333333333333333,\"#9c179e\"],[0.4444444444444444,\"#bd3786\"],[0.5555555555555556,\"#d8576b\"],[0.6666666666666666,\"#ed7953\"],[0.7777777777777778,\"#fb9f3a\"],[0.8888888888888888,\"#fdca26\"],[1.0,\"#f0f921\"]],\"type\":\"surface\"}],\"table\":[{\"cells\":{\"fill\":{\"color\":\"#EBF0F8\"},\"line\":{\"color\":\"white\"}},\"header\":{\"fill\":{\"color\":\"#C8D4E3\"},\"line\":{\"color\":\"white\"}},\"type\":\"table\"}]},\"layout\":{\"annotationdefaults\":{\"arrowcolor\":\"#2a3f5f\",\"arrowhead\":0,\"arrowwidth\":1},\"autotypenumbers\":\"strict\",\"coloraxis\":{\"colorbar\":{\"outlinewidth\":0,\"ticks\":\"\"}},\"colorscale\":{\"diverging\":[[0,\"#8e0152\"],[0.1,\"#c51b7d\"],[0.2,\"#de77ae\"],[0.3,\"#f1b6da\"],[0.4,\"#fde0ef\"],[0.5,\"#f7f7f7\"],[0.6,\"#e6f5d0\"],[0.7,\"#b8e186\"],[0.8,\"#7fbc41\"],[0.9,\"#4d9221\"],[1,\"#276419\"]],\"sequential\":[[0.0,\"#0d0887\"],[0.1111111111111111,\"#46039f\"],[0.2222222222222222,\"#7201a8\"],[0.3333333333333333,\"#9c179e\"],[0.4444444444444444,\"#bd3786\"],[0.5555555555555556,\"#d8576b\"],[0.6666666666666666,\"#ed7953\"],[0.7777777777777778,\"#fb9f3a\"],[0.8888888888888888,\"#fdca26\"],[1.0,\"#f0f921\"]],\"sequentialminus\":[[0.0,\"#0d0887\"],[0.1111111111111111,\"#46039f\"],[0.2222222222222222,\"#7201a8\"],[0.3333333333333333,\"#9c179e\"],[0.4444444444444444,\"#bd3786\"],[0.5555555555555556,\"#d8576b\"],[0.6666666666666666,\"#ed7953\"],[0.7777777777777778,\"#fb9f3a\"],[0.8888888888888888,\"#fdca26\"],[1.0,\"#f0f921\"]]},\"colorway\":[\"#636efa\",\"#EF553B\",\"#00cc96\",\"#ab63fa\",\"#FFA15A\",\"#19d3f3\",\"#FF6692\",\"#B6E880\",\"#FF97FF\",\"#FECB52\"],\"font\":{\"color\":\"#2a3f5f\"},\"geo\":{\"bgcolor\":\"white\",\"lakecolor\":\"white\",\"landcolor\":\"white\",\"showlakes\":true,\"showland\":true,\"subunitcolor\":\"#C8D4E3\"},\"hoverlabel\":{\"align\":\"left\"},\"hovermode\":\"closest\",\"mapbox\":{\"style\":\"light\"},\"paper_bgcolor\":\"white\",\"plot_bgcolor\":\"white\",\"polar\":{\"angularaxis\":{\"gridcolor\":\"#EBF0F8\",\"linecolor\":\"#EBF0F8\",\"ticks\":\"\"},\"bgcolor\":\"white\",\"radialaxis\":{\"gridcolor\":\"#EBF0F8\",\"linecolor\":\"#EBF0F8\",\"ticks\":\"\"}},\"scene\":{\"xaxis\":{\"backgroundcolor\":\"white\",\"gridcolor\":\"#DFE8F3\",\"gridwidth\":2,\"linecolor\":\"#EBF0F8\",\"showbackground\":true,\"ticks\":\"\",\"zerolinecolor\":\"#EBF0F8\"},\"yaxis\":{\"backgroundcolor\":\"white\",\"gridcolor\":\"#DFE8F3\",\"gridwidth\":2,\"linecolor\":\"#EBF0F8\",\"showbackground\":true,\"ticks\":\"\",\"zerolinecolor\":\"#EBF0F8\"},\"zaxis\":{\"backgroundcolor\":\"white\",\"gridcolor\":\"#DFE8F3\",\"gridwidth\":2,\"linecolor\":\"#EBF0F8\",\"showbackground\":true,\"ticks\":\"\",\"zerolinecolor\":\"#EBF0F8\"}},\"shapedefaults\":{\"line\":{\"color\":\"#2a3f5f\"}},\"ternary\":{\"aaxis\":{\"gridcolor\":\"#DFE8F3\",\"linecolor\":\"#A2B1C6\",\"ticks\":\"\"},\"baxis\":{\"gridcolor\":\"#DFE8F3\",\"linecolor\":\"#A2B1C6\",\"ticks\":\"\"},\"bgcolor\":\"white\",\"caxis\":{\"gridcolor\":\"#DFE8F3\",\"linecolor\":\"#A2B1C6\",\"ticks\":\"\"}},\"title\":{\"x\":0.05},\"xaxis\":{\"automargin\":true,\"gridcolor\":\"#EBF0F8\",\"linecolor\":\"#EBF0F8\",\"ticks\":\"\",\"title\":{\"standoff\":15},\"zerolinecolor\":\"#EBF0F8\",\"zerolinewidth\":2},\"yaxis\":{\"automargin\":true,\"gridcolor\":\"#EBF0F8\",\"linecolor\":\"#EBF0F8\",\"ticks\":\"\",\"title\":{\"standoff\":15},\"zerolinecolor\":\"#EBF0F8\",\"zerolinewidth\":2}}},\"xaxis\":{\"anchor\":\"y\",\"domain\":[0.0,1.0],\"title\":{\"text\":\"Time\"},\"rangeslider\":{\"visible\":false}},\"yaxis\":{\"anchor\":\"x\",\"domain\":[0.0,1.0],\"title\":{\"text\":\"Number of trades every minute\"}},\"legend\":{\"tracegroupgap\":0},\"margin\":{\"t\":60},\"title\":{\"text\":\"Bitcoin Volume Traded\",\"y\":0.94,\"x\":0.5,\"xanchor\":\"center\",\"yanchor\":\"top\"},\"showlegend\":true},                        {\"responsive\": true}                    ).then(function(){\n",
       "                            \n",
       "var gd = document.getElementById('d5fb8d17-cb2f-4cad-b82c-0b5c618b2d29');\n",
       "var x = new MutationObserver(function (mutations, observer) {{\n",
       "        var display = window.getComputedStyle(gd).display;\n",
       "        if (!display || display === 'none') {{\n",
       "            console.log([gd, 'removed!']);\n",
       "            Plotly.purge(gd);\n",
       "            observer.disconnect();\n",
       "        }}\n",
       "}});\n",
       "\n",
       "// Listen for the removal of the full notebook cells\n",
       "var notebookContainer = gd.closest('#notebook-container');\n",
       "if (notebookContainer) {{\n",
       "    x.observe(notebookContainer, {childList: true});\n",
       "}}\n",
       "\n",
       "// Listen for the clearing of the current output cell\n",
       "var outputEl = gd.closest('.output');\n",
       "if (outputEl) {{\n",
       "    x.observe(outputEl, {childList: true});\n",
       "}}\n",
       "\n",
       "                        })                };                });            </script>        </div>"
      ]
     },
     "metadata": {},
     "output_type": "display_data"
    }
   ],
   "source": [
    "vol_traded(BTC_Data[-90:], \"Bitcoin\",color = \"blue\")"
   ]
  },
  {
   "cell_type": "markdown",
   "id": "ac4e05a8",
   "metadata": {},
   "source": [
    "<center id=\"ml-basic\">\n",
    "        <h2 style=\"color:#1a1a1a;\n",
    "                    font-size:2em\">\n",
    "        Approache avec les modèles de base du Machine Learning 🛠️\n",
    "        </h2>\n",
    "</center>"
   ]
  },
  {
   "cell_type": "markdown",
   "id": "d1a301c2",
   "metadata": {},
   "source": [
    "<div id=\"pre-processing\">\n",
    "        <h3 style=\"color:#1a1a1a;\n",
    "                    font-size:2em\">\n",
    "         ⮞  Pré-traitement\n",
    "        </h3>\n",
    "</div>"
   ]
  },
  {
   "cell_type": "code",
   "execution_count": 81,
   "id": "e9db171f",
   "metadata": {},
   "outputs": [],
   "source": [
    "from sklearn.model_selection import train_test_split"
   ]
  },
  {
   "cell_type": "markdown",
   "id": "2a39e785",
   "metadata": {},
   "source": [
    "<h4 style=\"color:grey\">Diviser les données</h4>"
   ]
  },
  {
   "cell_type": "markdown",
   "id": "34413278",
   "metadata": {},
   "source": [
    "\n",
    "\n",
    "<span style=\"color:grey; font-size:1.2em\">Nous commençons par définir la variable cible et les variables explicative, pui on va diviser notre jeu de données <b>80%</b> pour l'entraînement et <b>20%</b> pour le test.</span>"
   ]
  },
  {
   "cell_type": "code",
   "execution_count": 82,
   "id": "397f5f1e",
   "metadata": {},
   "outputs": [],
   "source": [
    "X=BTC_Data[['Open','Volume']]  # variables explicatives\n",
    "y=BTC_Data['Close'] # variable cible\n",
    "\n",
    "# diviser les données\n",
    "X_train, X_test, y_train, y_test = train_test_split(X,y, test_size=0.2)"
   ]
  },
  {
   "cell_type": "code",
   "execution_count": 85,
   "id": "877f93e0",
   "metadata": {},
   "outputs": [
    {
     "name": "stdout",
     "output_type": "stream",
     "text": [
      "la taille des données d'entraînement est:  608\n",
      "la taille d'échantillon du test est:  153\n"
     ]
    }
   ],
   "source": [
    "print(\"la taille des données d'entraînement est: \",X_train.shape[0])\n",
    "print(\"la taille d'échantillon du test est: \",X_test.shape[0])"
   ]
  },
  {
   "cell_type": "markdown",
   "id": "4d446286",
   "metadata": {},
   "source": [
    "<span style=\"color:grey; font-size:1.2em\">Traçons le <b>\"Adj Close\"</b> du Bitcoin</span>  \n"
   ]
  },
  {
   "cell_type": "markdown",
   "id": "144f2f9d",
   "metadata": {},
   "source": [
    "<div id=\"pre-processing\">\n",
    "        <h3 style=\"color:#1a1a1a;\n",
    "                    font-size:2em\">\n",
    "         ⮞  Construction des modèles\n",
    "        </h3>\n",
    "</div>"
   ]
  },
  {
   "cell_type": "code",
   "execution_count": 86,
   "id": "475c7d9f",
   "metadata": {},
   "outputs": [],
   "source": [
    "from sklearn.linear_model import LinearRegression"
   ]
  },
  {
   "cell_type": "markdown",
   "id": "6ab626b2",
   "metadata": {},
   "source": [
    "<span style=\"color:grey; font-size:1.2em\">Traçons le <b>\"Adj Close\"</b> du Bitcoin</span>  \n"
   ]
  },
  {
   "cell_type": "code",
   "execution_count": 87,
   "id": "65bf69db",
   "metadata": {},
   "outputs": [
    {
     "data": {
      "text/plain": [
       "LinearRegression()"
      ]
     },
     "execution_count": 87,
     "metadata": {},
     "output_type": "execute_result"
    }
   ],
   "source": [
    "reg=LinearRegression()\n",
    "#Training the model\n",
    "reg.fit(X_train,y_train)\n"
   ]
  },
  {
   "cell_type": "code",
   "execution_count": 91,
   "id": "bb324320",
   "metadata": {},
   "outputs": [],
   "source": [
    "#Testing the model\n",
    "LR_pred=reg.predict(X_test)"
   ]
  },
  {
   "cell_type": "markdown",
   "id": "c983e6c5",
   "metadata": {},
   "source": [
    "<div id=\"model-building\">\n",
    "        <h3 style=\"color:#1a1a1a;\n",
    "                    font-size:2em\">\n",
    "             ⮞  Evaluation des modèles\n",
    "        </h3>\n",
    "</div>"
   ]
  },
  {
   "cell_type": "markdown",
   "id": "7e7ae2a6",
   "metadata": {},
   "source": [
    "<span style=\"color:grey; font-size:1.2em\">Traçons le <b>\"Adj Close\"</b> du Bitcoin</span>  \n"
   ]
  },
  {
   "cell_type": "code",
   "execution_count": 102,
   "id": "a77bc7e7",
   "metadata": {},
   "outputs": [
    {
     "data": {
      "image/png": "[encoded data removed]",
      "text/plain": [
       "<Figure size 2160x720 with 1 Axes>"
      ]
     },
     "metadata": {
      "needs_background": "light"
     },
     "output_type": "display_data"
    }
   ],
   "source": [
    "#Plotting the real prices and predicted ones \n",
    "plt.figure(figsize=(30,10))\n",
    "plt.plot(LR_pred,label='pred',color='red')\n",
    "plt.plot(y_test,label='test',color='black')\n",
    "\n",
    "plt.legend(loc='best', fontsize=16)\n",
    "plt.show()"
   ]
  },
  {
   "cell_type": "markdown",
   "id": "d5afd1d6",
   "metadata": {},
   "source": [
    "<center id=\"model-eval\">\n",
    "        <h2 style=\"color:#1a1a1a;\n",
    "                    font-size:2em\">\n",
    "        Approache avec les séries chronologiques 📈\n",
    "        </h2>\n",
    "</center>"
   ]
  },
  {
   "cell_type": "code",
   "execution_count": null,
   "id": "89b5cfdf",
   "metadata": {},
   "outputs": [],
   "source": []
  }
 ],
 "metadata": {
  "kernelspec": {
   "display_name": "Python 3 (ipykernel)",
   "language": "python",
   "name": "python3"
  },
  "language_info": {
   "codemirror_mode": {
    "name": "ipython",
    "version": 3
   },
   "file_extension": ".py",
   "mimetype": "text/x-python",
   "name": "python",
   "nbconvert_exporter": "python",
   "pygments_lexer": "ipython3",
   "version": "3.9.7"
  }
 },
 "nbformat": 4,
 "nbformat_minor": 5
}
