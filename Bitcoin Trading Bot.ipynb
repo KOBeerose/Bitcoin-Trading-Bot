{
 "cells": [
  {
   "cell_type": "markdown",
   "id": "da045ba9",
   "metadata": {},
   "source": [
    "<center><h1 style=\"color:#1a1a1a;\n",
    "                    font-size:3em\">\n",
    "        Python pour 📊 Data Science\n",
    "        </h1> \n",
    "        <h2 style=\"color:#1a1a1a;\n",
    "                    font-size:2em\">\n",
    "        Mini-Projet: Bitcoin Trading 🤖 Bot.\n",
    "       </h2>\n",
    "</center>"
   ]
  },
  {
   "cell_type": "markdown",
   "id": "1d7e074d",
   "metadata": {},
   "source": [
    "<div style=\"font-size:1.3em\">\n",
    "    <span>\n",
    "    Réalisé par :¶\n",
    "    </span>\n",
    "      <ul>\n",
    "         <li>ELGHABI Taha</li>\n",
    "         <li>ELBATOURI Badr-eddine</li>\n",
    "      </ul>\n",
    "    <span>\n",
    "    Encadré par :¶\n",
    "    </span>\n",
    "      <ul>\n",
    "         <li>Pr. H.Laanaya</li>\n",
    "      </ul>\n",
    "</div>"
   ]
  },
  {
   "cell_type": "markdown",
   "id": "ffa11e25",
   "metadata": {},
   "source": [
    "<div style=\"font-size:1.5em\">\n",
    "    <p>📜 Table des matières:</p>\n",
    "    <ul>\n",
    "       <li>\n",
    "          <a href=\"#Intro-section\">Introduction 📖</a>\n",
    "          <ul>\n",
    "              <br>\n",
    "             <li><a href=\"#overview\">Aperçu</a></li>\n",
    "             <li><a href=\"#dataset\">Jeu de données</a></li>\n",
    "              <br>\n",
    "          </ul>\n",
    "       </li>\n",
    "       <li>\n",
    "          <a href=\"#Intro-section\"> 📖</a>\n",
    "          <ul>\n",
    "              <br>\n",
    "             <li><a href=\"#overview\">Aperçu</a></li>\n",
    "             <li><a href=\"#dataset\">Jeu de données</a></li>\n",
    "              <br>\n",
    "          </ul>\n",
    "       </li>\n",
    "       <li>\n",
    "          <a href=\"#Analysis-section\">Analyses et Transformations 🔎</a>\n",
    "          <ul>\n",
    "              <br>\n",
    "             <li><a href=\"#eda\">Exploration de données</a></li>\n",
    "             <li><a href=\"#trans\">Transformation de données</a></li>\n",
    "             <li><a href=\"#vis\">Visualisation de données</a></li>\n",
    "              <br>\n",
    "          </ul>\n",
    "       </li>\n",
    "       <li>\n",
    "          <a href=\"#ml-basic\">Approache avec les modèles de base du Machine Learning 🛠️</a>\n",
    "          <ul>\n",
    "              <br>\n",
    "             <li><a href=\"#pre-processing\">Pré-traitement</a></li>\n",
    "             <li><a href=\"#model-building\">Construction des modèles</a></li>\n",
    "             <li><a href=\"#model-eval\">Evaluation des modèles</a></li>\n",
    "              <br>\n",
    "          </ul>\n",
    "       </li>\n",
    "       <li>\n",
    "          <a href=\"#ts\">Approache avec les séries chronologiques 📈</a>\n",
    "          <ul>\n",
    "              <br>\n",
    "             <li><a href=\"#ml-basic\">Modèles de base du ML </a></li>\n",
    "             <li><a href=\"#ANN\">Réseaux de neurones artificiels (ANN)</a></li>\n",
    "             <li><a href=\"#word-embd\">Word Embedding</a></li>\n",
    "             <li><a href=\"#cnn\">Réseau de Neurones convolutifs (CNN) avec Embedding</a></li>\n",
    "              <br>\n",
    "          </ul>\n",
    "       </li>\n",
    "       <li><a href=\"#demo\">Une démo live 🧮</a></li><br>\n",
    "       <li><a href=\"#Conclusion\">Conclusion 📌</a></li>\n",
    "    </ul>\n",
    "</div>"
   ]
  },
  {
   "cell_type": "markdown",
   "id": "d811d2f6",
   "metadata": {
    "papermill": {
     "duration": 0.117683,
     "end_time": "2022-01-24T22:25:51.210562",
     "exception": false,
     "start_time": "2022-01-24T22:25:51.092879",
     "status": "completed"
    },
    "tags": []
   },
   "source": [
    "<center id=\"Intro-section\">\n",
    "        <h2 style=\"color:#1a1a1a;\n",
    "                    font-size:2em\">\n",
    "        Introduction 📖\n",
    "        </h2>\n",
    "</center>"
   ]
  },
  {
   "cell_type": "markdown",
   "id": "b4ce0eb7",
   "metadata": {
    "papermill": {
     "duration": 0.115857,
     "end_time": "2022-01-24T22:25:51.441546",
     "exception": false,
     "start_time": "2022-01-24T22:25:51.325689",
     "status": "completed"
    },
    "tags": []
   },
   "source": [
    "<div id=\"overview\">\n",
    "        <h3 style=\"color:#1a1a1a;\n",
    "                    font-size:2em\">\n",
    "         ⮞  Aperçu\n",
    "        </h3>\n",
    "</div>"
   ]
  },
  {
   "cell_type": "markdown",
   "id": "f87493cb",
   "metadata": {
    "papermill": {
     "duration": 0.115342,
     "end_time": "2022-01-24T22:25:51.672889",
     "exception": false,
     "start_time": "2022-01-24T22:25:51.557547",
     "status": "completed"
    },
    "tags": []
   },
   "source": [
    "<span style=\"color:grey; font-size:1.2em\">Dans le cadre de notre etude Ce projet qui vise a Utilisation des <b>réseaux multi-couches</b> pour l’analyse des <b>sentiments</b> des phrases issues d’une base d’exemples qui contient des phrases étiquetées avec un sentiment positif ou négatif.\n",
    "</span>"
   ]
  },
  {
   "cell_type": "markdown",
   "id": "94a27d0d",
   "metadata": {
    "papermill": {
     "duration": 0.115593,
     "end_time": "2022-01-24T22:25:51.903673",
     "exception": false,
     "start_time": "2022-01-24T22:25:51.788080",
     "status": "completed"
    },
    "tags": []
   },
   "source": [
    "<div id=\"dataset\">\n",
    "        <h3 style=\"color:#1a1a1a;\n",
    "                    font-size:2em\">\n",
    "         ⮞  Jeu de données\n",
    "        </h3>\n",
    "</div>"
   ]
  },
  {
   "cell_type": "markdown",
   "id": "13104547",
   "metadata": {
    "papermill": {
     "duration": 0.11635,
     "end_time": "2022-01-24T22:25:52.135284",
     "exception": false,
     "start_time": "2022-01-24T22:25:52.018934",
     "status": "completed"
    },
    "tags": []
   },
   "source": [
    "\n",
    "<span style=\"color:grey; font-size:1.2em\">La série qu'on va traiter est <b> la température moyenne de Delhi</b>. Notre jeu de données contient des données de météo de<b> 2013 à 2017 échantillonnées</b>  chaque mois ainsi que des caractéristiques météorologiques supplémentaires telles que la pression, l'humidité, etc.</span>Commentaires client\n"
   ]
  },
  {
   "cell_type": "markdown",
   "id": "3d65fbf5",
   "metadata": {
    "execution": {
     "iopub.execute_input": "2022-01-24T17:58:30.813618Z",
     "iopub.status.busy": "2022-01-24T17:58:30.812022Z",
     "iopub.status.idle": "2022-01-24T17:58:30.824348Z"
    },
    "papermill": {
     "duration": 0.116276,
     "end_time": "2022-01-24T22:25:52.365622",
     "exception": false,
     "start_time": "2022-01-24T22:25:52.249346",
     "status": "completed"
    },
    "tags": []
   },
   "source": [
    "<center id=\"Analysis-section\">\n",
    "        <h2 style=\"color:#1a1a1a;\n",
    "                    font-size:2em\">\n",
    "        Analyses et Transformations 🔎\n",
    "        </h2>\n",
    "</center>"
   ]
  },
  {
   "cell_type": "markdown",
   "id": "19488b1a",
   "metadata": {
    "execution": {
     "iopub.execute_input": "2022-01-24T18:29:39.022907Z",
     "iopub.status.busy": "2022-01-24T18:29:39.021213Z",
     "iopub.status.idle": "2022-01-24T18:29:39.034502Z"
    },
    "papermill": {
     "duration": 0.114006,
     "end_time": "2022-01-24T22:25:52.593667",
     "exception": false,
     "start_time": "2022-01-24T22:25:52.479661",
     "status": "completed"
    },
    "tags": []
   },
   "source": [
    "<div id=\"eda\">\n",
    "        <h3 style=\"color:#1a1a1a;\n",
    "                    font-size:2em\">\n",
    "         ⮞  Exploration de données\n",
    "        </h3>\n",
    "</div>"
   ]
  },
  {
   "cell_type": "markdown",
   "id": "eb97cbe9",
   "metadata": {
    "execution": {
     "iopub.execute_input": "2022-01-24T18:49:49.523647Z",
     "iopub.status.busy": "2022-01-24T18:49:49.518861Z",
     "iopub.status.idle": "2022-01-24T18:49:49.594606Z"
    },
    "papermill": {
     "duration": 0.117693,
     "end_time": "2022-01-24T22:25:52.825553",
     "exception": false,
     "start_time": "2022-01-24T22:25:52.707860",
     "status": "completed"
    },
    "tags": []
   },
   "source": [
    "<h4 style=\"color:grey\"> Importation de bibliothèques </h4>"
   ]
  },
  {
   "cell_type": "code",
   "execution_count": 71,
   "id": "6876158a",
   "metadata": {
    "_execution_state": "idle",
    "_uuid": "051d70d956493feee0c6d64651c6a088724dca2a",
    "execution": {
     "iopub.execute_input": "2022-01-24T22:25:53.700769Z",
     "iopub.status.busy": "2022-01-24T22:25:53.698076Z",
     "iopub.status.idle": "2022-01-24T22:25:54.624800Z",
     "shell.execute_reply": "2022-01-24T22:25:54.623797Z"
    },
    "papermill": {
     "duration": 1.04718,
     "end_time": "2022-01-24T22:25:54.624910",
     "exception": false,
     "start_time": "2022-01-24T22:25:53.577730",
     "status": "completed"
    },
    "scrolled": true,
    "tags": []
   },
   "outputs": [],
   "source": [
    "# importer les bibliothèques nécessaires\n",
    "import pandas as pd\n",
    "import numpy as np\n",
    "\n",
    "import matplotlib.pyplot as plt\n"
   ]
  },
  {
   "cell_type": "code",
   "execution_count": 2,
   "id": "daa9c434",
   "metadata": {},
   "outputs": [],
   "source": [
    "#  ignorer les avertissements\n",
    "import warnings\n",
    "\n",
    "warnings.filterwarnings(\"ignore\")"
   ]
  },
  {
   "cell_type": "markdown",
   "id": "12695d7f",
   "metadata": {
    "papermill": {
     "duration": 0.117787,
     "end_time": "2022-01-24T22:25:54.862444",
     "exception": false,
     "start_time": "2022-01-24T22:25:54.744657",
     "status": "completed"
    },
    "tags": []
   },
   "source": [
    "<span style=\"color:grey; font-size:1.2em\">Important nos jeu de données sous les fichier <b>amazon_cells_labelled.txt</b> content les , <b>imdb_labelled.txt</b> et <b>yelp_labelled.txt</b> content  <b>csv</b>.</span>"
   ]
  },
  {
   "cell_type": "code",
   "execution_count": 3,
   "id": "44f420f5",
   "metadata": {
    "execution": {
     "iopub.execute_input": "2022-01-24T22:25:55.100382Z",
     "iopub.status.busy": "2022-01-24T22:25:55.098458Z",
     "iopub.status.idle": "2022-01-24T22:25:55.134914Z",
     "shell.execute_reply": "2022-01-24T22:25:55.133327Z"
    },
    "papermill": {
     "duration": 0.1566,
     "end_time": "2022-01-24T22:25:55.135072",
     "exception": false,
     "start_time": "2022-01-24T22:25:54.978472",
     "status": "completed"
    },
    "tags": []
   },
   "outputs": [],
   "source": [
    "# Dataset d'amazon\n",
    "BTC_Data = pd.read_csv(\"Data/BTC-USD.csv\")"
   ]
  },
  {
   "cell_type": "markdown",
   "id": "f59a8d55",
   "metadata": {
    "papermill": {
     "duration": 0.121498,
     "end_time": "2022-01-24T22:25:55.387049",
     "exception": false,
     "start_time": "2022-01-24T22:25:55.265551",
     "status": "completed"
    },
    "tags": []
   },
   "source": [
    "<h4 style=\"color:grey\"> Explorant notre jeu de données </h4>"
   ]
  },
  {
   "cell_type": "code",
   "execution_count": 4,
   "id": "5217df97",
   "metadata": {
    "execution": {
     "iopub.execute_input": "2022-01-24T22:25:55.638744Z",
     "iopub.status.busy": "2022-01-24T22:25:55.636403Z",
     "iopub.status.idle": "2022-01-24T22:25:55.674496Z",
     "shell.execute_reply": "2022-01-24T22:25:55.672428Z"
    },
    "papermill": {
     "duration": 0.163141,
     "end_time": "2022-01-24T22:25:55.674611",
     "exception": false,
     "start_time": "2022-01-24T22:25:55.511470",
     "status": "completed"
    },
    "scrolled": false,
    "tags": []
   },
   "outputs": [
    {
     "data": {
      "text/html": [
       "<div>\n",
       "<style scoped>\n",
       "    .dataframe tbody tr th:only-of-type {\n",
       "        vertical-align: middle;\n",
       "    }\n",
       "\n",
       "    .dataframe tbody tr th {\n",
       "        vertical-align: top;\n",
       "    }\n",
       "\n",
       "    .dataframe thead th {\n",
       "        text-align: right;\n",
       "    }\n",
       "</style>\n",
       "<table border=\"1\" class=\"dataframe\">\n",
       "  <thead>\n",
       "    <tr style=\"text-align: right;\">\n",
       "      <th></th>\n",
       "      <th>Date</th>\n",
       "      <th>Open</th>\n",
       "      <th>High</th>\n",
       "      <th>Low</th>\n",
       "      <th>Close</th>\n",
       "      <th>Adj Close</th>\n",
       "      <th>Volume</th>\n",
       "    </tr>\n",
       "  </thead>\n",
       "  <tbody>\n",
       "    <tr>\n",
       "      <th>0</th>\n",
       "      <td>2015-01-01</td>\n",
       "      <td>320.434998</td>\n",
       "      <td>320.434998</td>\n",
       "      <td>314.002991</td>\n",
       "      <td>314.248993</td>\n",
       "      <td>314.248993</td>\n",
       "      <td>8036550</td>\n",
       "    </tr>\n",
       "    <tr>\n",
       "      <th>1</th>\n",
       "      <td>2015-01-02</td>\n",
       "      <td>314.079010</td>\n",
       "      <td>315.838989</td>\n",
       "      <td>313.565002</td>\n",
       "      <td>315.032013</td>\n",
       "      <td>315.032013</td>\n",
       "      <td>7860650</td>\n",
       "    </tr>\n",
       "    <tr>\n",
       "      <th>2</th>\n",
       "      <td>2015-01-03</td>\n",
       "      <td>314.846008</td>\n",
       "      <td>315.149994</td>\n",
       "      <td>281.082001</td>\n",
       "      <td>281.082001</td>\n",
       "      <td>281.082001</td>\n",
       "      <td>33054400</td>\n",
       "    </tr>\n",
       "    <tr>\n",
       "      <th>3</th>\n",
       "      <td>2015-01-04</td>\n",
       "      <td>281.145996</td>\n",
       "      <td>287.230011</td>\n",
       "      <td>257.612000</td>\n",
       "      <td>264.195007</td>\n",
       "      <td>264.195007</td>\n",
       "      <td>55629100</td>\n",
       "    </tr>\n",
       "    <tr>\n",
       "      <th>4</th>\n",
       "      <td>2015-01-05</td>\n",
       "      <td>265.084015</td>\n",
       "      <td>278.341003</td>\n",
       "      <td>265.084015</td>\n",
       "      <td>274.473999</td>\n",
       "      <td>274.473999</td>\n",
       "      <td>43962800</td>\n",
       "    </tr>\n",
       "  </tbody>\n",
       "</table>\n",
       "</div>"
      ],
      "text/plain": [
       "         Date        Open        High         Low       Close   Adj Close  \\\n",
       "0  2015-01-01  320.434998  320.434998  314.002991  314.248993  314.248993   \n",
       "1  2015-01-02  314.079010  315.838989  313.565002  315.032013  315.032013   \n",
       "2  2015-01-03  314.846008  315.149994  281.082001  281.082001  281.082001   \n",
       "3  2015-01-04  281.145996  287.230011  257.612000  264.195007  264.195007   \n",
       "4  2015-01-05  265.084015  278.341003  265.084015  274.473999  274.473999   \n",
       "\n",
       "     Volume  \n",
       "0   8036550  \n",
       "1   7860650  \n",
       "2  33054400  \n",
       "3  55629100  \n",
       "4  43962800  "
      ]
     },
     "execution_count": 4,
     "metadata": {},
     "output_type": "execute_result"
    }
   ],
   "source": [
    "BTC_Data.head()"
   ]
  },
  {
   "cell_type": "code",
   "execution_count": 5,
   "id": "1b571ae7",
   "metadata": {},
   "outputs": [
    {
     "data": {
      "text/html": [
       "<div>\n",
       "<style scoped>\n",
       "    .dataframe tbody tr th:only-of-type {\n",
       "        vertical-align: middle;\n",
       "    }\n",
       "\n",
       "    .dataframe tbody tr th {\n",
       "        vertical-align: top;\n",
       "    }\n",
       "\n",
       "    .dataframe thead th {\n",
       "        text-align: right;\n",
       "    }\n",
       "</style>\n",
       "<table border=\"1\" class=\"dataframe\">\n",
       "  <thead>\n",
       "    <tr style=\"text-align: right;\">\n",
       "      <th></th>\n",
       "      <th>Date</th>\n",
       "      <th>Open</th>\n",
       "      <th>High</th>\n",
       "      <th>Low</th>\n",
       "      <th>Close</th>\n",
       "      <th>Adj Close</th>\n",
       "      <th>Volume</th>\n",
       "    </tr>\n",
       "  </thead>\n",
       "  <tbody>\n",
       "    <tr>\n",
       "      <th>2582</th>\n",
       "      <td>2022-01-26</td>\n",
       "      <td>36950.515625</td>\n",
       "      <td>38825.410156</td>\n",
       "      <td>36374.906250</td>\n",
       "      <td>36852.121094</td>\n",
       "      <td>36852.121094</td>\n",
       "      <td>31324598034</td>\n",
       "    </tr>\n",
       "    <tr>\n",
       "      <th>2583</th>\n",
       "      <td>2022-01-27</td>\n",
       "      <td>36841.878906</td>\n",
       "      <td>37148.324219</td>\n",
       "      <td>35629.281250</td>\n",
       "      <td>37138.234375</td>\n",
       "      <td>37138.234375</td>\n",
       "      <td>25041426629</td>\n",
       "    </tr>\n",
       "    <tr>\n",
       "      <th>2584</th>\n",
       "      <td>2022-01-28</td>\n",
       "      <td>37128.445313</td>\n",
       "      <td>37952.878906</td>\n",
       "      <td>36211.109375</td>\n",
       "      <td>37784.332031</td>\n",
       "      <td>37784.332031</td>\n",
       "      <td>22238830523</td>\n",
       "    </tr>\n",
       "    <tr>\n",
       "      <th>2585</th>\n",
       "      <td>2022-01-29</td>\n",
       "      <td>37780.714844</td>\n",
       "      <td>38576.261719</td>\n",
       "      <td>37406.472656</td>\n",
       "      <td>38138.179688</td>\n",
       "      <td>38138.179688</td>\n",
       "      <td>17194183075</td>\n",
       "    </tr>\n",
       "    <tr>\n",
       "      <th>2586</th>\n",
       "      <td>2022-01-30</td>\n",
       "      <td>38141.054688</td>\n",
       "      <td>38257.039063</td>\n",
       "      <td>37445.589844</td>\n",
       "      <td>37658.375000</td>\n",
       "      <td>37658.375000</td>\n",
       "      <td>15078688768</td>\n",
       "    </tr>\n",
       "  </tbody>\n",
       "</table>\n",
       "</div>"
      ],
      "text/plain": [
       "            Date          Open          High           Low         Close  \\\n",
       "2582  2022-01-26  36950.515625  38825.410156  36374.906250  36852.121094   \n",
       "2583  2022-01-27  36841.878906  37148.324219  35629.281250  37138.234375   \n",
       "2584  2022-01-28  37128.445313  37952.878906  36211.109375  37784.332031   \n",
       "2585  2022-01-29  37780.714844  38576.261719  37406.472656  38138.179688   \n",
       "2586  2022-01-30  38141.054688  38257.039063  37445.589844  37658.375000   \n",
       "\n",
       "         Adj Close       Volume  \n",
       "2582  36852.121094  31324598034  \n",
       "2583  37138.234375  25041426629  \n",
       "2584  37784.332031  22238830523  \n",
       "2585  38138.179688  17194183075  \n",
       "2586  37658.375000  15078688768  "
      ]
     },
     "execution_count": 5,
     "metadata": {},
     "output_type": "execute_result"
    }
   ],
   "source": [
    "BTC_Data.tail()"
   ]
  }
 ],
 "metadata": {
  "kernelspec": {
   "display_name": "Python 3 (ipykernel)",
   "language": "python",
   "name": "python3"
  },
  "language_info": {
   "codemirror_mode": {
    "name": "ipython",
    "version": 3
   },
   "file_extension": ".py",
   "mimetype": "text/x-python",
   "name": "python",
   "nbconvert_exporter": "python",
   "pygments_lexer": "ipython3",
   "version": "3.9.7"
  }
 },
 "nbformat": 4,
 "nbformat_minor": 5
}
